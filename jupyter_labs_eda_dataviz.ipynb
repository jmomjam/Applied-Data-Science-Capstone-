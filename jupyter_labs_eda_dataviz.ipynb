{
  "cells": [
    {
      "cell_type": "markdown",
      "metadata": {
        "id": "view-in-github",
        "colab_type": "text"
      },
      "source": [
        "<a href=\"https://colab.research.google.com/github/jmomjam/Applied-Data-Science-Capstone-/blob/main/jupyter_labs_eda_dataviz.ipynb\" target=\"_parent\"><img src=\"https://colab.research.google.com/assets/colab-badge.svg\" alt=\"Open In Colab\"/></a>"
      ]
    },
    {
      "cell_type": "markdown",
      "metadata": {
        "id": "SODSgr7XJk8B"
      },
      "source": [
        "<p style=\"text-align:center\">\n",
        "    <a href=\"https://skills.network/?utm_medium=Exinfluencer&utm_source=Exinfluencer&utm_content=000026UJ&utm_term=10006555&utm_id=NA-SkillsNetwork-Channel-SkillsNetworkCoursesIBMDS0321ENSkillsNetwork26802033-2022-01-01\" target=\"_blank\">\n",
        "    <img src=\"https://cf-courses-data.s3.us.cloud-object-storage.appdomain.cloud/assets/logos/SN_web_lightmode.png\" width=\"200\" alt=\"Skills Network Logo\"  />\n",
        "    </a>\n",
        "</p>\n"
      ]
    },
    {
      "cell_type": "markdown",
      "metadata": {
        "id": "QrKGjMSXJk8G"
      },
      "source": [
        "# **SpaceX  Falcon 9 First Stage Landing Prediction**\n"
      ]
    },
    {
      "cell_type": "markdown",
      "metadata": {
        "id": "XbLknHbYJk8H"
      },
      "source": [
        "## Assignment: Exploring and Preparing Data\n"
      ]
    },
    {
      "cell_type": "markdown",
      "metadata": {
        "id": "19s4tmeqJk8I"
      },
      "source": [
        "Estimated time needed: **70** minutes\n"
      ]
    },
    {
      "cell_type": "markdown",
      "metadata": {
        "id": "pfGfahvgJk8I"
      },
      "source": [
        "In this assignment, we will predict if the Falcon 9 first stage will land successfully. SpaceX advertises Falcon 9 rocket launches on its website with a cost of 62 million dollars; other providers cost upward of 165 million dollars each, much of the savings is due to the fact that SpaceX can reuse the first stage.\n",
        "\n",
        "In this lab, you will perform Exploratory Data Analysis and Feature Engineering.\n"
      ]
    },
    {
      "cell_type": "markdown",
      "metadata": {
        "id": "63HhheykJk8J"
      },
      "source": [
        "Falcon 9 first stage will land successfully\n"
      ]
    },
    {
      "cell_type": "markdown",
      "metadata": {
        "id": "eSWbfNCDJk8K"
      },
      "source": [
        "![](https://cf-courses-data.s3.us.cloud-object-storage.appdomain.cloud/IBMDeveloperSkillsNetwork-DS0701EN-SkillsNetwork/api/Images/landing\\_1.gif)\n"
      ]
    },
    {
      "cell_type": "markdown",
      "metadata": {
        "id": "fCEsl_L9Jk8L"
      },
      "source": [
        "Several examples of an unsuccessful landing are shown here:\n"
      ]
    },
    {
      "cell_type": "markdown",
      "metadata": {
        "id": "q9ekkAEjJk8L"
      },
      "source": [
        "![](https://cf-courses-data.s3.us.cloud-object-storage.appdomain.cloud/IBMDeveloperSkillsNetwork-DS0701EN-SkillsNetwork/api/Images/crash.gif)\n"
      ]
    },
    {
      "cell_type": "markdown",
      "metadata": {
        "id": "hTfPUvpqJk8M"
      },
      "source": [
        "Most unsuccessful landings are planned. Space X performs a controlled landing in the oceans.\n"
      ]
    },
    {
      "cell_type": "markdown",
      "metadata": {
        "id": "X_v1qdZQJk8N"
      },
      "source": [
        "## Objectives\n",
        "\n",
        "Perform exploratory Data Analysis and Feature Engineering using `Pandas` and `Matplotlib`\n",
        "\n",
        "*   Exploratory Data Analysis\n",
        "*   Preparing Data  Feature Engineering\n"
      ]
    },
    {
      "cell_type": "markdown",
      "metadata": {
        "id": "gbdCgHkdJk8O"
      },
      "source": [
        "***\n"
      ]
    },
    {
      "cell_type": "markdown",
      "metadata": {
        "id": "soBKOBwJJk8Q"
      },
      "source": [
        "### Import Libraries and Define Auxiliary Functions\n"
      ]
    },
    {
      "cell_type": "markdown",
      "metadata": {
        "id": "WXNNywdaJk8Q"
      },
      "source": [
        "We will import the following libraries the lab\n"
      ]
    },
    {
      "cell_type": "code",
      "execution_count": null,
      "metadata": {
        "id": "8DFah4C-Jk8R"
      },
      "outputs": [],
      "source": [
        "# andas is a software library written for the Python programming language for data manipulation and analysis.\n",
        "import pandas as pd\n",
        "#NumPy is a library for the Python programming language, adding support for large, multi-dimensional arrays and matrices, along with a large collection of high-level mathematical functions to operate on these arrays\n",
        "import numpy as np\n",
        "# Matplotlib is a plotting library for python and pyplot gives us a MatLab like plotting framework. We will use this in our plotter function to plot data.\n",
        "import matplotlib.pyplot as plt\n",
        "#Seaborn is a Python data visualization library based on matplotlib. It provides a high-level interface for drawing attractive and informative statistical graphics\n",
        "import seaborn as sns\n",
        "from google.colab import data_table\n",
        "data_table.enable_dataframe_formatter()"
      ]
    },
    {
      "cell_type": "markdown",
      "metadata": {
        "id": "lgobAWAOJk8T"
      },
      "source": [
        "## Exploratory Data Analysis\n"
      ]
    },
    {
      "cell_type": "markdown",
      "metadata": {
        "id": "oTBV5UYJJk8U"
      },
      "source": [
        "First, let's read the SpaceX dataset into a Pandas dataframe and print its summary\n"
      ]
    },
    {
      "cell_type": "code",
      "execution_count": null,
      "metadata": {
        "colab": {
          "base_uri": "https://localhost:8080/",
          "height": 297
        },
        "id": "jvcuKpGOJk8U",
        "outputId": "0fa82abc-57a9-4a96-a677-a8f621636783"
      },
      "outputs": [
        {
          "output_type": "execute_result",
          "data": {
            "text/plain": [
              "   FlightNumber        Date BoosterVersion  PayloadMass Orbit    LaunchSite  \\\n",
              "0             1  2010-06-04       Falcon 9  6104.959412   LEO  CCAFS SLC 40   \n",
              "1             2  2012-05-22       Falcon 9   525.000000   LEO  CCAFS SLC 40   \n",
              "2             3  2013-03-01       Falcon 9   677.000000   ISS  CCAFS SLC 40   \n",
              "3             4  2013-09-29       Falcon 9   500.000000    PO   VAFB SLC 4E   \n",
              "4             5  2013-12-03       Falcon 9  3170.000000   GTO  CCAFS SLC 40   \n",
              "\n",
              "       Outcome  Flights  GridFins  Reused   Legs LandingPad  Block  \\\n",
              "0    None None        1     False   False  False        NaN    1.0   \n",
              "1    None None        1     False   False  False        NaN    1.0   \n",
              "2    None None        1     False   False  False        NaN    1.0   \n",
              "3  False Ocean        1     False   False  False        NaN    1.0   \n",
              "4    None None        1     False   False  False        NaN    1.0   \n",
              "\n",
              "   ReusedCount Serial   Longitude   Latitude  Class  \n",
              "0            0  B0003  -80.577366  28.561857      0  \n",
              "1            0  B0005  -80.577366  28.561857      0  \n",
              "2            0  B0007  -80.577366  28.561857      0  \n",
              "3            0  B1003 -120.610829  34.632093      0  \n",
              "4            0  B1004  -80.577366  28.561857      0  "
            ],
            "text/html": [
              "\n",
              "  <div id=\"df-d381cc5d-b535-4169-af76-76260453d8b4\">\n",
              "    <div class=\"colab-df-container\">\n",
              "      <div>\n",
              "<style scoped>\n",
              "    .dataframe tbody tr th:only-of-type {\n",
              "        vertical-align: middle;\n",
              "    }\n",
              "\n",
              "    .dataframe tbody tr th {\n",
              "        vertical-align: top;\n",
              "    }\n",
              "\n",
              "    .dataframe thead th {\n",
              "        text-align: right;\n",
              "    }\n",
              "</style>\n",
              "<table border=\"1\" class=\"dataframe\">\n",
              "  <thead>\n",
              "    <tr style=\"text-align: right;\">\n",
              "      <th></th>\n",
              "      <th>FlightNumber</th>\n",
              "      <th>Date</th>\n",
              "      <th>BoosterVersion</th>\n",
              "      <th>PayloadMass</th>\n",
              "      <th>Orbit</th>\n",
              "      <th>LaunchSite</th>\n",
              "      <th>Outcome</th>\n",
              "      <th>Flights</th>\n",
              "      <th>GridFins</th>\n",
              "      <th>Reused</th>\n",
              "      <th>Legs</th>\n",
              "      <th>LandingPad</th>\n",
              "      <th>Block</th>\n",
              "      <th>ReusedCount</th>\n",
              "      <th>Serial</th>\n",
              "      <th>Longitude</th>\n",
              "      <th>Latitude</th>\n",
              "      <th>Class</th>\n",
              "    </tr>\n",
              "  </thead>\n",
              "  <tbody>\n",
              "    <tr>\n",
              "      <th>0</th>\n",
              "      <td>1</td>\n",
              "      <td>2010-06-04</td>\n",
              "      <td>Falcon 9</td>\n",
              "      <td>6104.959412</td>\n",
              "      <td>LEO</td>\n",
              "      <td>CCAFS SLC 40</td>\n",
              "      <td>None None</td>\n",
              "      <td>1</td>\n",
              "      <td>False</td>\n",
              "      <td>False</td>\n",
              "      <td>False</td>\n",
              "      <td>NaN</td>\n",
              "      <td>1.0</td>\n",
              "      <td>0</td>\n",
              "      <td>B0003</td>\n",
              "      <td>-80.577366</td>\n",
              "      <td>28.561857</td>\n",
              "      <td>0</td>\n",
              "    </tr>\n",
              "    <tr>\n",
              "      <th>1</th>\n",
              "      <td>2</td>\n",
              "      <td>2012-05-22</td>\n",
              "      <td>Falcon 9</td>\n",
              "      <td>525.000000</td>\n",
              "      <td>LEO</td>\n",
              "      <td>CCAFS SLC 40</td>\n",
              "      <td>None None</td>\n",
              "      <td>1</td>\n",
              "      <td>False</td>\n",
              "      <td>False</td>\n",
              "      <td>False</td>\n",
              "      <td>NaN</td>\n",
              "      <td>1.0</td>\n",
              "      <td>0</td>\n",
              "      <td>B0005</td>\n",
              "      <td>-80.577366</td>\n",
              "      <td>28.561857</td>\n",
              "      <td>0</td>\n",
              "    </tr>\n",
              "    <tr>\n",
              "      <th>2</th>\n",
              "      <td>3</td>\n",
              "      <td>2013-03-01</td>\n",
              "      <td>Falcon 9</td>\n",
              "      <td>677.000000</td>\n",
              "      <td>ISS</td>\n",
              "      <td>CCAFS SLC 40</td>\n",
              "      <td>None None</td>\n",
              "      <td>1</td>\n",
              "      <td>False</td>\n",
              "      <td>False</td>\n",
              "      <td>False</td>\n",
              "      <td>NaN</td>\n",
              "      <td>1.0</td>\n",
              "      <td>0</td>\n",
              "      <td>B0007</td>\n",
              "      <td>-80.577366</td>\n",
              "      <td>28.561857</td>\n",
              "      <td>0</td>\n",
              "    </tr>\n",
              "    <tr>\n",
              "      <th>3</th>\n",
              "      <td>4</td>\n",
              "      <td>2013-09-29</td>\n",
              "      <td>Falcon 9</td>\n",
              "      <td>500.000000</td>\n",
              "      <td>PO</td>\n",
              "      <td>VAFB SLC 4E</td>\n",
              "      <td>False Ocean</td>\n",
              "      <td>1</td>\n",
              "      <td>False</td>\n",
              "      <td>False</td>\n",
              "      <td>False</td>\n",
              "      <td>NaN</td>\n",
              "      <td>1.0</td>\n",
              "      <td>0</td>\n",
              "      <td>B1003</td>\n",
              "      <td>-120.610829</td>\n",
              "      <td>34.632093</td>\n",
              "      <td>0</td>\n",
              "    </tr>\n",
              "    <tr>\n",
              "      <th>4</th>\n",
              "      <td>5</td>\n",
              "      <td>2013-12-03</td>\n",
              "      <td>Falcon 9</td>\n",
              "      <td>3170.000000</td>\n",
              "      <td>GTO</td>\n",
              "      <td>CCAFS SLC 40</td>\n",
              "      <td>None None</td>\n",
              "      <td>1</td>\n",
              "      <td>False</td>\n",
              "      <td>False</td>\n",
              "      <td>False</td>\n",
              "      <td>NaN</td>\n",
              "      <td>1.0</td>\n",
              "      <td>0</td>\n",
              "      <td>B1004</td>\n",
              "      <td>-80.577366</td>\n",
              "      <td>28.561857</td>\n",
              "      <td>0</td>\n",
              "    </tr>\n",
              "  </tbody>\n",
              "</table>\n",
              "</div>\n",
              "      <button class=\"colab-df-convert\" onclick=\"convertToInteractive('df-d381cc5d-b535-4169-af76-76260453d8b4')\"\n",
              "              title=\"Convert this dataframe to an interactive table.\"\n",
              "              style=\"display:none;\">\n",
              "        \n",
              "  <svg xmlns=\"http://www.w3.org/2000/svg\" height=\"24px\"viewBox=\"0 0 24 24\"\n",
              "       width=\"24px\">\n",
              "    <path d=\"M0 0h24v24H0V0z\" fill=\"none\"/>\n",
              "    <path d=\"M18.56 5.44l.94 2.06.94-2.06 2.06-.94-2.06-.94-.94-2.06-.94 2.06-2.06.94zm-11 1L8.5 8.5l.94-2.06 2.06-.94-2.06-.94L8.5 2.5l-.94 2.06-2.06.94zm10 10l.94 2.06.94-2.06 2.06-.94-2.06-.94-.94-2.06-.94 2.06-2.06.94z\"/><path d=\"M17.41 7.96l-1.37-1.37c-.4-.4-.92-.59-1.43-.59-.52 0-1.04.2-1.43.59L10.3 9.45l-7.72 7.72c-.78.78-.78 2.05 0 2.83L4 21.41c.39.39.9.59 1.41.59.51 0 1.02-.2 1.41-.59l7.78-7.78 2.81-2.81c.8-.78.8-2.07 0-2.86zM5.41 20L4 18.59l7.72-7.72 1.47 1.35L5.41 20z\"/>\n",
              "  </svg>\n",
              "      </button>\n",
              "      \n",
              "  <style>\n",
              "    .colab-df-container {\n",
              "      display:flex;\n",
              "      flex-wrap:wrap;\n",
              "      gap: 12px;\n",
              "    }\n",
              "\n",
              "    .colab-df-convert {\n",
              "      background-color: #E8F0FE;\n",
              "      border: none;\n",
              "      border-radius: 50%;\n",
              "      cursor: pointer;\n",
              "      display: none;\n",
              "      fill: #1967D2;\n",
              "      height: 32px;\n",
              "      padding: 0 0 0 0;\n",
              "      width: 32px;\n",
              "    }\n",
              "\n",
              "    .colab-df-convert:hover {\n",
              "      background-color: #E2EBFA;\n",
              "      box-shadow: 0px 1px 2px rgba(60, 64, 67, 0.3), 0px 1px 3px 1px rgba(60, 64, 67, 0.15);\n",
              "      fill: #174EA6;\n",
              "    }\n",
              "\n",
              "    [theme=dark] .colab-df-convert {\n",
              "      background-color: #3B4455;\n",
              "      fill: #D2E3FC;\n",
              "    }\n",
              "\n",
              "    [theme=dark] .colab-df-convert:hover {\n",
              "      background-color: #434B5C;\n",
              "      box-shadow: 0px 1px 3px 1px rgba(0, 0, 0, 0.15);\n",
              "      filter: drop-shadow(0px 1px 2px rgba(0, 0, 0, 0.3));\n",
              "      fill: #FFFFFF;\n",
              "    }\n",
              "  </style>\n",
              "\n",
              "      <script>\n",
              "        const buttonEl =\n",
              "          document.querySelector('#df-d381cc5d-b535-4169-af76-76260453d8b4 button.colab-df-convert');\n",
              "        buttonEl.style.display =\n",
              "          google.colab.kernel.accessAllowed ? 'block' : 'none';\n",
              "\n",
              "        async function convertToInteractive(key) {\n",
              "          const element = document.querySelector('#df-d381cc5d-b535-4169-af76-76260453d8b4');\n",
              "          const dataTable =\n",
              "            await google.colab.kernel.invokeFunction('convertToInteractive',\n",
              "                                                     [key], {});\n",
              "          if (!dataTable) return;\n",
              "\n",
              "          const docLinkHtml = 'Like what you see? Visit the ' +\n",
              "            '<a target=\"_blank\" href=https://colab.research.google.com/notebooks/data_table.ipynb>data table notebook</a>'\n",
              "            + ' to learn more about interactive tables.';\n",
              "          element.innerHTML = '';\n",
              "          dataTable['output_type'] = 'display_data';\n",
              "          await google.colab.output.renderOutput(dataTable, element);\n",
              "          const docLink = document.createElement('div');\n",
              "          docLink.innerHTML = docLinkHtml;\n",
              "          element.appendChild(docLink);\n",
              "        }\n",
              "      </script>\n",
              "    </div>\n",
              "  </div>\n",
              "  "
            ],
            "application/vnd.google.colaboratory.module+javascript": "\n      import \"https://ssl.gstatic.com/colaboratory/data_table/a8bd4d5e58f96183/data_table.js\";\n\n      window.createDataTable({\n        data: [[{\n            'v': 0,\n            'f': \"0\",\n        },\n{\n            'v': 1,\n            'f': \"1\",\n        },\n\"2010-06-04\",\n\"Falcon 9\",\n{\n            'v': 6104.959411764706,\n            'f': \"6104.959411764706\",\n        },\n\"LEO\",\n\"CCAFS SLC 40\",\n\"None None\",\n{\n            'v': 1,\n            'f': \"1\",\n        },\nfalse,\nfalse,\nfalse,\n{\n            'v': NaN,\n            'f': \"NaN\",\n        },\n{\n            'v': 1.0,\n            'f': \"1.0\",\n        },\n{\n            'v': 0,\n            'f': \"0\",\n        },\n\"B0003\",\n{\n            'v': -80.577366,\n            'f': \"-80.577366\",\n        },\n{\n            'v': 28.5618571,\n            'f': \"28.5618571\",\n        },\n{\n            'v': 0,\n            'f': \"0\",\n        }],\n [{\n            'v': 1,\n            'f': \"1\",\n        },\n{\n            'v': 2,\n            'f': \"2\",\n        },\n\"2012-05-22\",\n\"Falcon 9\",\n{\n            'v': 525.0,\n            'f': \"525.0\",\n        },\n\"LEO\",\n\"CCAFS SLC 40\",\n\"None None\",\n{\n            'v': 1,\n            'f': \"1\",\n        },\nfalse,\nfalse,\nfalse,\n{\n            'v': NaN,\n            'f': \"NaN\",\n        },\n{\n            'v': 1.0,\n            'f': \"1.0\",\n        },\n{\n            'v': 0,\n            'f': \"0\",\n        },\n\"B0005\",\n{\n            'v': -80.577366,\n            'f': \"-80.577366\",\n        },\n{\n            'v': 28.5618571,\n            'f': \"28.5618571\",\n        },\n{\n            'v': 0,\n            'f': \"0\",\n        }],\n [{\n            'v': 2,\n            'f': \"2\",\n        },\n{\n            'v': 3,\n            'f': \"3\",\n        },\n\"2013-03-01\",\n\"Falcon 9\",\n{\n            'v': 677.0,\n            'f': \"677.0\",\n        },\n\"ISS\",\n\"CCAFS SLC 40\",\n\"None None\",\n{\n            'v': 1,\n            'f': \"1\",\n        },\nfalse,\nfalse,\nfalse,\n{\n            'v': NaN,\n            'f': \"NaN\",\n        },\n{\n            'v': 1.0,\n            'f': \"1.0\",\n        },\n{\n            'v': 0,\n            'f': \"0\",\n        },\n\"B0007\",\n{\n            'v': -80.577366,\n            'f': \"-80.577366\",\n        },\n{\n            'v': 28.5618571,\n            'f': \"28.5618571\",\n        },\n{\n            'v': 0,\n            'f': \"0\",\n        }],\n [{\n            'v': 3,\n            'f': \"3\",\n        },\n{\n            'v': 4,\n            'f': \"4\",\n        },\n\"2013-09-29\",\n\"Falcon 9\",\n{\n            'v': 500.0,\n            'f': \"500.0\",\n        },\n\"PO\",\n\"VAFB SLC 4E\",\n\"False Ocean\",\n{\n            'v': 1,\n            'f': \"1\",\n        },\nfalse,\nfalse,\nfalse,\n{\n            'v': NaN,\n            'f': \"NaN\",\n        },\n{\n            'v': 1.0,\n            'f': \"1.0\",\n        },\n{\n            'v': 0,\n            'f': \"0\",\n        },\n\"B1003\",\n{\n            'v': -120.610829,\n            'f': \"-120.610829\",\n        },\n{\n            'v': 34.632093,\n            'f': \"34.632093\",\n        },\n{\n            'v': 0,\n            'f': \"0\",\n        }],\n [{\n            'v': 4,\n            'f': \"4\",\n        },\n{\n            'v': 5,\n            'f': \"5\",\n        },\n\"2013-12-03\",\n\"Falcon 9\",\n{\n            'v': 3170.0,\n            'f': \"3170.0\",\n        },\n\"GTO\",\n\"CCAFS SLC 40\",\n\"None None\",\n{\n            'v': 1,\n            'f': \"1\",\n        },\nfalse,\nfalse,\nfalse,\n{\n            'v': NaN,\n            'f': \"NaN\",\n        },\n{\n            'v': 1.0,\n            'f': \"1.0\",\n        },\n{\n            'v': 0,\n            'f': \"0\",\n        },\n\"B1004\",\n{\n            'v': -80.577366,\n            'f': \"-80.577366\",\n        },\n{\n            'v': 28.5618571,\n            'f': \"28.5618571\",\n        },\n{\n            'v': 0,\n            'f': \"0\",\n        }]],\n        columns: [[\"number\", \"index\"], [\"number\", \"FlightNumber\"], [\"string\", \"Date\"], [\"string\", \"BoosterVersion\"], [\"number\", \"PayloadMass\"], [\"string\", \"Orbit\"], [\"string\", \"LaunchSite\"], [\"string\", \"Outcome\"], [\"number\", \"Flights\"], [\"string\", \"GridFins\"], [\"string\", \"Reused\"], [\"string\", \"Legs\"], [\"number\", \"LandingPad\"], [\"number\", \"Block\"], [\"number\", \"ReusedCount\"], [\"string\", \"Serial\"], [\"number\", \"Longitude\"], [\"number\", \"Latitude\"], [\"number\", \"Class\"]],\n        columnOptions: [{\"width\": \"1px\", \"className\": \"index_column\"}],\n        rowsPerPage: 25,\n        helpUrl: \"https://colab.research.google.com/notebooks/data_table.ipynb\",\n        suppressOutputScrolling: true,\n        minimumWidth: undefined,\n      });\n    "
          },
          "metadata": {},
          "execution_count": 21
        }
      ],
      "source": [
        "df=pd.read_csv(\"https://cf-courses-data.s3.us.cloud-object-storage.appdomain.cloud/IBM-DS0321EN-SkillsNetwork/datasets/dataset_part_2.csv\")\n",
        "\n",
        "# If you were unable to complete the previous lab correctly you can uncomment and load this csv\n",
        "\n",
        "# df = pd.read_csv('https://cf-courses-data.s3.us.cloud-object-storage.appdomain.cloud/IBMDeveloperSkillsNetwork-DS0701EN-SkillsNetwork/api/dataset_part_2.csv')\n",
        "\n",
        "df.head(5)"
      ]
    },
    {
      "cell_type": "markdown",
      "metadata": {
        "id": "Rxytd0QRJk8V"
      },
      "source": [
        "First, let's try to see how the `FlightNumber` (indicating the continuous launch attempts.) and `Payload` variables would affect the launch outcome.\n",
        "\n",
        "We can plot out the <code>FlightNumber</code> vs. <code>PayloadMass</code>and overlay the outcome of the launch. We see that as the flight number increases, the first stage is more likely to land successfully. The payload mass is also important; it seems the more massive the payload, the less likely the first stage will return.\n"
      ]
    },
    {
      "cell_type": "code",
      "execution_count": null,
      "metadata": {
        "colab": {
          "base_uri": "https://localhost:8080/",
          "height": 260
        },
        "id": "Ax5xYteHJk8V",
        "outputId": "48d0f070-b602-4ea7-f816-64cce45a40a2"
      },
      "outputs": [
        {
          "output_type": "display_data",
          "data": {
            "text/plain": [
              "<Figure size 1842.38x360 with 1 Axes>"
            ],
            "image/png": "[encoded data removed]"
          },
          "metadata": {
            "needs_background": "light"
          }
        }
      ],
      "source": [
        "sns.catplot(y=\"PayloadMass\", x=\"FlightNumber\", hue=\"Class\", data=df, aspect = 5)\n",
        "plt.xlabel(\"Flight Number\",fontsize=20)\n",
        "plt.ylabel(\"Pay load Mass (kg)\",fontsize=20)\n",
        "plt.show()"
      ]
    },
    {
      "cell_type": "markdown",
      "metadata": {
        "id": "IbYJalQ7Jk8W"
      },
      "source": [
        "We see that different launch sites have different success rates.  <code>CCAFS LC-40</code>, has a success rate of 60 %, while  <code>KSC LC-39A</code> and <code>VAFB SLC 4E</code> has a success rate of 77%.\n"
      ]
    },
    {
      "cell_type": "markdown",
      "metadata": {
        "id": "vmnD2F-0Jk8W"
      },
      "source": [
        "Next, let's drill down to each site visualize its detailed launch records.\n"
      ]
    },
    {
      "cell_type": "markdown",
      "metadata": {
        "id": "hwhZqrd5Jk8X"
      },
      "source": [
        "### TASK 1: Visualize the relationship between Flight Number and Launch Site\n"
      ]
    },
    {
      "cell_type": "markdown",
      "metadata": {
        "id": "JQCu6FuhJk8X"
      },
      "source": [
        "Use the function <code>catplot</code> to plot <code>FlightNumber</code> vs <code>LaunchSite</code>, set the  parameter <code>x</code>  parameter to <code>FlightNumber</code>,set the  <code>y</code> to <code>Launch Site</code> and set the parameter <code>hue</code> to <code>'class'</code>\n"
      ]
    },
    {
      "cell_type": "code",
      "execution_count": null,
      "metadata": {
        "colab": {
          "base_uri": "https://localhost:8080/",
          "height": 260
        },
        "id": "rTwt5NXMJk8Y",
        "outputId": "10dd5fd3-ff44-496d-e1c9-c6280aaa04d5"
      },
      "outputs": [
        {
          "output_type": "display_data",
          "data": {
            "text/plain": [
              "<Figure size 1842.38x360 with 1 Axes>"
            ],
            "image/png": "[encoded data removed]"
          },
          "metadata": {
            "needs_background": "light"
          }
        }
      ],
      "source": [
        "# Plot a scatter point chart with x axis to be Flight Number and y axis to be the launch site, and hue to be the class value\n",
        "sns.catplot(y=\"LaunchSite\", x=\"FlightNumber\", hue=\"Class\", data=df, aspect = 5)\n",
        "plt.xlabel(\"Flight Number\",fontsize=20)\n",
        "plt.ylabel(\"Launch Site\",fontsize=20)\n",
        "plt.show() \n"
      ]
    },
    {
      "cell_type": "markdown",
      "metadata": {
        "id": "d1DtJQhUJk8Y"
      },
      "source": [
        "Now try to explain the patterns you found in the Flight Number vs. Launch Site scatter point plots.\n"
      ]
    },
    {
      "cell_type": "markdown",
      "metadata": {
        "id": "AdYEfPVaJk8Z"
      },
      "source": [
        "### TASK 2: Visualize the relationship between Payload and Launch Site\n"
      ]
    },
    {
      "cell_type": "markdown",
      "metadata": {
        "id": "Yd1HPQ_7Jk8a"
      },
      "source": [
        "We also want to observe if there is any relationship between launch sites and their payload mass.\n"
      ]
    },
    {
      "cell_type": "code",
      "execution_count": null,
      "metadata": {
        "colab": {
          "base_uri": "https://localhost:8080/",
          "height": 260
        },
        "id": "n5T8CDjXJk8a",
        "outputId": "8e5d6c9f-a110-4ef1-91c1-abdb40d14818"
      },
      "outputs": [
        {
          "output_type": "display_data",
          "data": {
            "text/plain": [
              "<Figure size 1842.38x360 with 1 Axes>"
            ],
            "image/png": "[encoded data removed]"
          },
          "metadata": {
            "needs_background": "light"
          }
        }
      ],
      "source": [
        "# Plot a scatter point chart with x axis to be Pay Load Mass (kg) and y axis to be the launch site, and hue to be the class value\n",
        "sns.catplot(y=\"PayloadMass\", x=\"LaunchSite\", hue=\"Class\", data=df, aspect = 5)\n",
        "plt.xlabel(\"Launch Site\",fontsize=20)\n",
        "plt.ylabel(\"Pay load Mass (kg)\",fontsize=20)\n",
        "plt.show()\n"
      ]
    },
    {
      "cell_type": "markdown",
      "metadata": {
        "id": "ww-bmWOIJk8a"
      },
      "source": [
        "Now if you observe Payload Vs. Launch Site scatter point chart you will find for the VAFB-SLC  launchsite there are no  rockets  launched for  heavypayload mass(greater than 10000).\n"
      ]
    },
    {
      "cell_type": "markdown",
      "metadata": {
        "id": "pjHUcV2JJk8b"
      },
      "source": [
        "### TASK  3: Visualize the relationship between success rate of each orbit type\n"
      ]
    },
    {
      "cell_type": "markdown",
      "metadata": {
        "id": "U_IAJE6fJk8b"
      },
      "source": [
        "Next, we want to visually check if there are any relationship between success rate and orbit type.\n"
      ]
    },
    {
      "cell_type": "code",
      "source": [
        "df_barchar=df.groupby('Orbit')['Class'].mean()\n",
        "#df_barchar['Success Rate']=df\n",
        "df_barchar=pd.DataFrame(df_barchar)\n",
        "df_barchar\n"
      ],
      "metadata": {
        "colab": {
          "base_uri": "https://localhost:8080/",
          "height": 327
        },
        "id": "wdZJcy15Wht5",
        "outputId": "f7e2f0d9-f82a-46e5-f607-16f196c7e78e"
      },
      "execution_count": null,
      "outputs": [
        {
          "output_type": "execute_result",
          "data": {
            "text/plain": [
              "          Class\n",
              "Orbit          \n",
              "ES-L1  1.000000\n",
              "GEO    1.000000\n",
              "GTO    0.518519\n",
              "HEO    1.000000\n",
              "ISS    0.619048\n",
              "LEO    0.714286\n",
              "MEO    0.666667\n",
              "PO     0.666667\n",
              "SO     0.000000\n",
              "SSO    1.000000\n",
              "VLEO   0.857143"
            ],
            "text/html": [
              "\n",
              "  <div id=\"df-c5ccc892-02b4-4b87-a270-7b18e0e152ac\">\n",
              "    <div class=\"colab-df-container\">\n",
              "      <div>\n",
              "<style scoped>\n",
              "    .dataframe tbody tr th:only-of-type {\n",
              "        vertical-align: middle;\n",
              "    }\n",
              "\n",
              "    .dataframe tbody tr th {\n",
              "        vertical-align: top;\n",
              "    }\n",
              "\n",
              "    .dataframe thead th {\n",
              "        text-align: right;\n",
              "    }\n",
              "</style>\n",
              "<table border=\"1\" class=\"dataframe\">\n",
              "  <thead>\n",
              "    <tr style=\"text-align: right;\">\n",
              "      <th></th>\n",
              "      <th>Class</th>\n",
              "    </tr>\n",
              "    <tr>\n",
              "      <th>Orbit</th>\n",
              "      <th></th>\n",
              "    </tr>\n",
              "  </thead>\n",
              "  <tbody>\n",
              "    <tr>\n",
              "      <th>ES-L1</th>\n",
              "      <td>1.000000</td>\n",
              "    </tr>\n",
              "    <tr>\n",
              "      <th>GEO</th>\n",
              "      <td>1.000000</td>\n",
              "    </tr>\n",
              "    <tr>\n",
              "      <th>GTO</th>\n",
              "      <td>0.518519</td>\n",
              "    </tr>\n",
              "    <tr>\n",
              "      <th>HEO</th>\n",
              "      <td>1.000000</td>\n",
              "    </tr>\n",
              "    <tr>\n",
              "      <th>ISS</th>\n",
              "      <td>0.619048</td>\n",
              "    </tr>\n",
              "    <tr>\n",
              "      <th>LEO</th>\n",
              "      <td>0.714286</td>\n",
              "    </tr>\n",
              "    <tr>\n",
              "      <th>MEO</th>\n",
              "      <td>0.666667</td>\n",
              "    </tr>\n",
              "    <tr>\n",
              "      <th>PO</th>\n",
              "      <td>0.666667</td>\n",
              "    </tr>\n",
              "    <tr>\n",
              "      <th>SO</th>\n",
              "      <td>0.000000</td>\n",
              "    </tr>\n",
              "    <tr>\n",
              "      <th>SSO</th>\n",
              "      <td>1.000000</td>\n",
              "    </tr>\n",
              "    <tr>\n",
              "      <th>VLEO</th>\n",
              "      <td>0.857143</td>\n",
              "    </tr>\n",
              "  </tbody>\n",
              "</table>\n",
              "</div>\n",
              "      <button class=\"colab-df-convert\" onclick=\"convertToInteractive('df-c5ccc892-02b4-4b87-a270-7b18e0e152ac')\"\n",
              "              title=\"Convert this dataframe to an interactive table.\"\n",
              "              style=\"display:none;\">\n",
              "        \n",
              "  <svg xmlns=\"http://www.w3.org/2000/svg\" height=\"24px\"viewBox=\"0 0 24 24\"\n",
              "       width=\"24px\">\n",
              "    <path d=\"M0 0h24v24H0V0z\" fill=\"none\"/>\n",
              "    <path d=\"M18.56 5.44l.94 2.06.94-2.06 2.06-.94-2.06-.94-.94-2.06-.94 2.06-2.06.94zm-11 1L8.5 8.5l.94-2.06 2.06-.94-2.06-.94L8.5 2.5l-.94 2.06-2.06.94zm10 10l.94 2.06.94-2.06 2.06-.94-2.06-.94-.94-2.06-.94 2.06-2.06.94z\"/><path d=\"M17.41 7.96l-1.37-1.37c-.4-.4-.92-.59-1.43-.59-.52 0-1.04.2-1.43.59L10.3 9.45l-7.72 7.72c-.78.78-.78 2.05 0 2.83L4 21.41c.39.39.9.59 1.41.59.51 0 1.02-.2 1.41-.59l7.78-7.78 2.81-2.81c.8-.78.8-2.07 0-2.86zM5.41 20L4 18.59l7.72-7.72 1.47 1.35L5.41 20z\"/>\n",
              "  </svg>\n",
              "      </button>\n",
              "      \n",
              "  <style>\n",
              "    .colab-df-container {\n",
              "      display:flex;\n",
              "      flex-wrap:wrap;\n",
              "      gap: 12px;\n",
              "    }\n",
              "\n",
              "    .colab-df-convert {\n",
              "      background-color: #E8F0FE;\n",
              "      border: none;\n",
              "      border-radius: 50%;\n",
              "      cursor: pointer;\n",
              "      display: none;\n",
              "      fill: #1967D2;\n",
              "      height: 32px;\n",
              "      padding: 0 0 0 0;\n",
              "      width: 32px;\n",
              "    }\n",
              "\n",
              "    .colab-df-convert:hover {\n",
              "      background-color: #E2EBFA;\n",
              "      box-shadow: 0px 1px 2px rgba(60, 64, 67, 0.3), 0px 1px 3px 1px rgba(60, 64, 67, 0.15);\n",
              "      fill: #174EA6;\n",
              "    }\n",
              "\n",
              "    [theme=dark] .colab-df-convert {\n",
              "      background-color: #3B4455;\n",
              "      fill: #D2E3FC;\n",
              "    }\n",
              "\n",
              "    [theme=dark] .colab-df-convert:hover {\n",
              "      background-color: #434B5C;\n",
              "      box-shadow: 0px 1px 3px 1px rgba(0, 0, 0, 0.15);\n",
              "      filter: drop-shadow(0px 1px 2px rgba(0, 0, 0, 0.3));\n",
              "      fill: #FFFFFF;\n",
              "    }\n",
              "  </style>\n",
              "\n",
              "      <script>\n",
              "        const buttonEl =\n",
              "          document.querySelector('#df-c5ccc892-02b4-4b87-a270-7b18e0e152ac button.colab-df-convert');\n",
              "        buttonEl.style.display =\n",
              "          google.colab.kernel.accessAllowed ? 'block' : 'none';\n",
              "\n",
              "        async function convertToInteractive(key) {\n",
              "          const element = document.querySelector('#df-c5ccc892-02b4-4b87-a270-7b18e0e152ac');\n",
              "          const dataTable =\n",
              "            await google.colab.kernel.invokeFunction('convertToInteractive',\n",
              "                                                     [key], {});\n",
              "          if (!dataTable) return;\n",
              "\n",
              "          const docLinkHtml = 'Like what you see? Visit the ' +\n",
              "            '<a target=\"_blank\" href=https://colab.research.google.com/notebooks/data_table.ipynb>data table notebook</a>'\n",
              "            + ' to learn more about interactive tables.';\n",
              "          element.innerHTML = '';\n",
              "          dataTable['output_type'] = 'display_data';\n",
              "          await google.colab.output.renderOutput(dataTable, element);\n",
              "          const docLink = document.createElement('div');\n",
              "          docLink.innerHTML = docLinkHtml;\n",
              "          element.appendChild(docLink);\n",
              "        }\n",
              "      </script>\n",
              "    </div>\n",
              "  </div>\n",
              "  "
            ],
            "application/vnd.google.colaboratory.module+javascript": "\n      import \"https://ssl.gstatic.com/colaboratory/data_table/a8bd4d5e58f96183/data_table.js\";\n\n      window.createDataTable({\n        data: [[\"ES-L1\",\n{\n            'v': 1.0,\n            'f': \"1.0\",\n        }],\n [\"GEO\",\n{\n            'v': 1.0,\n            'f': \"1.0\",\n        }],\n [\"GTO\",\n{\n            'v': 0.5185185185185185,\n            'f': \"0.5185185185185185\",\n        }],\n [\"HEO\",\n{\n            'v': 1.0,\n            'f': \"1.0\",\n        }],\n [\"ISS\",\n{\n            'v': 0.6190476190476191,\n            'f': \"0.6190476190476191\",\n        }],\n [\"LEO\",\n{\n            'v': 0.7142857142857143,\n            'f': \"0.7142857142857143\",\n        }],\n [\"MEO\",\n{\n            'v': 0.6666666666666666,\n            'f': \"0.6666666666666666\",\n        }],\n [\"PO\",\n{\n            'v': 0.6666666666666666,\n            'f': \"0.6666666666666666\",\n        }],\n [\"SO\",\n{\n            'v': 0.0,\n            'f': \"0.0\",\n        }],\n [\"SSO\",\n{\n            'v': 1.0,\n            'f': \"1.0\",\n        }],\n [\"VLEO\",\n{\n            'v': 0.8571428571428571,\n            'f': \"0.8571428571428571\",\n        }]],\n        columns: [[\"string\", \"Orbit\"], [\"number\", \"Class\"]],\n        columnOptions: [{\"width\": \"1px\", \"className\": \"index_column\"}],\n        rowsPerPage: 25,\n        helpUrl: \"https://colab.research.google.com/notebooks/data_table.ipynb\",\n        suppressOutputScrolling: true,\n        minimumWidth: undefined,\n      });\n    "
          },
          "metadata": {},
          "execution_count": 39
        }
      ]
    },
    {
      "cell_type": "markdown",
      "metadata": {
        "id": "PodEHwSNJk8b"
      },
      "source": [
        "Let's create a `bar chart` for the sucess rate of each orbit\n"
      ]
    },
    {
      "cell_type": "code",
      "execution_count": null,
      "metadata": {
        "colab": {
          "base_uri": "https://localhost:8080/",
          "height": 422
        },
        "id": "__PSN2BzJk8c",
        "outputId": "a9aa9e96-6118-4c70-99b1-59ef1abdedea"
      },
      "outputs": [
        {
          "output_type": "display_data",
          "data": {
            "text/plain": [
              "<Figure size 720x432 with 1 Axes>"
            ],
            "image/png": "[encoded data removed]"
          },
          "metadata": {
            "needs_background": "light"
          }
        }
      ],
      "source": [
        "# HINT use groupby method on Orbit column and get the mean of Class column\n",
        "df_barchar.plot(kind='bar', figsize=(10, 6))\n",
        "\n",
        "plt.xlabel('Orbit') # add to x-label to the plot\n",
        "plt.ylabel('Success Rate') # add y-label to the plot\n",
        "plt.title('Success Rate for each orbit') # add title to the plot\n",
        "\n",
        "plt.show()\n"
      ]
    },
    {
      "cell_type": "markdown",
      "metadata": {
        "id": "XQU7ifwQJk8c"
      },
      "source": [
        "Analyze the ploted bar chart try to find which orbits have high sucess rate.\n"
      ]
    },
    {
      "cell_type": "markdown",
      "metadata": {
        "id": "wZeDO-PRJk8d"
      },
      "source": [
        "### TASK  4: Visualize the relationship between FlightNumber and Orbit type\n"
      ]
    },
    {
      "cell_type": "markdown",
      "metadata": {
        "id": "EJLn6xiOJk8d"
      },
      "source": [
        "For each orbit, we want to see if there is any relationship between FlightNumber and Orbit type.\n"
      ]
    },
    {
      "cell_type": "code",
      "execution_count": null,
      "metadata": {
        "colab": {
          "base_uri": "https://localhost:8080/",
          "height": 260
        },
        "id": "KH-dcW0DJk8d",
        "outputId": "bba9149c-37f5-4f4b-ac84-c7a001973515"
      },
      "outputs": [
        {
          "output_type": "display_data",
          "data": {
            "text/plain": [
              "<Figure size 1842.38x360 with 1 Axes>"
            ],
            "image/png": "[encoded data removed]"
          },
          "metadata": {
            "needs_background": "light"
          }
        }
      ],
      "source": [
        "# Plot a scatter point chart with x axis to be FlightNumber and y axis to be the Orbit, and hue to be the class value\n",
        "sns.catplot(y=\"Orbit\", x=\"FlightNumber\", hue=\"Class\", data=df, aspect = 5)\n",
        "plt.xlabel(\"Flight Number\",fontsize=20)\n",
        "plt.ylabel(\"Orbit\",fontsize=20)\n",
        "plt.show() \n"
      ]
    },
    {
      "cell_type": "markdown",
      "metadata": {
        "id": "-s2JUj5vJk8e"
      },
      "source": [
        "You should see that in the LEO orbit the Success appears related to the number of flights; on the other hand, there seems to be no relationship between flight number when in GTO orbit.\n"
      ]
    },
    {
      "cell_type": "markdown",
      "metadata": {
        "id": "v4moYCS5Jk8f"
      },
      "source": [
        "### TASK  5: Visualize the relationship between Payload and Orbit type\n"
      ]
    },
    {
      "cell_type": "markdown",
      "metadata": {
        "id": "Iz9Lz3J0Jk8g"
      },
      "source": [
        "Similarly, we can plot the Payload vs. Orbit scatter point charts to reveal the relationship between Payload and Orbit type\n"
      ]
    },
    {
      "cell_type": "code",
      "execution_count": null,
      "metadata": {
        "colab": {
          "base_uri": "https://localhost:8080/",
          "height": 260
        },
        "id": "O-O8UcZuJk8g",
        "outputId": "d1729970-22f0-4562-d941-fda2da3c3baa"
      },
      "outputs": [
        {
          "output_type": "display_data",
          "data": {
            "text/plain": [
              "<Figure size 1842.38x360 with 1 Axes>"
            ],
            "image/png": "[encoded data removed]"
          },
          "metadata": {
            "needs_background": "light"
          }
        }
      ],
      "source": [
        "# Plot a scatter point chart with x axis to be Payload and y axis to be the Orbit, and hue to be the class value\n",
        "sns.catplot(y=\"Orbit\", x=\"PayloadMass\", hue=\"Class\", data=df, aspect = 5)\n",
        "plt.xlabel(\"PayloadMas\",fontsize=20)\n",
        "plt.ylabel(\"Orbit\",fontsize=20)\n",
        "plt.show() \n"
      ]
    },
    {
      "cell_type": "markdown",
      "metadata": {
        "id": "IRE5JO8QJk8h"
      },
      "source": [
        "With heavy payloads the successful landing or positive landing rate are more for Polar,LEO and ISS.\n",
        "\n",
        "However for GTO we cannot distinguish this well as both positive landing rate and negative landing(unsuccessful mission) are both there here.\n"
      ]
    },
    {
      "cell_type": "markdown",
      "metadata": {
        "id": "jedz0_tTJk8i"
      },
      "source": [
        "### TASK  6: Visualize the launch success yearly trend\n"
      ]
    },
    {
      "cell_type": "markdown",
      "metadata": {
        "id": "zua4FHzhJk8j"
      },
      "source": [
        "You can plot a line chart with x axis to be <code>Year</code> and y axis to be average success rate, to get the average launch success trend.\n"
      ]
    },
    {
      "cell_type": "markdown",
      "metadata": {
        "id": "rMMKDkJlJk8j"
      },
      "source": [
        "The function will help you get the year from the date:\n"
      ]
    },
    {
      "cell_type": "code",
      "execution_count": null,
      "metadata": {
        "colab": {
          "base_uri": "https://localhost:8080/",
          "height": 305
        },
        "id": "nBdqqtH3Jk8k",
        "outputId": "fa005589-e974-45e3-fdd4-be8f59e6b2df"
      },
      "outputs": [
        {
          "output_type": "execute_result",
          "data": {
            "text/plain": [
              "      Success Rate\n",
              "Year              \n",
              "2010      0.000000\n",
              "2012      0.000000\n",
              "2013      0.000000\n",
              "2014      0.333333\n",
              "2015      0.333333\n",
              "2016      0.625000\n",
              "2017      0.833333\n",
              "2018      0.611111\n",
              "2019      0.900000\n",
              "2020      0.842105"
            ],
            "text/html": [
              "\n",
              "  <div id=\"df-1e9586e8-4cea-4f73-9868-a6aca89f5769\">\n",
              "    <div class=\"colab-df-container\">\n",
              "      <div>\n",
              "<style scoped>\n",
              "    .dataframe tbody tr th:only-of-type {\n",
              "        vertical-align: middle;\n",
              "    }\n",
              "\n",
              "    .dataframe tbody tr th {\n",
              "        vertical-align: top;\n",
              "    }\n",
              "\n",
              "    .dataframe thead th {\n",
              "        text-align: right;\n",
              "    }\n",
              "</style>\n",
              "<table border=\"1\" class=\"dataframe\">\n",
              "  <thead>\n",
              "    <tr style=\"text-align: right;\">\n",
              "      <th></th>\n",
              "      <th>Success Rate</th>\n",
              "    </tr>\n",
              "    <tr>\n",
              "      <th>Year</th>\n",
              "      <th></th>\n",
              "    </tr>\n",
              "  </thead>\n",
              "  <tbody>\n",
              "    <tr>\n",
              "      <th>2010</th>\n",
              "      <td>0.000000</td>\n",
              "    </tr>\n",
              "    <tr>\n",
              "      <th>2012</th>\n",
              "      <td>0.000000</td>\n",
              "    </tr>\n",
              "    <tr>\n",
              "      <th>2013</th>\n",
              "      <td>0.000000</td>\n",
              "    </tr>\n",
              "    <tr>\n",
              "      <th>2014</th>\n",
              "      <td>0.333333</td>\n",
              "    </tr>\n",
              "    <tr>\n",
              "      <th>2015</th>\n",
              "      <td>0.333333</td>\n",
              "    </tr>\n",
              "    <tr>\n",
              "      <th>2016</th>\n",
              "      <td>0.625000</td>\n",
              "    </tr>\n",
              "    <tr>\n",
              "      <th>2017</th>\n",
              "      <td>0.833333</td>\n",
              "    </tr>\n",
              "    <tr>\n",
              "      <th>2018</th>\n",
              "      <td>0.611111</td>\n",
              "    </tr>\n",
              "    <tr>\n",
              "      <th>2019</th>\n",
              "      <td>0.900000</td>\n",
              "    </tr>\n",
              "    <tr>\n",
              "      <th>2020</th>\n",
              "      <td>0.842105</td>\n",
              "    </tr>\n",
              "  </tbody>\n",
              "</table>\n",
              "</div>\n",
              "      <button class=\"colab-df-convert\" onclick=\"convertToInteractive('df-1e9586e8-4cea-4f73-9868-a6aca89f5769')\"\n",
              "              title=\"Convert this dataframe to an interactive table.\"\n",
              "              style=\"display:none;\">\n",
              "        \n",
              "  <svg xmlns=\"http://www.w3.org/2000/svg\" height=\"24px\"viewBox=\"0 0 24 24\"\n",
              "       width=\"24px\">\n",
              "    <path d=\"M0 0h24v24H0V0z\" fill=\"none\"/>\n",
              "    <path d=\"M18.56 5.44l.94 2.06.94-2.06 2.06-.94-2.06-.94-.94-2.06-.94 2.06-2.06.94zm-11 1L8.5 8.5l.94-2.06 2.06-.94-2.06-.94L8.5 2.5l-.94 2.06-2.06.94zm10 10l.94 2.06.94-2.06 2.06-.94-2.06-.94-.94-2.06-.94 2.06-2.06.94z\"/><path d=\"M17.41 7.96l-1.37-1.37c-.4-.4-.92-.59-1.43-.59-.52 0-1.04.2-1.43.59L10.3 9.45l-7.72 7.72c-.78.78-.78 2.05 0 2.83L4 21.41c.39.39.9.59 1.41.59.51 0 1.02-.2 1.41-.59l7.78-7.78 2.81-2.81c.8-.78.8-2.07 0-2.86zM5.41 20L4 18.59l7.72-7.72 1.47 1.35L5.41 20z\"/>\n",
              "  </svg>\n",
              "      </button>\n",
              "      \n",
              "  <style>\n",
              "    .colab-df-container {\n",
              "      display:flex;\n",
              "      flex-wrap:wrap;\n",
              "      gap: 12px;\n",
              "    }\n",
              "\n",
              "    .colab-df-convert {\n",
              "      background-color: #E8F0FE;\n",
              "      border: none;\n",
              "      border-radius: 50%;\n",
              "      cursor: pointer;\n",
              "      display: none;\n",
              "      fill: #1967D2;\n",
              "      height: 32px;\n",
              "      padding: 0 0 0 0;\n",
              "      width: 32px;\n",
              "    }\n",
              "\n",
              "    .colab-df-convert:hover {\n",
              "      background-color: #E2EBFA;\n",
              "      box-shadow: 0px 1px 2px rgba(60, 64, 67, 0.3), 0px 1px 3px 1px rgba(60, 64, 67, 0.15);\n",
              "      fill: #174EA6;\n",
              "    }\n",
              "\n",
              "    [theme=dark] .colab-df-convert {\n",
              "      background-color: #3B4455;\n",
              "      fill: #D2E3FC;\n",
              "    }\n",
              "\n",
              "    [theme=dark] .colab-df-convert:hover {\n",
              "      background-color: #434B5C;\n",
              "      box-shadow: 0px 1px 3px 1px rgba(0, 0, 0, 0.15);\n",
              "      filter: drop-shadow(0px 1px 2px rgba(0, 0, 0, 0.3));\n",
              "      fill: #FFFFFF;\n",
              "    }\n",
              "  </style>\n",
              "\n",
              "      <script>\n",
              "        const buttonEl =\n",
              "          document.querySelector('#df-1e9586e8-4cea-4f73-9868-a6aca89f5769 button.colab-df-convert');\n",
              "        buttonEl.style.display =\n",
              "          google.colab.kernel.accessAllowed ? 'block' : 'none';\n",
              "\n",
              "        async function convertToInteractive(key) {\n",
              "          const element = document.querySelector('#df-1e9586e8-4cea-4f73-9868-a6aca89f5769');\n",
              "          const dataTable =\n",
              "            await google.colab.kernel.invokeFunction('convertToInteractive',\n",
              "                                                     [key], {});\n",
              "          if (!dataTable) return;\n",
              "\n",
              "          const docLinkHtml = 'Like what you see? Visit the ' +\n",
              "            '<a target=\"_blank\" href=https://colab.research.google.com/notebooks/data_table.ipynb>data table notebook</a>'\n",
              "            + ' to learn more about interactive tables.';\n",
              "          element.innerHTML = '';\n",
              "          dataTable['output_type'] = 'display_data';\n",
              "          await google.colab.output.renderOutput(dataTable, element);\n",
              "          const docLink = document.createElement('div');\n",
              "          docLink.innerHTML = docLinkHtml;\n",
              "          element.appendChild(docLink);\n",
              "        }\n",
              "      </script>\n",
              "    </div>\n",
              "  </div>\n",
              "  "
            ],
            "application/vnd.google.colaboratory.module+javascript": "\n      import \"https://ssl.gstatic.com/colaboratory/data_table/a8bd4d5e58f96183/data_table.js\";\n\n      window.createDataTable({\n        data: [[\"2010\",\n{\n            'v': 0.0,\n            'f': \"0.0\",\n        }],\n [\"2012\",\n{\n            'v': 0.0,\n            'f': \"0.0\",\n        }],\n [\"2013\",\n{\n            'v': 0.0,\n            'f': \"0.0\",\n        }],\n [\"2014\",\n{\n            'v': 0.3333333333333333,\n            'f': \"0.3333333333333333\",\n        }],\n [\"2015\",\n{\n            'v': 0.3333333333333333,\n            'f': \"0.3333333333333333\",\n        }],\n [\"2016\",\n{\n            'v': 0.625,\n            'f': \"0.625\",\n        }],\n [\"2017\",\n{\n            'v': 0.8333333333333334,\n            'f': \"0.8333333333333334\",\n        }],\n [\"2018\",\n{\n            'v': 0.6111111111111112,\n            'f': \"0.6111111111111112\",\n        }],\n [\"2019\",\n{\n            'v': 0.9,\n            'f': \"0.9\",\n        }],\n [\"2020\",\n{\n            'v': 0.8421052631578947,\n            'f': \"0.8421052631578947\",\n        }]],\n        columns: [[\"string\", \"Year\"], [\"number\", \"Success Rate\"]],\n        columnOptions: [{\"width\": \"1px\", \"className\": \"index_column\"}],\n        rowsPerPage: 25,\n        helpUrl: \"https://colab.research.google.com/notebooks/data_table.ipynb\",\n        suppressOutputScrolling: true,\n        minimumWidth: undefined,\n      });\n    "
          },
          "metadata": {},
          "execution_count": 62
        }
      ],
      "source": [
        "# A function to Extract years from the date \n",
        "year=[]\n",
        "\n",
        "for i in df[\"Date\"]:\n",
        "  year.append(i.split(\"-\")[0])\n",
        "\n",
        "df_year=pd.DataFrame(year)\n",
        "df_year=df_year.rename(columns={0:'Year'})\n",
        "df_year['Success Rate']=df['Class']\n",
        "\n",
        "df_year=df_year.groupby('Year')['Success Rate'].mean()\n",
        "df_year=pd.DataFrame(df_year)\n",
        "df_year"
      ]
    },
    {
      "cell_type": "code",
      "execution_count": null,
      "metadata": {
        "colab": {
          "base_uri": "https://localhost:8080/",
          "height": 295
        },
        "id": "41Szobx7Jk8k",
        "outputId": "b2a434ab-83f0-47aa-add1-696535f3ffe7"
      },
      "outputs": [
        {
          "output_type": "display_data",
          "data": {
            "text/plain": [
              "<Figure size 432x288 with 1 Axes>"
            ],
            "image/png": "[encoded data removed]"
          },
          "metadata": {
            "needs_background": "light"
          }
        }
      ],
      "source": [
        "# Plot a line chart with x axis to be the extracted year and y axis to be the success rate\n",
        "df_year.plot(kind='line')\n",
        "plt.title('Average success rate over the years')\n",
        "plt.ylabel('Average Success rate')\n",
        "plt.xlabel('Years')\n",
        "plt.show()"
      ]
    },
    {
      "cell_type": "markdown",
      "metadata": {
        "id": "R1gX2ncbJk8l"
      },
      "source": [
        "you can observe that the sucess rate since 2013 kept increasing till 2020\n"
      ]
    },
    {
      "cell_type": "markdown",
      "metadata": {
        "id": "-vvtiFsTJk8l"
      },
      "source": [
        "## Features Engineering\n"
      ]
    },
    {
      "cell_type": "markdown",
      "metadata": {
        "id": "C7eF_W8wJk8l"
      },
      "source": [
        "By now, you should obtain some preliminary insights about how each important variable would affect the success rate, we will select the features that will be used in success prediction in the future module.\n"
      ]
    },
    {
      "cell_type": "code",
      "execution_count": null,
      "metadata": {
        "id": "kGSBLx1OJk8m",
        "outputId": "0aaf8248-417b-43b4-f04e-404dca47c10b",
        "colab": {
          "base_uri": "https://localhost:8080/",
          "height": 1067
        }
      },
      "outputs": [
        {
          "output_type": "execute_result",
          "data": {
            "text/plain": [
              "    FlightNumber   PayloadMass Orbit    LaunchSite  Flights  GridFins  Reused  \\\n",
              "0              1   6104.959412   LEO  CCAFS SLC 40        1     False   False   \n",
              "1              2    525.000000   LEO  CCAFS SLC 40        1     False   False   \n",
              "2              3    677.000000   ISS  CCAFS SLC 40        1     False   False   \n",
              "3              4    500.000000    PO   VAFB SLC 4E        1     False   False   \n",
              "4              5   3170.000000   GTO  CCAFS SLC 40        1     False   False   \n",
              "..           ...           ...   ...           ...      ...       ...     ...   \n",
              "85            86  15400.000000  VLEO    KSC LC 39A        2      True    True   \n",
              "86            87  15400.000000  VLEO    KSC LC 39A        3      True    True   \n",
              "87            88  15400.000000  VLEO    KSC LC 39A        6      True    True   \n",
              "88            89  15400.000000  VLEO  CCAFS SLC 40        3      True    True   \n",
              "89            90   3681.000000   MEO  CCAFS SLC 40        1      True   False   \n",
              "\n",
              "     Legs                LandingPad  Block  ReusedCount Serial  \n",
              "0   False                       NaN    1.0            0  B0003  \n",
              "1   False                       NaN    1.0            0  B0005  \n",
              "2   False                       NaN    1.0            0  B0007  \n",
              "3   False                       NaN    1.0            0  B1003  \n",
              "4   False                       NaN    1.0            0  B1004  \n",
              "..    ...                       ...    ...          ...    ...  \n",
              "85   True  5e9e3032383ecb6bb234e7ca    5.0            2  B1060  \n",
              "86   True  5e9e3032383ecb6bb234e7ca    5.0            2  B1058  \n",
              "87   True  5e9e3032383ecb6bb234e7ca    5.0            5  B1051  \n",
              "88   True  5e9e3033383ecbb9e534e7cc    5.0            2  B1060  \n",
              "89   True  5e9e3032383ecb6bb234e7ca    5.0            0  B1062  \n",
              "\n",
              "[90 rows x 12 columns]"
            ],
            "text/html": [
              "\n",
              "  <div id=\"df-e766e407-9647-4bf6-9977-54ecaf17a390\">\n",
              "    <div class=\"colab-df-container\">\n",
              "      <div>\n",
              "<style scoped>\n",
              "    .dataframe tbody tr th:only-of-type {\n",
              "        vertical-align: middle;\n",
              "    }\n",
              "\n",
              "    .dataframe tbody tr th {\n",
              "        vertical-align: top;\n",
              "    }\n",
              "\n",
              "    .dataframe thead th {\n",
              "        text-align: right;\n",
              "    }\n",
              "</style>\n",
              "<table border=\"1\" class=\"dataframe\">\n",
              "  <thead>\n",
              "    <tr style=\"text-align: right;\">\n",
              "      <th></th>\n",
              "      <th>FlightNumber</th>\n",
              "      <th>PayloadMass</th>\n",
              "      <th>Orbit</th>\n",
              "      <th>LaunchSite</th>\n",
              "      <th>Flights</th>\n",
              "      <th>GridFins</th>\n",
              "      <th>Reused</th>\n",
              "      <th>Legs</th>\n",
              "      <th>LandingPad</th>\n",
              "      <th>Block</th>\n",
              "      <th>ReusedCount</th>\n",
              "      <th>Serial</th>\n",
              "    </tr>\n",
              "  </thead>\n",
              "  <tbody>\n",
              "    <tr>\n",
              "      <th>0</th>\n",
              "      <td>1</td>\n",
              "      <td>6104.959412</td>\n",
              "      <td>LEO</td>\n",
              "      <td>CCAFS SLC 40</td>\n",
              "      <td>1</td>\n",
              "      <td>False</td>\n",
              "      <td>False</td>\n",
              "      <td>False</td>\n",
              "      <td>NaN</td>\n",
              "      <td>1.0</td>\n",
              "      <td>0</td>\n",
              "      <td>B0003</td>\n",
              "    </tr>\n",
              "    <tr>\n",
              "      <th>1</th>\n",
              "      <td>2</td>\n",
              "      <td>525.000000</td>\n",
              "      <td>LEO</td>\n",
              "      <td>CCAFS SLC 40</td>\n",
              "      <td>1</td>\n",
              "      <td>False</td>\n",
              "      <td>False</td>\n",
              "      <td>False</td>\n",
              "      <td>NaN</td>\n",
              "      <td>1.0</td>\n",
              "      <td>0</td>\n",
              "      <td>B0005</td>\n",
              "    </tr>\n",
              "    <tr>\n",
              "      <th>2</th>\n",
              "      <td>3</td>\n",
              "      <td>677.000000</td>\n",
              "      <td>ISS</td>\n",
              "      <td>CCAFS SLC 40</td>\n",
              "      <td>1</td>\n",
              "      <td>False</td>\n",
              "      <td>False</td>\n",
              "      <td>False</td>\n",
              "      <td>NaN</td>\n",
              "      <td>1.0</td>\n",
              "      <td>0</td>\n",
              "      <td>B0007</td>\n",
              "    </tr>\n",
              "    <tr>\n",
              "      <th>3</th>\n",
              "      <td>4</td>\n",
              "      <td>500.000000</td>\n",
              "      <td>PO</td>\n",
              "      <td>VAFB SLC 4E</td>\n",
              "      <td>1</td>\n",
              "      <td>False</td>\n",
              "      <td>False</td>\n",
              "      <td>False</td>\n",
              "      <td>NaN</td>\n",
              "      <td>1.0</td>\n",
              "      <td>0</td>\n",
              "      <td>B1003</td>\n",
              "    </tr>\n",
              "    <tr>\n",
              "      <th>4</th>\n",
              "      <td>5</td>\n",
              "      <td>3170.000000</td>\n",
              "      <td>GTO</td>\n",
              "      <td>CCAFS SLC 40</td>\n",
              "      <td>1</td>\n",
              "      <td>False</td>\n",
              "      <td>False</td>\n",
              "      <td>False</td>\n",
              "      <td>NaN</td>\n",
              "      <td>1.0</td>\n",
              "      <td>0</td>\n",
              "      <td>B1004</td>\n",
              "    </tr>\n",
              "    <tr>\n",
              "      <th>...</th>\n",
              "      <td>...</td>\n",
              "      <td>...</td>\n",
              "      <td>...</td>\n",
              "      <td>...</td>\n",
              "      <td>...</td>\n",
              "      <td>...</td>\n",
              "      <td>...</td>\n",
              "      <td>...</td>\n",
              "      <td>...</td>\n",
              "      <td>...</td>\n",
              "      <td>...</td>\n",
              "      <td>...</td>\n",
              "    </tr>\n",
              "    <tr>\n",
              "      <th>85</th>\n",
              "      <td>86</td>\n",
              "      <td>15400.000000</td>\n",
              "      <td>VLEO</td>\n",
              "      <td>KSC LC 39A</td>\n",
              "      <td>2</td>\n",
              "      <td>True</td>\n",
              "      <td>True</td>\n",
              "      <td>True</td>\n",
              "      <td>5e9e3032383ecb6bb234e7ca</td>\n",
              "      <td>5.0</td>\n",
              "      <td>2</td>\n",
              "      <td>B1060</td>\n",
              "    </tr>\n",
              "    <tr>\n",
              "      <th>86</th>\n",
              "      <td>87</td>\n",
              "      <td>15400.000000</td>\n",
              "      <td>VLEO</td>\n",
              "      <td>KSC LC 39A</td>\n",
              "      <td>3</td>\n",
              "      <td>True</td>\n",
              "      <td>True</td>\n",
              "      <td>True</td>\n",
              "      <td>5e9e3032383ecb6bb234e7ca</td>\n",
              "      <td>5.0</td>\n",
              "      <td>2</td>\n",
              "      <td>B1058</td>\n",
              "    </tr>\n",
              "    <tr>\n",
              "      <th>87</th>\n",
              "      <td>88</td>\n",
              "      <td>15400.000000</td>\n",
              "      <td>VLEO</td>\n",
              "      <td>KSC LC 39A</td>\n",
              "      <td>6</td>\n",
              "      <td>True</td>\n",
              "      <td>True</td>\n",
              "      <td>True</td>\n",
              "      <td>5e9e3032383ecb6bb234e7ca</td>\n",
              "      <td>5.0</td>\n",
              "      <td>5</td>\n",
              "      <td>B1051</td>\n",
              "    </tr>\n",
              "    <tr>\n",
              "      <th>88</th>\n",
              "      <td>89</td>\n",
              "      <td>15400.000000</td>\n",
              "      <td>VLEO</td>\n",
              "      <td>CCAFS SLC 40</td>\n",
              "      <td>3</td>\n",
              "      <td>True</td>\n",
              "      <td>True</td>\n",
              "      <td>True</td>\n",
              "      <td>5e9e3033383ecbb9e534e7cc</td>\n",
              "      <td>5.0</td>\n",
              "      <td>2</td>\n",
              "      <td>B1060</td>\n",
              "    </tr>\n",
              "    <tr>\n",
              "      <th>89</th>\n",
              "      <td>90</td>\n",
              "      <td>3681.000000</td>\n",
              "      <td>MEO</td>\n",
              "      <td>CCAFS SLC 40</td>\n",
              "      <td>1</td>\n",
              "      <td>True</td>\n",
              "      <td>False</td>\n",
              "      <td>True</td>\n",
              "      <td>5e9e3032383ecb6bb234e7ca</td>\n",
              "      <td>5.0</td>\n",
              "      <td>0</td>\n",
              "      <td>B1062</td>\n",
              "    </tr>\n",
              "  </tbody>\n",
              "</table>\n",
              "<p>90 rows × 12 columns</p>\n",
              "</div>\n",
              "      <button class=\"colab-df-convert\" onclick=\"convertToInteractive('df-e766e407-9647-4bf6-9977-54ecaf17a390')\"\n",
              "              title=\"Convert this dataframe to an interactive table.\"\n",
              "              style=\"display:none;\">\n",
              "        \n",
              "  <svg xmlns=\"http://www.w3.org/2000/svg\" height=\"24px\"viewBox=\"0 0 24 24\"\n",
              "       width=\"24px\">\n",
              "    <path d=\"M0 0h24v24H0V0z\" fill=\"none\"/>\n",
              "    <path d=\"M18.56 5.44l.94 2.06.94-2.06 2.06-.94-2.06-.94-.94-2.06-.94 2.06-2.06.94zm-11 1L8.5 8.5l.94-2.06 2.06-.94-2.06-.94L8.5 2.5l-.94 2.06-2.06.94zm10 10l.94 2.06.94-2.06 2.06-.94-2.06-.94-.94-2.06-.94 2.06-2.06.94z\"/><path d=\"M17.41 7.96l-1.37-1.37c-.4-.4-.92-.59-1.43-.59-.52 0-1.04.2-1.43.59L10.3 9.45l-7.72 7.72c-.78.78-.78 2.05 0 2.83L4 21.41c.39.39.9.59 1.41.59.51 0 1.02-.2 1.41-.59l7.78-7.78 2.81-2.81c.8-.78.8-2.07 0-2.86zM5.41 20L4 18.59l7.72-7.72 1.47 1.35L5.41 20z\"/>\n",
              "  </svg>\n",
              "      </button>\n",
              "      \n",
              "  <style>\n",
              "    .colab-df-container {\n",
              "      display:flex;\n",
              "      flex-wrap:wrap;\n",
              "      gap: 12px;\n",
              "    }\n",
              "\n",
              "    .colab-df-convert {\n",
              "      background-color: #E8F0FE;\n",
              "      border: none;\n",
              "      border-radius: 50%;\n",
              "      cursor: pointer;\n",
              "      display: none;\n",
              "      fill: #1967D2;\n",
              "      height: 32px;\n",
              "      padding: 0 0 0 0;\n",
              "      width: 32px;\n",
              "    }\n",
              "\n",
              "    .colab-df-convert:hover {\n",
              "      background-color: #E2EBFA;\n",
              "      box-shadow: 0px 1px 2px rgba(60, 64, 67, 0.3), 0px 1px 3px 1px rgba(60, 64, 67, 0.15);\n",
              "      fill: #174EA6;\n",
              "    }\n",
              "\n",
              "    [theme=dark] .colab-df-convert {\n",
              "      background-color: #3B4455;\n",
              "      fill: #D2E3FC;\n",
              "    }\n",
              "\n",
              "    [theme=dark] .colab-df-convert:hover {\n",
              "      background-color: #434B5C;\n",
              "      box-shadow: 0px 1px 3px 1px rgba(0, 0, 0, 0.15);\n",
              "      filter: drop-shadow(0px 1px 2px rgba(0, 0, 0, 0.3));\n",
              "      fill: #FFFFFF;\n",
              "    }\n",
              "  </style>\n",
              "\n",
              "      <script>\n",
              "        const buttonEl =\n",
              "          document.querySelector('#df-e766e407-9647-4bf6-9977-54ecaf17a390 button.colab-df-convert');\n",
              "        buttonEl.style.display =\n",
              "          google.colab.kernel.accessAllowed ? 'block' : 'none';\n",
              "\n",
              "        async function convertToInteractive(key) {\n",
              "          const element = document.querySelector('#df-e766e407-9647-4bf6-9977-54ecaf17a390');\n",
              "          const dataTable =\n",
              "            await google.colab.kernel.invokeFunction('convertToInteractive',\n",
              "                                                     [key], {});\n",
              "          if (!dataTable) return;\n",
              "\n",
              "          const docLinkHtml = 'Like what you see? Visit the ' +\n",
              "            '<a target=\"_blank\" href=https://colab.research.google.com/notebooks/data_table.ipynb>data table notebook</a>'\n",
              "            + ' to learn more about interactive tables.';\n",
              "          element.innerHTML = '';\n",
              "          dataTable['output_type'] = 'display_data';\n",
              "          await google.colab.output.renderOutput(dataTable, element);\n",
              "          const docLink = document.createElement('div');\n",
              "          docLink.innerHTML = docLinkHtml;\n",
              "          element.appendChild(docLink);\n",
              "        }\n",
              "      </script>\n",
              "    </div>\n",
              "  </div>\n",
              "  "
            ],
            "application/vnd.google.colaboratory.module+javascript": "\n      import \"https://ssl.gstatic.com/colaboratory/data_table/a8bd4d5e58f96183/data_table.js\";\n\n      window.createDataTable({\n        data: [[{\n            'v': 0,\n            'f': \"0\",\n        },\n{\n            'v': 1,\n            'f': \"1\",\n        },\n{\n            'v': 6104.959411764706,\n            'f': \"6104.959411764706\",\n        },\n\"LEO\",\n\"CCAFS SLC 40\",\n{\n            'v': 1,\n            'f': \"1\",\n        },\nfalse,\nfalse,\nfalse,\nNaN,\n{\n            'v': 1.0,\n            'f': \"1.0\",\n        },\n{\n            'v': 0,\n            'f': \"0\",\n        },\n\"B0003\"],\n [{\n            'v': 1,\n            'f': \"1\",\n        },\n{\n            'v': 2,\n            'f': \"2\",\n        },\n{\n            'v': 525.0,\n            'f': \"525.0\",\n        },\n\"LEO\",\n\"CCAFS SLC 40\",\n{\n            'v': 1,\n            'f': \"1\",\n        },\nfalse,\nfalse,\nfalse,\nNaN,\n{\n            'v': 1.0,\n            'f': \"1.0\",\n        },\n{\n            'v': 0,\n            'f': \"0\",\n        },\n\"B0005\"],\n [{\n            'v': 2,\n            'f': \"2\",\n        },\n{\n            'v': 3,\n            'f': \"3\",\n        },\n{\n            'v': 677.0,\n            'f': \"677.0\",\n        },\n\"ISS\",\n\"CCAFS SLC 40\",\n{\n            'v': 1,\n            'f': \"1\",\n        },\nfalse,\nfalse,\nfalse,\nNaN,\n{\n            'v': 1.0,\n            'f': \"1.0\",\n        },\n{\n            'v': 0,\n            'f': \"0\",\n        },\n\"B0007\"],\n [{\n            'v': 3,\n            'f': \"3\",\n        },\n{\n            'v': 4,\n            'f': \"4\",\n        },\n{\n            'v': 500.0,\n            'f': \"500.0\",\n        },\n\"PO\",\n\"VAFB SLC 4E\",\n{\n            'v': 1,\n            'f': \"1\",\n        },\nfalse,\nfalse,\nfalse,\nNaN,\n{\n            'v': 1.0,\n            'f': \"1.0\",\n        },\n{\n            'v': 0,\n            'f': \"0\",\n        },\n\"B1003\"],\n [{\n            'v': 4,\n            'f': \"4\",\n        },\n{\n            'v': 5,\n            'f': \"5\",\n        },\n{\n            'v': 3170.0,\n            'f': \"3170.0\",\n        },\n\"GTO\",\n\"CCAFS SLC 40\",\n{\n            'v': 1,\n            'f': \"1\",\n        },\nfalse,\nfalse,\nfalse,\nNaN,\n{\n            'v': 1.0,\n            'f': \"1.0\",\n        },\n{\n            'v': 0,\n            'f': \"0\",\n        },\n\"B1004\"],\n [{\n            'v': 5,\n            'f': \"5\",\n        },\n{\n            'v': 6,\n            'f': \"6\",\n        },\n{\n            'v': 3325.0,\n            'f': \"3325.0\",\n        },\n\"GTO\",\n\"CCAFS SLC 40\",\n{\n            'v': 1,\n            'f': \"1\",\n        },\nfalse,\nfalse,\nfalse,\nNaN,\n{\n            'v': 1.0,\n            'f': \"1.0\",\n        },\n{\n            'v': 0,\n            'f': \"0\",\n        },\n\"B1005\"],\n [{\n            'v': 6,\n            'f': \"6\",\n        },\n{\n            'v': 7,\n            'f': \"7\",\n        },\n{\n            'v': 2296.0,\n            'f': \"2296.0\",\n        },\n\"ISS\",\n\"CCAFS SLC 40\",\n{\n            'v': 1,\n            'f': \"1\",\n        },\nfalse,\nfalse,\ntrue,\nNaN,\n{\n            'v': 1.0,\n            'f': \"1.0\",\n        },\n{\n            'v': 0,\n            'f': \"0\",\n        },\n\"B1006\"],\n [{\n            'v': 7,\n            'f': \"7\",\n        },\n{\n            'v': 8,\n            'f': \"8\",\n        },\n{\n            'v': 1316.0,\n            'f': \"1316.0\",\n        },\n\"LEO\",\n\"CCAFS SLC 40\",\n{\n            'v': 1,\n            'f': \"1\",\n        },\nfalse,\nfalse,\ntrue,\nNaN,\n{\n            'v': 1.0,\n            'f': \"1.0\",\n        },\n{\n            'v': 0,\n            'f': \"0\",\n        },\n\"B1007\"],\n [{\n            'v': 8,\n            'f': \"8\",\n        },\n{\n            'v': 9,\n            'f': \"9\",\n        },\n{\n            'v': 4535.0,\n            'f': \"4535.0\",\n        },\n\"GTO\",\n\"CCAFS SLC 40\",\n{\n            'v': 1,\n            'f': \"1\",\n        },\nfalse,\nfalse,\nfalse,\nNaN,\n{\n            'v': 1.0,\n            'f': \"1.0\",\n        },\n{\n            'v': 0,\n            'f': \"0\",\n        },\n\"B1008\"],\n [{\n            'v': 9,\n            'f': \"9\",\n        },\n{\n            'v': 10,\n            'f': \"10\",\n        },\n{\n            'v': 4428.0,\n            'f': \"4428.0\",\n        },\n\"GTO\",\n\"CCAFS SLC 40\",\n{\n            'v': 1,\n            'f': \"1\",\n        },\nfalse,\nfalse,\nfalse,\nNaN,\n{\n            'v': 1.0,\n            'f': \"1.0\",\n        },\n{\n            'v': 0,\n            'f': \"0\",\n        },\n\"B1011\"],\n [{\n            'v': 10,\n            'f': \"10\",\n        },\n{\n            'v': 11,\n            'f': \"11\",\n        },\n{\n            'v': 2216.0,\n            'f': \"2216.0\",\n        },\n\"ISS\",\n\"CCAFS SLC 40\",\n{\n            'v': 1,\n            'f': \"1\",\n        },\nfalse,\nfalse,\nfalse,\nNaN,\n{\n            'v': 1.0,\n            'f': \"1.0\",\n        },\n{\n            'v': 0,\n            'f': \"0\",\n        },\n\"B1010\"],\n [{\n            'v': 11,\n            'f': \"11\",\n        },\n{\n            'v': 12,\n            'f': \"12\",\n        },\n{\n            'v': 2395.0,\n            'f': \"2395.0\",\n        },\n\"ISS\",\n\"CCAFS SLC 40\",\n{\n            'v': 1,\n            'f': \"1\",\n        },\ntrue,\nfalse,\ntrue,\n\"5e9e3032383ecb761634e7cb\",\n{\n            'v': 1.0,\n            'f': \"1.0\",\n        },\n{\n            'v': 0,\n            'f': \"0\",\n        },\n\"B1012\"],\n [{\n            'v': 12,\n            'f': \"12\",\n        },\n{\n            'v': 13,\n            'f': \"13\",\n        },\n{\n            'v': 570.0,\n            'f': \"570.0\",\n        },\n\"ES-L1\",\n\"CCAFS SLC 40\",\n{\n            'v': 1,\n            'f': \"1\",\n        },\ntrue,\nfalse,\ntrue,\nNaN,\n{\n            'v': 1.0,\n            'f': \"1.0\",\n        },\n{\n            'v': 0,\n            'f': \"0\",\n        },\n\"B1013\"],\n [{\n            'v': 13,\n            'f': \"13\",\n        },\n{\n            'v': 14,\n            'f': \"14\",\n        },\n{\n            'v': 1898.0,\n            'f': \"1898.0\",\n        },\n\"ISS\",\n\"CCAFS SLC 40\",\n{\n            'v': 1,\n            'f': \"1\",\n        },\ntrue,\nfalse,\ntrue,\n\"5e9e3032383ecb761634e7cb\",\n{\n            'v': 1.0,\n            'f': \"1.0\",\n        },\n{\n            'v': 0,\n            'f': \"0\",\n        },\n\"B1015\"],\n [{\n            'v': 14,\n            'f': \"14\",\n        },\n{\n            'v': 15,\n            'f': \"15\",\n        },\n{\n            'v': 4707.0,\n            'f': \"4707.0\",\n        },\n\"GTO\",\n\"CCAFS SLC 40\",\n{\n            'v': 1,\n            'f': \"1\",\n        },\nfalse,\nfalse,\nfalse,\nNaN,\n{\n            'v': 1.0,\n            'f': \"1.0\",\n        },\n{\n            'v': 0,\n            'f': \"0\",\n        },\n\"B1016\"],\n [{\n            'v': 15,\n            'f': \"15\",\n        },\n{\n            'v': 16,\n            'f': \"16\",\n        },\n{\n            'v': 2477.0,\n            'f': \"2477.0\",\n        },\n\"ISS\",\n\"CCAFS SLC 40\",\n{\n            'v': 1,\n            'f': \"1\",\n        },\ntrue,\nfalse,\ntrue,\n\"5e9e3032383ecb6bb234e7ca\",\n{\n            'v': 1.0,\n            'f': \"1.0\",\n        },\n{\n            'v': 0,\n            'f': \"0\",\n        },\n\"B1018\"],\n [{\n            'v': 16,\n            'f': \"16\",\n        },\n{\n            'v': 17,\n            'f': \"17\",\n        },\n{\n            'v': 2034.0,\n            'f': \"2034.0\",\n        },\n\"LEO\",\n\"CCAFS SLC 40\",\n{\n            'v': 1,\n            'f': \"1\",\n        },\ntrue,\nfalse,\ntrue,\n\"5e9e3032383ecb267a34e7c7\",\n{\n            'v': 1.0,\n            'f': \"1.0\",\n        },\n{\n            'v': 0,\n            'f': \"0\",\n        },\n\"B1019\"],\n [{\n            'v': 17,\n            'f': \"17\",\n        },\n{\n            'v': 18,\n            'f': \"18\",\n        },\n{\n            'v': 553.0,\n            'f': \"553.0\",\n        },\n\"PO\",\n\"VAFB SLC 4E\",\n{\n            'v': 1,\n            'f': \"1\",\n        },\ntrue,\nfalse,\ntrue,\n\"5e9e3033383ecbb9e534e7cc\",\n{\n            'v': 1.0,\n            'f': \"1.0\",\n        },\n{\n            'v': 0,\n            'f': \"0\",\n        },\n\"B1017\"],\n [{\n            'v': 18,\n            'f': \"18\",\n        },\n{\n            'v': 19,\n            'f': \"19\",\n        },\n{\n            'v': 5271.0,\n            'f': \"5271.0\",\n        },\n\"GTO\",\n\"CCAFS SLC 40\",\n{\n            'v': 1,\n            'f': \"1\",\n        },\ntrue,\nfalse,\ntrue,\n\"5e9e3032383ecb6bb234e7ca\",\n{\n            'v': 1.0,\n            'f': \"1.0\",\n        },\n{\n            'v': 0,\n            'f': \"0\",\n        },\n\"B1020\"],\n [{\n            'v': 19,\n            'f': \"19\",\n        },\n{\n            'v': 20,\n            'f': \"20\",\n        },\n{\n            'v': 3136.0,\n            'f': \"3136.0\",\n        },\n\"ISS\",\n\"CCAFS SLC 40\",\n{\n            'v': 1,\n            'f': \"1\",\n        },\ntrue,\nfalse,\ntrue,\n\"5e9e3032383ecb6bb234e7ca\",\n{\n            'v': 2.0,\n            'f': \"2.0\",\n        },\n{\n            'v': 1,\n            'f': \"1\",\n        },\n\"B1021\"],\n [{\n            'v': 20,\n            'f': \"20\",\n        },\n{\n            'v': 21,\n            'f': \"21\",\n        },\n{\n            'v': 4696.0,\n            'f': \"4696.0\",\n        },\n\"GTO\",\n\"CCAFS SLC 40\",\n{\n            'v': 1,\n            'f': \"1\",\n        },\ntrue,\nfalse,\ntrue,\n\"5e9e3032383ecb6bb234e7ca\",\n{\n            'v': 2.0,\n            'f': \"2.0\",\n        },\n{\n            'v': 0,\n            'f': \"0\",\n        },\n\"B1022\"],\n [{\n            'v': 21,\n            'f': \"21\",\n        },\n{\n            'v': 22,\n            'f': \"22\",\n        },\n{\n            'v': 3100.0,\n            'f': \"3100.0\",\n        },\n\"GTO\",\n\"CCAFS SLC 40\",\n{\n            'v': 1,\n            'f': \"1\",\n        },\ntrue,\nfalse,\ntrue,\n\"5e9e3032383ecb6bb234e7ca\",\n{\n            'v': 2.0,\n            'f': \"2.0\",\n        },\n{\n            'v': 1,\n            'f': \"1\",\n        },\n\"B1023\"],\n [{\n            'v': 22,\n            'f': \"22\",\n        },\n{\n            'v': 23,\n            'f': \"23\",\n        },\n{\n            'v': 2257.0,\n            'f': \"2257.0\",\n        },\n\"ISS\",\n\"CCAFS SLC 40\",\n{\n            'v': 1,\n            'f': \"1\",\n        },\ntrue,\nfalse,\ntrue,\n\"5e9e3032383ecb267a34e7c7\",\n{\n            'v': 2.0,\n            'f': \"2.0\",\n        },\n{\n            'v': 1,\n            'f': \"1\",\n        },\n\"B1025\"],\n [{\n            'v': 23,\n            'f': \"23\",\n        },\n{\n            'v': 24,\n            'f': \"24\",\n        },\n{\n            'v': 4600.0,\n            'f': \"4600.0\",\n        },\n\"GTO\",\n\"CCAFS SLC 40\",\n{\n            'v': 1,\n            'f': \"1\",\n        },\ntrue,\nfalse,\ntrue,\n\"5e9e3032383ecb6bb234e7ca\",\n{\n            'v': 2.0,\n            'f': \"2.0\",\n        },\n{\n            'v': 0,\n            'f': \"0\",\n        },\n\"B1026\"],\n [{\n            'v': 24,\n            'f': \"24\",\n        },\n{\n            'v': 25,\n            'f': \"25\",\n        },\n{\n            'v': 5500.0,\n            'f': \"5500.0\",\n        },\n\"GTO\",\n\"CCAFS SLC 40\",\n{\n            'v': 1,\n            'f': \"1\",\n        },\ntrue,\nfalse,\ntrue,\n\"5e9e3032383ecb6bb234e7ca\",\n{\n            'v': 3.0,\n            'f': \"3.0\",\n        },\n{\n            'v': 0,\n            'f': \"0\",\n        },\n\"B1028\"],\n [{\n            'v': 25,\n            'f': \"25\",\n        },\n{\n            'v': 26,\n            'f': \"26\",\n        },\n{\n            'v': 9600.0,\n            'f': \"9600.0\",\n        },\n\"PO\",\n\"VAFB SLC 4E\",\n{\n            'v': 1,\n            'f': \"1\",\n        },\ntrue,\nfalse,\ntrue,\n\"5e9e3033383ecbb9e534e7cc\",\n{\n            'v': 3.0,\n            'f': \"3.0\",\n        },\n{\n            'v': 1,\n            'f': \"1\",\n        },\n\"B1029\"],\n [{\n            'v': 26,\n            'f': \"26\",\n        },\n{\n            'v': 27,\n            'f': \"27\",\n        },\n{\n            'v': 2490.0,\n            'f': \"2490.0\",\n        },\n\"ISS\",\n\"KSC LC 39A\",\n{\n            'v': 1,\n            'f': \"1\",\n        },\ntrue,\nfalse,\ntrue,\n\"5e9e3032383ecb267a34e7c7\",\n{\n            'v': 3.0,\n            'f': \"3.0\",\n        },\n{\n            'v': 1,\n            'f': \"1\",\n        },\n\"B1031\"],\n [{\n            'v': 27,\n            'f': \"27\",\n        },\n{\n            'v': 28,\n            'f': \"28\",\n        },\n{\n            'v': 5600.0,\n            'f': \"5600.0\",\n        },\n\"GTO\",\n\"KSC LC 39A\",\n{\n            'v': 1,\n            'f': \"1\",\n        },\nfalse,\nfalse,\nfalse,\nNaN,\n{\n            'v': 3.0,\n            'f': \"3.0\",\n        },\n{\n            'v': 0,\n            'f': \"0\",\n        },\n\"B1030\"],\n [{\n            'v': 28,\n            'f': \"28\",\n        },\n{\n            'v': 29,\n            'f': \"29\",\n        },\n{\n            'v': 5300.0,\n            'f': \"5300.0\",\n        },\n\"GTO\",\n\"KSC LC 39A\",\n{\n            'v': 2,\n            'f': \"2\",\n        },\ntrue,\ntrue,\ntrue,\n\"5e9e3032383ecb6bb234e7ca\",\n{\n            'v': 2.0,\n            'f': \"2.0\",\n        },\n{\n            'v': 1,\n            'f': \"1\",\n        },\n\"B1021\"],\n [{\n            'v': 29,\n            'f': \"29\",\n        },\n{\n            'v': 30,\n            'f': \"30\",\n        },\n{\n            'v': 6104.959411764706,\n            'f': \"6104.959411764706\",\n        },\n\"LEO\",\n\"KSC LC 39A\",\n{\n            'v': 1,\n            'f': \"1\",\n        },\ntrue,\nfalse,\ntrue,\n\"5e9e3032383ecb267a34e7c7\",\n{\n            'v': 3.0,\n            'f': \"3.0\",\n        },\n{\n            'v': 1,\n            'f': \"1\",\n        },\n\"B1032\"],\n [{\n            'v': 30,\n            'f': \"30\",\n        },\n{\n            'v': 31,\n            'f': \"31\",\n        },\n{\n            'v': 6070.0,\n            'f': \"6070.0\",\n        },\n\"GTO\",\n\"KSC LC 39A\",\n{\n            'v': 1,\n            'f': \"1\",\n        },\nfalse,\nfalse,\nfalse,\nNaN,\n{\n            'v': 3.0,\n            'f': \"3.0\",\n        },\n{\n            'v': 0,\n            'f': \"0\",\n        },\n\"B1034\"],\n [{\n            'v': 31,\n            'f': \"31\",\n        },\n{\n            'v': 32,\n            'f': \"32\",\n        },\n{\n            'v': 2708.0,\n            'f': \"2708.0\",\n        },\n\"ISS\",\n\"KSC LC 39A\",\n{\n            'v': 1,\n            'f': \"1\",\n        },\ntrue,\nfalse,\ntrue,\n\"5e9e3032383ecb267a34e7c7\",\n{\n            'v': 3.0,\n            'f': \"3.0\",\n        },\n{\n            'v': 1,\n            'f': \"1\",\n        },\n\"B1035\"],\n [{\n            'v': 32,\n            'f': \"32\",\n        },\n{\n            'v': 33,\n            'f': \"33\",\n        },\n{\n            'v': 3669.0,\n            'f': \"3669.0\",\n        },\n\"GTO\",\n\"KSC LC 39A\",\n{\n            'v': 2,\n            'f': \"2\",\n        },\ntrue,\ntrue,\ntrue,\n\"5e9e3032383ecb6bb234e7ca\",\n{\n            'v': 3.0,\n            'f': \"3.0\",\n        },\n{\n            'v': 1,\n            'f': \"1\",\n        },\n\"B1029\"],\n [{\n            'v': 33,\n            'f': \"33\",\n        },\n{\n            'v': 34,\n            'f': \"34\",\n        },\n{\n            'v': 9600.0,\n            'f': \"9600.0\",\n        },\n\"PO\",\n\"VAFB SLC 4E\",\n{\n            'v': 1,\n            'f': \"1\",\n        },\ntrue,\nfalse,\ntrue,\n\"5e9e3033383ecbb9e534e7cc\",\n{\n            'v': 3.0,\n            'f': \"3.0\",\n        },\n{\n            'v': 1,\n            'f': \"1\",\n        },\n\"B1036\"],\n [{\n            'v': 34,\n            'f': \"34\",\n        },\n{\n            'v': 35,\n            'f': \"35\",\n        },\n{\n            'v': 6761.0,\n            'f': \"6761.0\",\n        },\n\"GTO\",\n\"KSC LC 39A\",\n{\n            'v': 1,\n            'f': \"1\",\n        },\nfalse,\nfalse,\nfalse,\nNaN,\n{\n            'v': 3.0,\n            'f': \"3.0\",\n        },\n{\n            'v': 0,\n            'f': \"0\",\n        },\n\"B1037\"],\n [{\n            'v': 35,\n            'f': \"35\",\n        },\n{\n            'v': 36,\n            'f': \"36\",\n        },\n{\n            'v': 2910.0,\n            'f': \"2910.0\",\n        },\n\"ISS\",\n\"KSC LC 39A\",\n{\n            'v': 1,\n            'f': \"1\",\n        },\ntrue,\nfalse,\ntrue,\n\"5e9e3032383ecb267a34e7c7\",\n{\n            'v': 4.0,\n            'f': \"4.0\",\n        },\n{\n            'v': 1,\n            'f': \"1\",\n        },\n\"B1039\"],\n [{\n            'v': 36,\n            'f': \"36\",\n        },\n{\n            'v': 37,\n            'f': \"37\",\n        },\n{\n            'v': 475.0,\n            'f': \"475.0\",\n        },\n\"SSO\",\n\"VAFB SLC 4E\",\n{\n            'v': 1,\n            'f': \"1\",\n        },\ntrue,\nfalse,\ntrue,\n\"5e9e3033383ecbb9e534e7cc\",\n{\n            'v': 3.0,\n            'f': \"3.0\",\n        },\n{\n            'v': 1,\n            'f': \"1\",\n        },\n\"B1038\"],\n [{\n            'v': 37,\n            'f': \"37\",\n        },\n{\n            'v': 38,\n            'f': \"38\",\n        },\n{\n            'v': 4990.0,\n            'f': \"4990.0\",\n        },\n\"LEO\",\n\"KSC LC 39A\",\n{\n            'v': 1,\n            'f': \"1\",\n        },\ntrue,\nfalse,\ntrue,\n\"5e9e3032383ecb267a34e7c7\",\n{\n            'v': 4.0,\n            'f': \"4.0\",\n        },\n{\n            'v': 1,\n            'f': \"1\",\n        },\n\"B1040\"],\n [{\n            'v': 38,\n            'f': \"38\",\n        },\n{\n            'v': 39,\n            'f': \"39\",\n        },\n{\n            'v': 9600.0,\n            'f': \"9600.0\",\n        },\n\"PO\",\n\"VAFB SLC 4E\",\n{\n            'v': 1,\n            'f': \"1\",\n        },\ntrue,\nfalse,\ntrue,\n\"5e9e3033383ecbb9e534e7cc\",\n{\n            'v': 4.0,\n            'f': \"4.0\",\n        },\n{\n            'v': 1,\n            'f': \"1\",\n        },\n\"B1041\"],\n [{\n            'v': 39,\n            'f': \"39\",\n        },\n{\n            'v': 40,\n            'f': \"40\",\n        },\n{\n            'v': 5200.0,\n            'f': \"5200.0\",\n        },\n\"GTO\",\n\"KSC LC 39A\",\n{\n            'v': 2,\n            'f': \"2\",\n        },\ntrue,\ntrue,\ntrue,\n\"5e9e3032383ecb6bb234e7ca\",\n{\n            'v': 3.0,\n            'f': \"3.0\",\n        },\n{\n            'v': 1,\n            'f': \"1\",\n        },\n\"B1031\"],\n [{\n            'v': 40,\n            'f': \"40\",\n        },\n{\n            'v': 41,\n            'f': \"41\",\n        },\n{\n            'v': 3700.0,\n            'f': \"3700.0\",\n        },\n\"GTO\",\n\"KSC LC 39A\",\n{\n            'v': 1,\n            'f': \"1\",\n        },\ntrue,\nfalse,\ntrue,\n\"5e9e3032383ecb6bb234e7ca\",\n{\n            'v': 4.0,\n            'f': \"4.0\",\n        },\n{\n            'v': 0,\n            'f': \"0\",\n        },\n\"B1042\"],\n [{\n            'v': 41,\n            'f': \"41\",\n        },\n{\n            'v': 42,\n            'f': \"42\",\n        },\n{\n            'v': 2205.0,\n            'f': \"2205.0\",\n        },\n\"ISS\",\n\"CCAFS SLC 40\",\n{\n            'v': 2,\n            'f': \"2\",\n        },\ntrue,\ntrue,\ntrue,\n\"5e9e3032383ecb267a34e7c7\",\n{\n            'v': 3.0,\n            'f': \"3.0\",\n        },\n{\n            'v': 1,\n            'f': \"1\",\n        },\n\"B1035\"],\n [{\n            'v': 42,\n            'f': \"42\",\n        },\n{\n            'v': 43,\n            'f': \"43\",\n        },\n{\n            'v': 9600.0,\n            'f': \"9600.0\",\n        },\n\"PO\",\n\"VAFB SLC 4E\",\n{\n            'v': 2,\n            'f': \"2\",\n        },\ntrue,\ntrue,\nfalse,\nNaN,\n{\n            'v': 3.0,\n            'f': \"3.0\",\n        },\n{\n            'v': 1,\n            'f': \"1\",\n        },\n\"B1036\"],\n [{\n            'v': 43,\n            'f': \"43\",\n        },\n{\n            'v': 44,\n            'f': \"44\",\n        },\n{\n            'v': 6104.959411764706,\n            'f': \"6104.959411764706\",\n        },\n\"LEO\",\n\"CCAFS SLC 40\",\n{\n            'v': 1,\n            'f': \"1\",\n        },\ntrue,\nfalse,\ntrue,\n\"5e9e3032383ecb267a34e7c7\",\n{\n            'v': 4.0,\n            'f': \"4.0\",\n        },\n{\n            'v': 1,\n            'f': \"1\",\n        },\n\"B1043\"],\n [{\n            'v': 44,\n            'f': \"44\",\n        },\n{\n            'v': 45,\n            'f': \"45\",\n        },\n{\n            'v': 4230.0,\n            'f': \"4230.0\",\n        },\n\"GTO\",\n\"CCAFS SLC 40\",\n{\n            'v': 2,\n            'f': \"2\",\n        },\ntrue,\ntrue,\ntrue,\nNaN,\n{\n            'v': 3.0,\n            'f': \"3.0\",\n        },\n{\n            'v': 1,\n            'f': \"1\",\n        },\n\"B1032\"],\n [{\n            'v': 45,\n            'f': \"45\",\n        },\n{\n            'v': 46,\n            'f': \"46\",\n        },\n{\n            'v': 6092.0,\n            'f': \"6092.0\",\n        },\n\"GTO\",\n\"CCAFS SLC 40\",\n{\n            'v': 1,\n            'f': \"1\",\n        },\ntrue,\nfalse,\ntrue,\nNaN,\n{\n            'v': 4.0,\n            'f': \"4.0\",\n        },\n{\n            'v': 0,\n            'f': \"0\",\n        },\n\"B1044\"],\n [{\n            'v': 46,\n            'f': \"46\",\n        },\n{\n            'v': 47,\n            'f': \"47\",\n        },\n{\n            'v': 9600.0,\n            'f': \"9600.0\",\n        },\n\"PO\",\n\"VAFB SLC 4E\",\n{\n            'v': 2,\n            'f': \"2\",\n        },\ntrue,\ntrue,\ntrue,\nNaN,\n{\n            'v': 4.0,\n            'f': \"4.0\",\n        },\n{\n            'v': 1,\n            'f': \"1\",\n        },\n\"B1041\"],\n [{\n            'v': 47,\n            'f': \"47\",\n        },\n{\n            'v': 48,\n            'f': \"48\",\n        },\n{\n            'v': 2760.0,\n            'f': \"2760.0\",\n        },\n\"ISS\",\n\"CCAFS SLC 40\",\n{\n            'v': 2,\n            'f': \"2\",\n        },\ntrue,\ntrue,\ntrue,\nNaN,\n{\n            'v': 4.0,\n            'f': \"4.0\",\n        },\n{\n            'v': 1,\n            'f': \"1\",\n        },\n\"B1039\"],\n [{\n            'v': 48,\n            'f': \"48\",\n        },\n{\n            'v': 49,\n            'f': \"49\",\n        },\n{\n            'v': 350.0,\n            'f': \"350.0\",\n        },\n\"HEO\",\n\"CCAFS SLC 40\",\n{\n            'v': 1,\n            'f': \"1\",\n        },\ntrue,\nfalse,\ntrue,\n\"5e9e3032383ecb6bb234e7ca\",\n{\n            'v': 4.0,\n            'f': \"4.0\",\n        },\n{\n            'v': 1,\n            'f': \"1\",\n        },\n\"B1045\"],\n [{\n            'v': 49,\n            'f': \"49\",\n        },\n{\n            'v': 50,\n            'f': \"50\",\n        },\n{\n            'v': 3750.0,\n            'f': \"3750.0\",\n        },\n\"GTO\",\n\"KSC LC 39A\",\n{\n            'v': 1,\n            'f': \"1\",\n        },\ntrue,\nfalse,\ntrue,\n\"5e9e3032383ecb6bb234e7ca\",\n{\n            'v': 5.0,\n            'f': \"5.0\",\n        },\n{\n            'v': 3,\n            'f': \"3\",\n        },\n\"B1046\"],\n [{\n            'v': 50,\n            'f': \"50\",\n        },\n{\n            'v': 51,\n            'f': \"51\",\n        },\n{\n            'v': 5383.85,\n            'f': \"5383.85\",\n        },\n\"GTO\",\n\"CCAFS SLC 40\",\n{\n            'v': 2,\n            'f': \"2\",\n        },\nfalse,\ntrue,\nfalse,\nNaN,\n{\n            'v': 4.0,\n            'f': \"4.0\",\n        },\n{\n            'v': 1,\n            'f': \"1\",\n        },\n\"B1040\"],\n [{\n            'v': 51,\n            'f': \"51\",\n        },\n{\n            'v': 52,\n            'f': \"52\",\n        },\n{\n            'v': 2410.0,\n            'f': \"2410.0\",\n        },\n\"ISS\",\n\"CCAFS SLC 40\",\n{\n            'v': 2,\n            'f': \"2\",\n        },\nfalse,\ntrue,\nfalse,\nNaN,\n{\n            'v': 4.0,\n            'f': \"4.0\",\n        },\n{\n            'v': 1,\n            'f': \"1\",\n        },\n\"B1045\"],\n [{\n            'v': 52,\n            'f': \"52\",\n        },\n{\n            'v': 53,\n            'f': \"53\",\n        },\n{\n            'v': 7076.0,\n            'f': \"7076.0\",\n        },\n\"GTO\",\n\"CCAFS SLC 40\",\n{\n            'v': 1,\n            'f': \"1\",\n        },\ntrue,\nfalse,\ntrue,\n\"5e9e3032383ecb6bb234e7ca\",\n{\n            'v': 5.0,\n            'f': \"5.0\",\n        },\n{\n            'v': 2,\n            'f': \"2\",\n        },\n\"B1047\"],\n [{\n            'v': 53,\n            'f': \"53\",\n        },\n{\n            'v': 54,\n            'f': \"54\",\n        },\n{\n            'v': 9600.0,\n            'f': \"9600.0\",\n        },\n\"PO\",\n\"VAFB SLC 4E\",\n{\n            'v': 1,\n            'f': \"1\",\n        },\ntrue,\nfalse,\ntrue,\n\"5e9e3033383ecbb9e534e7cc\",\n{\n            'v': 5.0,\n            'f': \"5.0\",\n        },\n{\n            'v': 4,\n            'f': \"4\",\n        },\n\"B1048\"],\n [{\n            'v': 54,\n            'f': \"54\",\n        },\n{\n            'v': 55,\n            'f': \"55\",\n        },\n{\n            'v': 5800.0,\n            'f': \"5800.0\",\n        },\n\"GTO\",\n\"CCAFS SLC 40\",\n{\n            'v': 2,\n            'f': \"2\",\n        },\ntrue,\ntrue,\ntrue,\n\"5e9e3032383ecb6bb234e7ca\",\n{\n            'v': 5.0,\n            'f': \"5.0\",\n        },\n{\n            'v': 3,\n            'f': \"3\",\n        },\n\"B1046\"],\n [{\n            'v': 55,\n            'f': \"55\",\n        },\n{\n            'v': 56,\n            'f': \"56\",\n        },\n{\n            'v': 7060.0,\n            'f': \"7060.0\",\n        },\n\"GTO\",\n\"CCAFS SLC 40\",\n{\n            'v': 1,\n            'f': \"1\",\n        },\ntrue,\nfalse,\ntrue,\n\"5e9e3032383ecb6bb234e7ca\",\n{\n            'v': 5.0,\n            'f': \"5.0\",\n        },\n{\n            'v': 5,\n            'f': \"5\",\n        },\n\"B1049\"],\n [{\n            'v': 56,\n            'f': \"56\",\n        },\n{\n            'v': 57,\n            'f': \"57\",\n        },\n{\n            'v': 2800.0,\n            'f': \"2800.0\",\n        },\n\"SSO\",\n\"VAFB SLC 4E\",\n{\n            'v': 2,\n            'f': \"2\",\n        },\ntrue,\ntrue,\ntrue,\n\"5e9e3032383ecb554034e7c9\",\n{\n            'v': 5.0,\n            'f': \"5.0\",\n        },\n{\n            'v': 4,\n            'f': \"4\",\n        },\n\"B1048\"],\n [{\n            'v': 57,\n            'f': \"57\",\n        },\n{\n            'v': 58,\n            'f': \"58\",\n        },\n{\n            'v': 3000.0,\n            'f': \"3000.0\",\n        },\n\"GTO\",\n\"KSC LC 39A\",\n{\n            'v': 2,\n            'f': \"2\",\n        },\ntrue,\ntrue,\ntrue,\n\"5e9e3032383ecb6bb234e7ca\",\n{\n            'v': 5.0,\n            'f': \"5.0\",\n        },\n{\n            'v': 2,\n            'f': \"2\",\n        },\n\"B1047\"],\n [{\n            'v': 58,\n            'f': \"58\",\n        },\n{\n            'v': 59,\n            'f': \"59\",\n        },\n{\n            'v': 4000.0,\n            'f': \"4000.0\",\n        },\n\"SSO\",\n\"VAFB SLC 4E\",\n{\n            'v': 3,\n            'f': \"3\",\n        },\ntrue,\ntrue,\ntrue,\n\"5e9e3033383ecbb9e534e7cc\",\n{\n            'v': 5.0,\n            'f': \"5.0\",\n        },\n{\n            'v': 3,\n            'f': \"3\",\n        },\n\"B1046\"],\n [{\n            'v': 59,\n            'f': \"59\",\n        },\n{\n            'v': 60,\n            'f': \"60\",\n        },\n{\n            'v': 2573.0,\n            'f': \"2573.0\",\n        },\n\"ISS\",\n\"CCAFS SLC 40\",\n{\n            'v': 1,\n            'f': \"1\",\n        },\ntrue,\nfalse,\ntrue,\n\"5e9e3032383ecb267a34e7c7\",\n{\n            'v': 5.0,\n            'f': \"5.0\",\n        },\n{\n            'v': 0,\n            'f': \"0\",\n        },\n\"B1050\"],\n [{\n            'v': 60,\n            'f': \"60\",\n        },\n{\n            'v': 61,\n            'f': \"61\",\n        },\n{\n            'v': 4400.0,\n            'f': \"4400.0\",\n        },\n\"MEO\",\n\"CCAFS SLC 40\",\n{\n            'v': 1,\n            'f': \"1\",\n        },\nfalse,\nfalse,\nfalse,\nNaN,\n{\n            'v': 5.0,\n            'f': \"5.0\",\n        },\n{\n            'v': 0,\n            'f': \"0\",\n        },\n\"B1054\"],\n [{\n            'v': 61,\n            'f': \"61\",\n        },\n{\n            'v': 62,\n            'f': \"62\",\n        },\n{\n            'v': 9600.0,\n            'f': \"9600.0\",\n        },\n\"PO\",\n\"VAFB SLC 4E\",\n{\n            'v': 2,\n            'f': \"2\",\n        },\ntrue,\ntrue,\ntrue,\n\"5e9e3033383ecbb9e534e7cc\",\n{\n            'v': 5.0,\n            'f': \"5.0\",\n        },\n{\n            'v': 5,\n            'f': \"5\",\n        },\n\"B1049\"],\n [{\n            'v': 62,\n            'f': \"62\",\n        },\n{\n            'v': 63,\n            'f': \"63\",\n        },\n{\n            'v': 12259.0,\n            'f': \"12259.0\",\n        },\n\"ISS\",\n\"KSC LC 39A\",\n{\n            'v': 1,\n            'f': \"1\",\n        },\ntrue,\nfalse,\ntrue,\n\"5e9e3032383ecb6bb234e7ca\",\n{\n            'v': 5.0,\n            'f': \"5.0\",\n        },\n{\n            'v': 5,\n            'f': \"5\",\n        },\n\"B1051\"],\n [{\n            'v': 63,\n            'f': \"63\",\n        },\n{\n            'v': 64,\n            'f': \"64\",\n        },\n{\n            'v': 2482.0,\n            'f': \"2482.0\",\n        },\n\"ISS\",\n\"CCAFS SLC 40\",\n{\n            'v': 1,\n            'f': \"1\",\n        },\ntrue,\nfalse,\ntrue,\n\"5e9e3032383ecb6bb234e7ca\",\n{\n            'v': 5.0,\n            'f': \"5.0\",\n        },\n{\n            'v': 3,\n            'f': \"3\",\n        },\n\"B1056\"],\n [{\n            'v': 64,\n            'f': \"64\",\n        },\n{\n            'v': 65,\n            'f': \"65\",\n        },\n{\n            'v': 13620.0,\n            'f': \"13620.0\",\n        },\n\"VLEO\",\n\"CCAFS SLC 40\",\n{\n            'v': 3,\n            'f': \"3\",\n        },\ntrue,\ntrue,\ntrue,\n\"5e9e3032383ecb6bb234e7ca\",\n{\n            'v': 5.0,\n            'f': \"5.0\",\n        },\n{\n            'v': 5,\n            'f': \"5\",\n        },\n\"B1049\"],\n [{\n            'v': 65,\n            'f': \"65\",\n        },\n{\n            'v': 66,\n            'f': \"66\",\n        },\n{\n            'v': 1425.0,\n            'f': \"1425.0\",\n        },\n\"SSO\",\n\"VAFB SLC 4E\",\n{\n            'v': 2,\n            'f': \"2\",\n        },\ntrue,\ntrue,\ntrue,\n\"5e9e3032383ecb554034e7c9\",\n{\n            'v': 5.0,\n            'f': \"5.0\",\n        },\n{\n            'v': 5,\n            'f': \"5\",\n        },\n\"B1051\"],\n [{\n            'v': 66,\n            'f': \"66\",\n        },\n{\n            'v': 67,\n            'f': \"67\",\n        },\n{\n            'v': 2227.7,\n            'f': \"2227.7\",\n        },\n\"ISS\",\n\"CCAFS SLC 40\",\n{\n            'v': 2,\n            'f': \"2\",\n        },\ntrue,\ntrue,\ntrue,\n\"5e9e3032383ecb267a34e7c7\",\n{\n            'v': 5.0,\n            'f': \"5.0\",\n        },\n{\n            'v': 3,\n            'f': \"3\",\n        },\n\"B1056\"],\n [{\n            'v': 67,\n            'f': \"67\",\n        },\n{\n            'v': 68,\n            'f': \"68\",\n        },\n{\n            'v': 6500.0,\n            'f': \"6500.0\",\n        },\n\"GTO\",\n\"CCAFS SLC 40\",\n{\n            'v': 3,\n            'f': \"3\",\n        },\nfalse,\ntrue,\nfalse,\nNaN,\n{\n            'v': 5.0,\n            'f': \"5.0\",\n        },\n{\n            'v': 2,\n            'f': \"2\",\n        },\n\"B1047\"],\n [{\n            'v': 68,\n            'f': \"68\",\n        },\n{\n            'v': 69,\n            'f': \"69\",\n        },\n{\n            'v': 15600.0,\n            'f': \"15600.0\",\n        },\n\"VLEO\",\n\"CCAFS SLC 40\",\n{\n            'v': 4,\n            'f': \"4\",\n        },\ntrue,\ntrue,\ntrue,\n\"5e9e3032383ecb6bb234e7ca\",\n{\n            'v': 5.0,\n            'f': \"5.0\",\n        },\n{\n            'v': 4,\n            'f': \"4\",\n        },\n\"B1048\"],\n [{\n            'v': 69,\n            'f': \"69\",\n        },\n{\n            'v': 70,\n            'f': \"70\",\n        },\n{\n            'v': 5000.0,\n            'f': \"5000.0\",\n        },\n\"ISS\",\n\"CCAFS SLC 40\",\n{\n            'v': 1,\n            'f': \"1\",\n        },\ntrue,\nfalse,\ntrue,\n\"5e9e3032383ecb6bb234e7ca\",\n{\n            'v': 5.0,\n            'f': \"5.0\",\n        },\n{\n            'v': 3,\n            'f': \"3\",\n        },\n\"B1059\"],\n [{\n            'v': 70,\n            'f': \"70\",\n        },\n{\n            'v': 71,\n            'f': \"71\",\n        },\n{\n            'v': 6800.0,\n            'f': \"6800.0\",\n        },\n\"GTO\",\n\"CCAFS SLC 40\",\n{\n            'v': 3,\n            'f': \"3\",\n        },\ntrue,\ntrue,\ntrue,\n\"5e9e3032383ecb6bb234e7ca\",\n{\n            'v': 5.0,\n            'f': \"5.0\",\n        },\n{\n            'v': 3,\n            'f': \"3\",\n        },\n\"B1056\"],\n [{\n            'v': 71,\n            'f': \"71\",\n        },\n{\n            'v': 72,\n            'f': \"72\",\n        },\n{\n            'v': 15400.0,\n            'f': \"15400.0\",\n        },\n\"VLEO\",\n\"CCAFS SLC 40\",\n{\n            'v': 4,\n            'f': \"4\",\n        },\ntrue,\ntrue,\ntrue,\n\"5e9e3032383ecb6bb234e7ca\",\n{\n            'v': 5.0,\n            'f': \"5.0\",\n        },\n{\n            'v': 5,\n            'f': \"5\",\n        },\n\"B1049\"],\n [{\n            'v': 72,\n            'f': \"72\",\n        },\n{\n            'v': 73,\n            'f': \"73\",\n        },\n{\n            'v': 6104.959411764706,\n            'f': \"6104.959411764706\",\n        },\n\"SO\",\n\"KSC LC 39A\",\n{\n            'v': 4,\n            'f': \"4\",\n        },\nfalse,\ntrue,\nfalse,\nNaN,\n{\n            'v': 5.0,\n            'f': \"5.0\",\n        },\n{\n            'v': 3,\n            'f': \"3\",\n        },\n\"B1046\"],\n [{\n            'v': 73,\n            'f': \"73\",\n        },\n{\n            'v': 74,\n            'f': \"74\",\n        },\n{\n            'v': 15600.0,\n            'f': \"15600.0\",\n        },\n\"VLEO\",\n\"CCAFS SLC 40\",\n{\n            'v': 3,\n            'f': \"3\",\n        },\ntrue,\ntrue,\ntrue,\n\"5e9e3032383ecb6bb234e7ca\",\n{\n            'v': 5.0,\n            'f': \"5.0\",\n        },\n{\n            'v': 5,\n            'f': \"5\",\n        },\n\"B1051\"],\n [{\n            'v': 74,\n            'f': \"74\",\n        },\n{\n            'v': 75,\n            'f': \"75\",\n        },\n{\n            'v': 15400.0,\n            'f': \"15400.0\",\n        },\n\"VLEO\",\n\"CCAFS SLC 40\",\n{\n            'v': 4,\n            'f': \"4\",\n        },\ntrue,\ntrue,\ntrue,\n\"5e9e3032383ecb6bb234e7ca\",\n{\n            'v': 5.0,\n            'f': \"5.0\",\n        },\n{\n            'v': 3,\n            'f': \"3\",\n        },\n\"B1056\"],\n [{\n            'v': 75,\n            'f': \"75\",\n        },\n{\n            'v': 76,\n            'f': \"76\",\n        },\n{\n            'v': 1977.0,\n            'f': \"1977.0\",\n        },\n\"ISS\",\n\"CCAFS SLC 40\",\n{\n            'v': 2,\n            'f': \"2\",\n        },\ntrue,\ntrue,\ntrue,\n\"5e9e3032383ecb267a34e7c7\",\n{\n            'v': 5.0,\n            'f': \"5.0\",\n        },\n{\n            'v': 3,\n            'f': \"3\",\n        },\n\"B1059\"],\n [{\n            'v': 76,\n            'f': \"76\",\n        },\n{\n            'v': 77,\n            'f': \"77\",\n        },\n{\n            'v': 15600.0,\n            'f': \"15600.0\",\n        },\n\"VLEO\",\n\"KSC LC 39A\",\n{\n            'v': 5,\n            'f': \"5\",\n        },\ntrue,\ntrue,\ntrue,\n\"5e9e3032383ecb6bb234e7ca\",\n{\n            'v': 5.0,\n            'f': \"5.0\",\n        },\n{\n            'v': 4,\n            'f': \"4\",\n        },\n\"B1048\"],\n [{\n            'v': 77,\n            'f': \"77\",\n        },\n{\n            'v': 78,\n            'f': \"78\",\n        },\n{\n            'v': 15400.0,\n            'f': \"15400.0\",\n        },\n\"VLEO\",\n\"KSC LC 39A\",\n{\n            'v': 4,\n            'f': \"4\",\n        },\ntrue,\ntrue,\ntrue,\n\"5e9e3032383ecb6bb234e7ca\",\n{\n            'v': 5.0,\n            'f': \"5.0\",\n        },\n{\n            'v': 5,\n            'f': \"5\",\n        },\n\"B1051\"],\n [{\n            'v': 78,\n            'f': \"78\",\n        },\n{\n            'v': 79,\n            'f': \"79\",\n        },\n{\n            'v': 9525.0,\n            'f': \"9525.0\",\n        },\n\"ISS\",\n\"KSC LC 39A\",\n{\n            'v': 1,\n            'f': \"1\",\n        },\ntrue,\nfalse,\ntrue,\n\"5e9e3032383ecb6bb234e7ca\",\n{\n            'v': 5.0,\n            'f': \"5.0\",\n        },\n{\n            'v': 2,\n            'f': \"2\",\n        },\n\"B1058\"],\n [{\n            'v': 79,\n            'f': \"79\",\n        },\n{\n            'v': 80,\n            'f': \"80\",\n        },\n{\n            'v': 15400.0,\n            'f': \"15400.0\",\n        },\n\"VLEO\",\n\"CCAFS SLC 40\",\n{\n            'v': 5,\n            'f': \"5\",\n        },\ntrue,\ntrue,\ntrue,\n\"5e9e3033383ecbb9e534e7cc\",\n{\n            'v': 5.0,\n            'f': \"5.0\",\n        },\n{\n            'v': 5,\n            'f': \"5\",\n        },\n\"B1049\"],\n [{\n            'v': 80,\n            'f': \"80\",\n        },\n{\n            'v': 81,\n            'f': \"81\",\n        },\n{\n            'v': 15400.0,\n            'f': \"15400.0\",\n        },\n\"VLEO\",\n\"CCAFS SLC 40\",\n{\n            'v': 3,\n            'f': \"3\",\n        },\ntrue,\ntrue,\ntrue,\n\"5e9e3032383ecb6bb234e7ca\",\n{\n            'v': 5.0,\n            'f': \"5.0\",\n        },\n{\n            'v': 3,\n            'f': \"3\",\n        },\n\"B1059\"],\n [{\n            'v': 81,\n            'f': \"81\",\n        },\n{\n            'v': 82,\n            'f': \"82\",\n        },\n{\n            'v': 3880.0,\n            'f': \"3880.0\",\n        },\n\"MEO\",\n\"CCAFS SLC 40\",\n{\n            'v': 1,\n            'f': \"1\",\n        },\ntrue,\nfalse,\ntrue,\n\"5e9e3033383ecbb9e534e7cc\",\n{\n            'v': 5.0,\n            'f': \"5.0\",\n        },\n{\n            'v': 2,\n            'f': \"2\",\n        },\n\"B1060\"],\n [{\n            'v': 82,\n            'f': \"82\",\n        },\n{\n            'v': 83,\n            'f': \"83\",\n        },\n{\n            'v': 6104.959411764706,\n            'f': \"6104.959411764706\",\n        },\n\"GEO\",\n\"CCAFS SLC 40\",\n{\n            'v': 2,\n            'f': \"2\",\n        },\ntrue,\ntrue,\ntrue,\n\"5e9e3033383ecbb9e534e7cc\",\n{\n            'v': 5.0,\n            'f': \"5.0\",\n        },\n{\n            'v': 2,\n            'f': \"2\",\n        },\n\"B1058\"],\n [{\n            'v': 83,\n            'f': \"83\",\n        },\n{\n            'v': 84,\n            'f': \"84\",\n        },\n{\n            'v': 15400.0,\n            'f': \"15400.0\",\n        },\n\"VLEO\",\n\"CCAFS SLC 40\",\n{\n            'v': 6,\n            'f': \"6\",\n        },\ntrue,\ntrue,\ntrue,\n\"5e9e3032383ecb6bb234e7ca\",\n{\n            'v': 5.0,\n            'f': \"5.0\",\n        },\n{\n            'v': 5,\n            'f': \"5\",\n        },\n\"B1049\"],\n [{\n            'v': 84,\n            'f': \"84\",\n        },\n{\n            'v': 85,\n            'f': \"85\",\n        },\n{\n            'v': 1600.0,\n            'f': \"1600.0\",\n        },\n\"SSO\",\n\"CCAFS SLC 40\",\n{\n            'v': 4,\n            'f': \"4\",\n        },\ntrue,\ntrue,\ntrue,\n\"5e9e3032383ecb267a34e7c7\",\n{\n            'v': 5.0,\n            'f': \"5.0\",\n        },\n{\n            'v': 3,\n            'f': \"3\",\n        },\n\"B1059\"],\n [{\n            'v': 85,\n            'f': \"85\",\n        },\n{\n            'v': 86,\n            'f': \"86\",\n        },\n{\n            'v': 15400.0,\n            'f': \"15400.0\",\n        },\n\"VLEO\",\n\"KSC LC 39A\",\n{\n            'v': 2,\n            'f': \"2\",\n        },\ntrue,\ntrue,\ntrue,\n\"5e9e3032383ecb6bb234e7ca\",\n{\n            'v': 5.0,\n            'f': \"5.0\",\n        },\n{\n            'v': 2,\n            'f': \"2\",\n        },\n\"B1060\"],\n [{\n            'v': 86,\n            'f': \"86\",\n        },\n{\n            'v': 87,\n            'f': \"87\",\n        },\n{\n            'v': 15400.0,\n            'f': \"15400.0\",\n        },\n\"VLEO\",\n\"KSC LC 39A\",\n{\n            'v': 3,\n            'f': \"3\",\n        },\ntrue,\ntrue,\ntrue,\n\"5e9e3032383ecb6bb234e7ca\",\n{\n            'v': 5.0,\n            'f': \"5.0\",\n        },\n{\n            'v': 2,\n            'f': \"2\",\n        },\n\"B1058\"],\n [{\n            'v': 87,\n            'f': \"87\",\n        },\n{\n            'v': 88,\n            'f': \"88\",\n        },\n{\n            'v': 15400.0,\n            'f': \"15400.0\",\n        },\n\"VLEO\",\n\"KSC LC 39A\",\n{\n            'v': 6,\n            'f': \"6\",\n        },\ntrue,\ntrue,\ntrue,\n\"5e9e3032383ecb6bb234e7ca\",\n{\n            'v': 5.0,\n            'f': \"5.0\",\n        },\n{\n            'v': 5,\n            'f': \"5\",\n        },\n\"B1051\"],\n [{\n            'v': 88,\n            'f': \"88\",\n        },\n{\n            'v': 89,\n            'f': \"89\",\n        },\n{\n            'v': 15400.0,\n            'f': \"15400.0\",\n        },\n\"VLEO\",\n\"CCAFS SLC 40\",\n{\n            'v': 3,\n            'f': \"3\",\n        },\ntrue,\ntrue,\ntrue,\n\"5e9e3033383ecbb9e534e7cc\",\n{\n            'v': 5.0,\n            'f': \"5.0\",\n        },\n{\n            'v': 2,\n            'f': \"2\",\n        },\n\"B1060\"],\n [{\n            'v': 89,\n            'f': \"89\",\n        },\n{\n            'v': 90,\n            'f': \"90\",\n        },\n{\n            'v': 3681.0,\n            'f': \"3681.0\",\n        },\n\"MEO\",\n\"CCAFS SLC 40\",\n{\n            'v': 1,\n            'f': \"1\",\n        },\ntrue,\nfalse,\ntrue,\n\"5e9e3032383ecb6bb234e7ca\",\n{\n            'v': 5.0,\n            'f': \"5.0\",\n        },\n{\n            'v': 0,\n            'f': \"0\",\n        },\n\"B1062\"]],\n        columns: [[\"number\", \"index\"], [\"number\", \"FlightNumber\"], [\"number\", \"PayloadMass\"], [\"string\", \"Orbit\"], [\"string\", \"LaunchSite\"], [\"number\", \"Flights\"], [\"string\", \"GridFins\"], [\"string\", \"Reused\"], [\"string\", \"Legs\"], [\"string\", \"LandingPad\"], [\"number\", \"Block\"], [\"number\", \"ReusedCount\"], [\"string\", \"Serial\"]],\n        columnOptions: [{\"width\": \"1px\", \"className\": \"index_column\"}],\n        rowsPerPage: 25,\n        helpUrl: \"https://colab.research.google.com/notebooks/data_table.ipynb\",\n        suppressOutputScrolling: true,\n        minimumWidth: undefined,\n      });\n    "
          },
          "metadata": {},
          "execution_count": 73
        }
      ],
      "source": [
        "features = df[['FlightNumber', 'PayloadMass', 'Orbit', 'LaunchSite', 'Flights', 'GridFins', 'Reused', 'Legs', 'LandingPad', 'Block', 'ReusedCount', 'Serial']]\n",
        "features"
      ]
    },
    {
      "cell_type": "markdown",
      "metadata": {
        "id": "nu8b7FhpJk8m"
      },
      "source": [
        "### TASK  7: Create dummy variables to categorical columns\n"
      ]
    },
    {
      "cell_type": "markdown",
      "metadata": {
        "id": "h0fUp1N4Jk8m"
      },
      "source": [
        "Use the function <code>get_dummies</code> and <code>features</code> dataframe to apply OneHotEncoder to the column <code>Orbits</code>, <code>LaunchSite</code>, <code>LandingPad</code>, and <code>Serial</code>. Assign the value to the variable <code>features_one_hot</code>, display the results using the method head. Your result dataframe must include all features including the encoded ones.\n"
      ]
    },
    {
      "cell_type": "code",
      "execution_count": 95,
      "metadata": {
        "colab": {
          "base_uri": "https://localhost:8080/",
          "height": 334
        },
        "id": "ql7QZSMNJk8n",
        "outputId": "c8172f1b-a523-4a1a-878e-82c94e92f5e4"
      },
      "outputs": [
        {
          "output_type": "stream",
          "name": "stdout",
          "text": [
            "Warning: Total number of columns (80) exceeds max_columns (20). Falling back to pandas display.\n"
          ]
        },
        {
          "output_type": "execute_result",
          "data": {
            "text/plain": [
              "   FlightNumber  PayloadMass  Flights  GridFins  Reused   Legs  Block  \\\n",
              "0             1  6104.959412        1     False   False  False    1.0   \n",
              "1             2   525.000000        1     False   False  False    1.0   \n",
              "2             3   677.000000        1     False   False  False    1.0   \n",
              "3             4   500.000000        1     False   False  False    1.0   \n",
              "4             5  3170.000000        1     False   False  False    1.0   \n",
              "\n",
              "   ReusedCount  Orbit_ES-L1  Orbit_GEO  ...  Serial_B1048  Serial_B1049  \\\n",
              "0            0            0          0  ...             0             0   \n",
              "1            0            0          0  ...             0             0   \n",
              "2            0            0          0  ...             0             0   \n",
              "3            0            0          0  ...             0             0   \n",
              "4            0            0          0  ...             0             0   \n",
              "\n",
              "   Serial_B1050  Serial_B1051  Serial_B1054  Serial_B1056  Serial_B1058  \\\n",
              "0             0             0             0             0             0   \n",
              "1             0             0             0             0             0   \n",
              "2             0             0             0             0             0   \n",
              "3             0             0             0             0             0   \n",
              "4             0             0             0             0             0   \n",
              "\n",
              "   Serial_B1059  Serial_B1060  Serial_B1062  \n",
              "0             0             0             0  \n",
              "1             0             0             0  \n",
              "2             0             0             0  \n",
              "3             0             0             0  \n",
              "4             0             0             0  \n",
              "\n",
              "[5 rows x 80 columns]"
            ],
            "text/html": [
              "\n",
              "  <div id=\"df-8215a90c-3e5e-405d-a449-6876275efdb5\">\n",
              "    <div class=\"colab-df-container\">\n",
              "      <div>\n",
              "<style scoped>\n",
              "    .dataframe tbody tr th:only-of-type {\n",
              "        vertical-align: middle;\n",
              "    }\n",
              "\n",
              "    .dataframe tbody tr th {\n",
              "        vertical-align: top;\n",
              "    }\n",
              "\n",
              "    .dataframe thead th {\n",
              "        text-align: right;\n",
              "    }\n",
              "</style>\n",
              "<table border=\"1\" class=\"dataframe\">\n",
              "  <thead>\n",
              "    <tr style=\"text-align: right;\">\n",
              "      <th></th>\n",
              "      <th>FlightNumber</th>\n",
              "      <th>PayloadMass</th>\n",
              "      <th>Flights</th>\n",
              "      <th>GridFins</th>\n",
              "      <th>Reused</th>\n",
              "      <th>Legs</th>\n",
              "      <th>Block</th>\n",
              "      <th>ReusedCount</th>\n",
              "      <th>Orbit_ES-L1</th>\n",
              "      <th>Orbit_GEO</th>\n",
              "      <th>...</th>\n",
              "      <th>Serial_B1048</th>\n",
              "      <th>Serial_B1049</th>\n",
              "      <th>Serial_B1050</th>\n",
              "      <th>Serial_B1051</th>\n",
              "      <th>Serial_B1054</th>\n",
              "      <th>Serial_B1056</th>\n",
              "      <th>Serial_B1058</th>\n",
              "      <th>Serial_B1059</th>\n",
              "      <th>Serial_B1060</th>\n",
              "      <th>Serial_B1062</th>\n",
              "    </tr>\n",
              "  </thead>\n",
              "  <tbody>\n",
              "    <tr>\n",
              "      <th>0</th>\n",
              "      <td>1</td>\n",
              "      <td>6104.959412</td>\n",
              "      <td>1</td>\n",
              "      <td>False</td>\n",
              "      <td>False</td>\n",
              "      <td>False</td>\n",
              "      <td>1.0</td>\n",
              "      <td>0</td>\n",
              "      <td>0</td>\n",
              "      <td>0</td>\n",
              "      <td>...</td>\n",
              "      <td>0</td>\n",
              "      <td>0</td>\n",
              "      <td>0</td>\n",
              "      <td>0</td>\n",
              "      <td>0</td>\n",
              "      <td>0</td>\n",
              "      <td>0</td>\n",
              "      <td>0</td>\n",
              "      <td>0</td>\n",
              "      <td>0</td>\n",
              "    </tr>\n",
              "    <tr>\n",
              "      <th>1</th>\n",
              "      <td>2</td>\n",
              "      <td>525.000000</td>\n",
              "      <td>1</td>\n",
              "      <td>False</td>\n",
              "      <td>False</td>\n",
              "      <td>False</td>\n",
              "      <td>1.0</td>\n",
              "      <td>0</td>\n",
              "      <td>0</td>\n",
              "      <td>0</td>\n",
              "      <td>...</td>\n",
              "      <td>0</td>\n",
              "      <td>0</td>\n",
              "      <td>0</td>\n",
              "      <td>0</td>\n",
              "      <td>0</td>\n",
              "      <td>0</td>\n",
              "      <td>0</td>\n",
              "      <td>0</td>\n",
              "      <td>0</td>\n",
              "      <td>0</td>\n",
              "    </tr>\n",
              "    <tr>\n",
              "      <th>2</th>\n",
              "      <td>3</td>\n",
              "      <td>677.000000</td>\n",
              "      <td>1</td>\n",
              "      <td>False</td>\n",
              "      <td>False</td>\n",
              "      <td>False</td>\n",
              "      <td>1.0</td>\n",
              "      <td>0</td>\n",
              "      <td>0</td>\n",
              "      <td>0</td>\n",
              "      <td>...</td>\n",
              "      <td>0</td>\n",
              "      <td>0</td>\n",
              "      <td>0</td>\n",
              "      <td>0</td>\n",
              "      <td>0</td>\n",
              "      <td>0</td>\n",
              "      <td>0</td>\n",
              "      <td>0</td>\n",
              "      <td>0</td>\n",
              "      <td>0</td>\n",
              "    </tr>\n",
              "    <tr>\n",
              "      <th>3</th>\n",
              "      <td>4</td>\n",
              "      <td>500.000000</td>\n",
              "      <td>1</td>\n",
              "      <td>False</td>\n",
              "      <td>False</td>\n",
              "      <td>False</td>\n",
              "      <td>1.0</td>\n",
              "      <td>0</td>\n",
              "      <td>0</td>\n",
              "      <td>0</td>\n",
              "      <td>...</td>\n",
              "      <td>0</td>\n",
              "      <td>0</td>\n",
              "      <td>0</td>\n",
              "      <td>0</td>\n",
              "      <td>0</td>\n",
              "      <td>0</td>\n",
              "      <td>0</td>\n",
              "      <td>0</td>\n",
              "      <td>0</td>\n",
              "      <td>0</td>\n",
              "    </tr>\n",
              "    <tr>\n",
              "      <th>4</th>\n",
              "      <td>5</td>\n",
              "      <td>3170.000000</td>\n",
              "      <td>1</td>\n",
              "      <td>False</td>\n",
              "      <td>False</td>\n",
              "      <td>False</td>\n",
              "      <td>1.0</td>\n",
              "      <td>0</td>\n",
              "      <td>0</td>\n",
              "      <td>0</td>\n",
              "      <td>...</td>\n",
              "      <td>0</td>\n",
              "      <td>0</td>\n",
              "      <td>0</td>\n",
              "      <td>0</td>\n",
              "      <td>0</td>\n",
              "      <td>0</td>\n",
              "      <td>0</td>\n",
              "      <td>0</td>\n",
              "      <td>0</td>\n",
              "      <td>0</td>\n",
              "    </tr>\n",
              "  </tbody>\n",
              "</table>\n",
              "<p>5 rows × 80 columns</p>\n",
              "</div>\n",
              "      <button class=\"colab-df-convert\" onclick=\"convertToInteractive('df-8215a90c-3e5e-405d-a449-6876275efdb5')\"\n",
              "              title=\"Convert this dataframe to an interactive table.\"\n",
              "              style=\"display:none;\">\n",
              "        \n",
              "  <svg xmlns=\"http://www.w3.org/2000/svg\" height=\"24px\"viewBox=\"0 0 24 24\"\n",
              "       width=\"24px\">\n",
              "    <path d=\"M0 0h24v24H0V0z\" fill=\"none\"/>\n",
              "    <path d=\"M18.56 5.44l.94 2.06.94-2.06 2.06-.94-2.06-.94-.94-2.06-.94 2.06-2.06.94zm-11 1L8.5 8.5l.94-2.06 2.06-.94-2.06-.94L8.5 2.5l-.94 2.06-2.06.94zm10 10l.94 2.06.94-2.06 2.06-.94-2.06-.94-.94-2.06-.94 2.06-2.06.94z\"/><path d=\"M17.41 7.96l-1.37-1.37c-.4-.4-.92-.59-1.43-.59-.52 0-1.04.2-1.43.59L10.3 9.45l-7.72 7.72c-.78.78-.78 2.05 0 2.83L4 21.41c.39.39.9.59 1.41.59.51 0 1.02-.2 1.41-.59l7.78-7.78 2.81-2.81c.8-.78.8-2.07 0-2.86zM5.41 20L4 18.59l7.72-7.72 1.47 1.35L5.41 20z\"/>\n",
              "  </svg>\n",
              "      </button>\n",
              "      \n",
              "  <style>\n",
              "    .colab-df-container {\n",
              "      display:flex;\n",
              "      flex-wrap:wrap;\n",
              "      gap: 12px;\n",
              "    }\n",
              "\n",
              "    .colab-df-convert {\n",
              "      background-color: #E8F0FE;\n",
              "      border: none;\n",
              "      border-radius: 50%;\n",
              "      cursor: pointer;\n",
              "      display: none;\n",
              "      fill: #1967D2;\n",
              "      height: 32px;\n",
              "      padding: 0 0 0 0;\n",
              "      width: 32px;\n",
              "    }\n",
              "\n",
              "    .colab-df-convert:hover {\n",
              "      background-color: #E2EBFA;\n",
              "      box-shadow: 0px 1px 2px rgba(60, 64, 67, 0.3), 0px 1px 3px 1px rgba(60, 64, 67, 0.15);\n",
              "      fill: #174EA6;\n",
              "    }\n",
              "\n",
              "    [theme=dark] .colab-df-convert {\n",
              "      background-color: #3B4455;\n",
              "      fill: #D2E3FC;\n",
              "    }\n",
              "\n",
              "    [theme=dark] .colab-df-convert:hover {\n",
              "      background-color: #434B5C;\n",
              "      box-shadow: 0px 1px 3px 1px rgba(0, 0, 0, 0.15);\n",
              "      filter: drop-shadow(0px 1px 2px rgba(0, 0, 0, 0.3));\n",
              "      fill: #FFFFFF;\n",
              "    }\n",
              "  </style>\n",
              "\n",
              "      <script>\n",
              "        const buttonEl =\n",
              "          document.querySelector('#df-8215a90c-3e5e-405d-a449-6876275efdb5 button.colab-df-convert');\n",
              "        buttonEl.style.display =\n",
              "          google.colab.kernel.accessAllowed ? 'block' : 'none';\n",
              "\n",
              "        async function convertToInteractive(key) {\n",
              "          const element = document.querySelector('#df-8215a90c-3e5e-405d-a449-6876275efdb5');\n",
              "          const dataTable =\n",
              "            await google.colab.kernel.invokeFunction('convertToInteractive',\n",
              "                                                     [key], {});\n",
              "          if (!dataTable) return;\n",
              "\n",
              "          const docLinkHtml = 'Like what you see? Visit the ' +\n",
              "            '<a target=\"_blank\" href=https://colab.research.google.com/notebooks/data_table.ipynb>data table notebook</a>'\n",
              "            + ' to learn more about interactive tables.';\n",
              "          element.innerHTML = '';\n",
              "          dataTable['output_type'] = 'display_data';\n",
              "          await google.colab.output.renderOutput(dataTable, element);\n",
              "          const docLink = document.createElement('div');\n",
              "          docLink.innerHTML = docLinkHtml;\n",
              "          element.appendChild(docLink);\n",
              "        }\n",
              "      </script>\n",
              "    </div>\n",
              "  </div>\n",
              "  "
            ]
          },
          "metadata": {},
          "execution_count": 95
        }
      ],
      "source": [
        "from pandas.core.reshape.reshape import get_dummies\n",
        "# HINT: Use get_dummies() function on the categorical columns\n",
        "\n",
        "features_one_hot=pd.get_dummies(features)\n",
        "features_one_hot.head()\n"
      ]
    },
    {
      "cell_type": "markdown",
      "metadata": {
        "id": "t796-c0KJk8n"
      },
      "source": [
        "### TASK  8: Cast all numeric columns to `float64`\n"
      ]
    },
    {
      "cell_type": "markdown",
      "metadata": {
        "id": "4lhbu8X0Jk8n"
      },
      "source": [
        "Now that our <code>features_one_hot</code> dataframe only contains numbers cast the entire dataframe to variable type <code>float64</code>\n"
      ]
    },
    {
      "cell_type": "code",
      "execution_count": 97,
      "metadata": {
        "id": "T9ofSAy_Jk8o",
        "colab": {
          "base_uri": "https://localhost:8080/"
        },
        "outputId": "0c755541-52fd-4ccb-9fba-1723098ea5c9"
      },
      "outputs": [
        {
          "output_type": "stream",
          "name": "stdout",
          "text": [
            "<class 'pandas.core.frame.DataFrame'>\n",
            "RangeIndex: 90 entries, 0 to 89\n",
            "Data columns (total 80 columns):\n",
            " #   Column                               Non-Null Count  Dtype  \n",
            "---  ------                               --------------  -----  \n",
            " 0   FlightNumber                         90 non-null     float64\n",
            " 1   PayloadMass                          90 non-null     float64\n",
            " 2   Flights                              90 non-null     float64\n",
            " 3   GridFins                             90 non-null     float64\n",
            " 4   Reused                               90 non-null     float64\n",
            " 5   Legs                                 90 non-null     float64\n",
            " 6   Block                                90 non-null     float64\n",
            " 7   ReusedCount                          90 non-null     float64\n",
            " 8   Orbit_ES-L1                          90 non-null     float64\n",
            " 9   Orbit_GEO                            90 non-null     float64\n",
            " 10  Orbit_GTO                            90 non-null     float64\n",
            " 11  Orbit_HEO                            90 non-null     float64\n",
            " 12  Orbit_ISS                            90 non-null     float64\n",
            " 13  Orbit_LEO                            90 non-null     float64\n",
            " 14  Orbit_MEO                            90 non-null     float64\n",
            " 15  Orbit_PO                             90 non-null     float64\n",
            " 16  Orbit_SO                             90 non-null     float64\n",
            " 17  Orbit_SSO                            90 non-null     float64\n",
            " 18  Orbit_VLEO                           90 non-null     float64\n",
            " 19  LaunchSite_CCAFS SLC 40              90 non-null     float64\n",
            " 20  LaunchSite_KSC LC 39A                90 non-null     float64\n",
            " 21  LaunchSite_VAFB SLC 4E               90 non-null     float64\n",
            " 22  LandingPad_5e9e3032383ecb267a34e7c7  90 non-null     float64\n",
            " 23  LandingPad_5e9e3032383ecb554034e7c9  90 non-null     float64\n",
            " 24  LandingPad_5e9e3032383ecb6bb234e7ca  90 non-null     float64\n",
            " 25  LandingPad_5e9e3032383ecb761634e7cb  90 non-null     float64\n",
            " 26  LandingPad_5e9e3033383ecbb9e534e7cc  90 non-null     float64\n",
            " 27  Serial_B0003                         90 non-null     float64\n",
            " 28  Serial_B0005                         90 non-null     float64\n",
            " 29  Serial_B0007                         90 non-null     float64\n",
            " 30  Serial_B1003                         90 non-null     float64\n",
            " 31  Serial_B1004                         90 non-null     float64\n",
            " 32  Serial_B1005                         90 non-null     float64\n",
            " 33  Serial_B1006                         90 non-null     float64\n",
            " 34  Serial_B1007                         90 non-null     float64\n",
            " 35  Serial_B1008                         90 non-null     float64\n",
            " 36  Serial_B1010                         90 non-null     float64\n",
            " 37  Serial_B1011                         90 non-null     float64\n",
            " 38  Serial_B1012                         90 non-null     float64\n",
            " 39  Serial_B1013                         90 non-null     float64\n",
            " 40  Serial_B1015                         90 non-null     float64\n",
            " 41  Serial_B1016                         90 non-null     float64\n",
            " 42  Serial_B1017                         90 non-null     float64\n",
            " 43  Serial_B1018                         90 non-null     float64\n",
            " 44  Serial_B1019                         90 non-null     float64\n",
            " 45  Serial_B1020                         90 non-null     float64\n",
            " 46  Serial_B1021                         90 non-null     float64\n",
            " 47  Serial_B1022                         90 non-null     float64\n",
            " 48  Serial_B1023                         90 non-null     float64\n",
            " 49  Serial_B1025                         90 non-null     float64\n",
            " 50  Serial_B1026                         90 non-null     float64\n",
            " 51  Serial_B1028                         90 non-null     float64\n",
            " 52  Serial_B1029                         90 non-null     float64\n",
            " 53  Serial_B1030                         90 non-null     float64\n",
            " 54  Serial_B1031                         90 non-null     float64\n",
            " 55  Serial_B1032                         90 non-null     float64\n",
            " 56  Serial_B1034                         90 non-null     float64\n",
            " 57  Serial_B1035                         90 non-null     float64\n",
            " 58  Serial_B1036                         90 non-null     float64\n",
            " 59  Serial_B1037                         90 non-null     float64\n",
            " 60  Serial_B1038                         90 non-null     float64\n",
            " 61  Serial_B1039                         90 non-null     float64\n",
            " 62  Serial_B1040                         90 non-null     float64\n",
            " 63  Serial_B1041                         90 non-null     float64\n",
            " 64  Serial_B1042                         90 non-null     float64\n",
            " 65  Serial_B1043                         90 non-null     float64\n",
            " 66  Serial_B1044                         90 non-null     float64\n",
            " 67  Serial_B1045                         90 non-null     float64\n",
            " 68  Serial_B1046                         90 non-null     float64\n",
            " 69  Serial_B1047                         90 non-null     float64\n",
            " 70  Serial_B1048                         90 non-null     float64\n",
            " 71  Serial_B1049                         90 non-null     float64\n",
            " 72  Serial_B1050                         90 non-null     float64\n",
            " 73  Serial_B1051                         90 non-null     float64\n",
            " 74  Serial_B1054                         90 non-null     float64\n",
            " 75  Serial_B1056                         90 non-null     float64\n",
            " 76  Serial_B1058                         90 non-null     float64\n",
            " 77  Serial_B1059                         90 non-null     float64\n",
            " 78  Serial_B1060                         90 non-null     float64\n",
            " 79  Serial_B1062                         90 non-null     float64\n",
            "dtypes: float64(80)\n",
            "memory usage: 56.4 KB\n"
          ]
        }
      ],
      "source": [
        "# HINT: use astype function\n",
        "features_one_hot=features_one_hot.astype(float)\n",
        "features_one_hot.info()\n"
      ]
    },
    {
      "cell_type": "markdown",
      "metadata": {
        "id": "OxIyM1UpJk8o"
      },
      "source": [
        "We can now export it to a <b>CSV</b> for the next section,but to make the answers consistent, in the next lab we will provide data in a pre-selected date range.\n"
      ]
    },
    {
      "cell_type": "markdown",
      "metadata": {
        "id": "zpz546xhJk8o"
      },
      "source": [
        "<code>features_one_hot.to_csv('dataset_part\\_3.csv', index=False)</code>\n"
      ]
    },
    {
      "cell_type": "markdown",
      "metadata": {
        "id": "1_hE2G_xJk8p"
      },
      "source": [
        "## Authors\n"
      ]
    },
    {
      "cell_type": "markdown",
      "metadata": {
        "id": "QdE1gBX5Jk8p"
      },
      "source": [
        "<a href=\"https://www.linkedin.com/in/joseph-s-50398b136/?utm_medium=Exinfluencer&utm_source=Exinfluencer&utm_content=000026UJ&utm_term=10006555&utm_id=NA-SkillsNetwork-Channel-SkillsNetworkCoursesIBMDS0321ENSkillsNetwork26802033-2022-01-01\">Joseph Santarcangelo</a> has a PhD in Electrical Engineering, his research focused on using machine learning, signal processing, and computer vision to determine how videos impact human cognition. Joseph has been working for IBM since he completed his PhD.\n"
      ]
    },
    {
      "cell_type": "markdown",
      "metadata": {
        "id": "DE5i4-ZrJk8p"
      },
      "source": [
        "<a href=\"https://www.linkedin.com/in/nayefaboutayoun/?utm_medium=Exinfluencer&utm_source=Exinfluencer&utm_content=000026UJ&utm_term=10006555&utm_id=NA-SkillsNetwork-Channel-SkillsNetworkCoursesIBMDS0321ENSkillsNetwork26802033-2022-01-01\">Nayef Abou Tayoun</a> is a Data Scientist at IBM and pursuing a Master of Management in Artificial intelligence degree at Queen's University.\n"
      ]
    },
    {
      "cell_type": "markdown",
      "metadata": {
        "id": "rVwVzp7KJk8q"
      },
      "source": [
        "## Change Log\n"
      ]
    },
    {
      "cell_type": "markdown",
      "metadata": {
        "id": "D0GXxe8DJk8q"
      },
      "source": [
        "| Date (YYYY-MM-DD) | Version | Changed By    | Change Description      |\n",
        "| ----------------- | ------- | ------------- | ----------------------- |\n",
        "| 2021-10-12        | 1.1     | Lakshmi Holla | Modified markdown       |\n",
        "| 2020-09-20        | 1.0     | Joseph        | Modified Multiple Areas |\n",
        "| 2020-11-10        | 1.1     | Nayef         | updating the input data |\n"
      ]
    },
    {
      "cell_type": "markdown",
      "metadata": {
        "id": "l-PyqaCCJk8q"
      },
      "source": [
        "Copyright © 2020 IBM Corporation. All rights reserved.\n"
      ]
    }
  ],
  "metadata": {
    "kernelspec": {
      "display_name": "Python 3",
      "language": "python",
      "name": "python3"
    },
    "language_info": {
      "codemirror_mode": {
        "name": "ipython",
        "version": 3
      },
      "file_extension": ".py",
      "mimetype": "text/x-python",
      "name": "python",
      "nbconvert_exporter": "python",
      "pygments_lexer": "ipython3",
      "version": "3.8.8"
    },
    "colab": {
      "provenance": [],
      "include_colab_link": true
    }
  },
  "nbformat": 4,
  "nbformat_minor": 0
}