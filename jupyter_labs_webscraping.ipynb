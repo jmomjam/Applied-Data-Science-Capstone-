{
  "cells": [
    {
      "cell_type": "markdown",
      "metadata": {
        "id": "view-in-github",
        "colab_type": "text"
      },
      "source": [
        "<a href=\"https://colab.research.google.com/github/jmomjam/Applied-Data-Science-Capstone-/blob/main/jupyter_labs_webscraping.ipynb\" target=\"_parent\"><img src=\"https://colab.research.google.com/assets/colab-badge.svg\" alt=\"Open In Colab\"/></a>"
      ]
    },
    {
      "cell_type": "markdown",
      "metadata": {
        "id": "b_mSmU2-2xjq"
      },
      "source": [
        "<p style=\"text-align:center\">\n",
        "    <a href=\"https://skills.network/?utm_medium=Exinfluencer&utm_source=Exinfluencer&utm_content=000026UJ&utm_term=10006555&utm_id=NA-SkillsNetwork-Channel-SkillsNetworkCoursesIBMDS0321ENSkillsNetwork26802033-2022-01-01\" target=\"_blank\">\n",
        "    <img src=\"https://cf-courses-data.s3.us.cloud-object-storage.appdomain.cloud/assets/logos/SN_web_lightmode.png\" width=\"200\" alt=\"Skills Network Logo\"  />\n",
        "    </a>\n",
        "</p>\n"
      ]
    },
    {
      "cell_type": "markdown",
      "metadata": {
        "id": "T9S4-37t2xju"
      },
      "source": [
        "# **Space X  Falcon 9 First Stage Landing Prediction**\n"
      ]
    },
    {
      "cell_type": "markdown",
      "metadata": {
        "id": "T-VaO0lZ2xjv"
      },
      "source": [
        "## Web scraping Falcon 9 and Falcon Heavy Launches Records from Wikipedia\n"
      ]
    },
    {
      "cell_type": "markdown",
      "metadata": {
        "id": "1lgohQPa2xjw"
      },
      "source": [
        "Estimated time needed: **40** minutes\n"
      ]
    },
    {
      "cell_type": "markdown",
      "metadata": {
        "id": "xnKi19lp2xjw"
      },
      "source": [
        "In this lab, you will be performing web scraping to collect Falcon 9 historical launch records from a Wikipedia page titled `List of Falcon 9 and Falcon Heavy launches`\n",
        "\n",
        "[https://en.wikipedia.org/wiki/List_of_Falcon\\_9\\_and_Falcon_Heavy_launches](https://en.wikipedia.org/wiki/List_of_Falcon\\_9\\_and_Falcon_Heavy_launches?utm_medium=Exinfluencer&utm_source=Exinfluencer&utm_content=000026UJ&utm_term=10006555&utm_id=NA-SkillsNetwork-Channel-SkillsNetworkCoursesIBMDS0321ENSkillsNetwork26802033-2022-01-01)\n"
      ]
    },
    {
      "cell_type": "markdown",
      "metadata": {
        "id": "yxm_IXl82xjx"
      },
      "source": [
        "![](https://cf-courses-data.s3.us.cloud-object-storage.appdomain.cloud/IBM-DS0321EN-SkillsNetwork/labs/module\\_1\\_L2/images/Falcon9\\_rocket_family.svg)\n"
      ]
    },
    {
      "cell_type": "markdown",
      "metadata": {
        "id": "an3OG57B2xjy"
      },
      "source": [
        "Falcon 9 first stage will land successfully\n"
      ]
    },
    {
      "cell_type": "markdown",
      "metadata": {
        "id": "voXJjkW92xjy"
      },
      "source": [
        "![](https://cf-courses-data.s3.us.cloud-object-storage.appdomain.cloud/IBMDeveloperSkillsNetwork-DS0701EN-SkillsNetwork/api/Images/landing\\_1.gif)\n"
      ]
    },
    {
      "cell_type": "markdown",
      "metadata": {
        "id": "msiR-ah72xjz"
      },
      "source": [
        "Several examples of an unsuccessful landing are shown here:\n"
      ]
    },
    {
      "cell_type": "markdown",
      "metadata": {
        "id": "NmpmeTCy2xjz"
      },
      "source": [
        "![](https://cf-courses-data.s3.us.cloud-object-storage.appdomain.cloud/IBMDeveloperSkillsNetwork-DS0701EN-SkillsNetwork/api/Images/crash.gif)\n"
      ]
    },
    {
      "cell_type": "markdown",
      "metadata": {
        "id": "OD1hKoH-2xj0"
      },
      "source": [
        "More specifically, the launch records are stored in a HTML table shown below:\n"
      ]
    },
    {
      "cell_type": "markdown",
      "metadata": {
        "id": "PEYj4ICY2xj0"
      },
      "source": [
        "![](https://cf-courses-data.s3.us.cloud-object-storage.appdomain.cloud/IBM-DS0321EN-SkillsNetwork/labs/module\\_1\\_L2/images/falcon9-launches-wiki.png)\n"
      ]
    },
    {
      "cell_type": "markdown",
      "metadata": {
        "id": "GeRgLOcA2xj1"
      },
      "source": [
        "## Objectives\n",
        "\n",
        "Web scrap Falcon 9 launch records with `BeautifulSoup`:\n",
        "\n",
        "*   Extract a Falcon 9 launch records HTML table from Wikipedia\n",
        "*   Parse the table and convert it into a Pandas data frame\n"
      ]
    },
    {
      "cell_type": "markdown",
      "metadata": {
        "id": "KHGUX1jq2xj1"
      },
      "source": [
        "First let's import required packages for this lab\n"
      ]
    },
    {
      "cell_type": "code",
      "execution_count": 55,
      "metadata": {
        "colab": {
          "base_uri": "https://localhost:8080/"
        },
        "id": "vCml99Kw2xj2",
        "outputId": "632b1d01-4369-4dd6-cca3-b3d5af0ea48d"
      },
      "outputs": [
        {
          "output_type": "stream",
          "name": "stdout",
          "text": [
            "Looking in indexes: https://pypi.org/simple, https://us-python.pkg.dev/colab-wheels/public/simple/\n",
            "Requirement already satisfied: beautifulsoup4 in /usr/local/lib/python3.7/dist-packages (4.6.3)\n",
            "Looking in indexes: https://pypi.org/simple, https://us-python.pkg.dev/colab-wheels/public/simple/\n",
            "Requirement already satisfied: requests in /usr/local/lib/python3.7/dist-packages (2.23.0)\n",
            "Requirement already satisfied: certifi>=2017.4.17 in /usr/local/lib/python3.7/dist-packages (from requests) (2022.6.15)\n",
            "Requirement already satisfied: chardet<4,>=3.0.2 in /usr/local/lib/python3.7/dist-packages (from requests) (3.0.4)\n",
            "Requirement already satisfied: urllib3!=1.25.0,!=1.25.1,<1.26,>=1.21.1 in /usr/local/lib/python3.7/dist-packages (from requests) (1.24.3)\n",
            "Requirement already satisfied: idna<3,>=2.5 in /usr/local/lib/python3.7/dist-packages (from requests) (2.10)\n"
          ]
        }
      ],
      "source": [
        "!pip3 install beautifulsoup4\n",
        "!pip3 install requests"
      ]
    },
    {
      "cell_type": "code",
      "execution_count": 56,
      "metadata": {
        "id": "WBfJK2Dt2xj3"
      },
      "outputs": [],
      "source": [
        "import sys\n",
        "\n",
        "import requests\n",
        "from bs4 import BeautifulSoup\n",
        "import re\n",
        "import unicodedata\n",
        "import pandas as pd"
      ]
    },
    {
      "cell_type": "markdown",
      "metadata": {
        "id": "1kgL6UfD2xj4"
      },
      "source": [
        "and we will provide some helper functions for you to process web scraped HTML table\n"
      ]
    },
    {
      "cell_type": "code",
      "execution_count": 57,
      "metadata": {
        "id": "gQ7Vs-MH2xj4"
      },
      "outputs": [],
      "source": [
        "def date_time(table_cells):\n",
        "    \"\"\"\n",
        "    This function returns the data and time from the HTML  table cell\n",
        "    Input: the  element of a table data cell extracts extra row\n",
        "    \"\"\"\n",
        "    return [data_time.strip() for data_time in list(table_cells.strings)][0:2]\n",
        "\n",
        "def booster_version(table_cells):\n",
        "    \"\"\"\n",
        "    This function returns the booster version from the HTML  table cell \n",
        "    Input: the  element of a table data cell extracts extra row\n",
        "    \"\"\"\n",
        "    out=''.join([booster_version for i,booster_version in enumerate( table_cells.strings) if i%2==0][0:-1])\n",
        "    return out\n",
        "\n",
        "def landing_status(table_cells):\n",
        "    \"\"\"\n",
        "    This function returns the landing status from the HTML table cell \n",
        "    Input: the  element of a table data cell extracts extra row\n",
        "    \"\"\"\n",
        "    out=[i for i in table_cells.strings][0]\n",
        "    return out\n",
        "\n",
        "\n",
        "def get_mass(table_cells):\n",
        "    mass=unicodedata.normalize(\"NFKD\", table_cells.text).strip()\n",
        "    if mass:\n",
        "        mass.find(\"kg\")\n",
        "        new_mass=mass[0:mass.find(\"kg\")+2]\n",
        "    else:\n",
        "        new_mass=0\n",
        "    return new_mass\n",
        "\n",
        "\n",
        "def extract_column_from_header(row):\n",
        "    \"\"\"\n",
        "    This function returns the landing status from the HTML table cell \n",
        "    Input: the  element of a table data cell extracts extra row\n",
        "    \"\"\"\n",
        "    if (row.br):\n",
        "        row.br.extract()\n",
        "    if row.a:\n",
        "        row.a.extract()\n",
        "    if row.sup:\n",
        "        row.sup.extract()\n",
        "        \n",
        "    colunm_name = ' '.join(row.contents)\n",
        "    \n",
        "    # Filter the digit and empty names\n",
        "    if not(colunm_name.strip().isdigit()):\n",
        "        colunm_name = colunm_name.strip()\n",
        "        return colunm_name    \n"
      ]
    },
    {
      "cell_type": "markdown",
      "metadata": {
        "id": "c3qSGWKx2xj6"
      },
      "source": [
        "To keep the lab tasks consistent, you will be asked to scrape the data from a snapshot of the  `List of Falcon 9 and Falcon Heavy launches` Wikipage updated on\n",
        "`9th June 2021`\n"
      ]
    },
    {
      "cell_type": "code",
      "execution_count": 58,
      "metadata": {
        "id": "k038TgFL2xj6"
      },
      "outputs": [],
      "source": [
        "static_url = \"https://en.wikipedia.org/w/index.php?title=List_of_Falcon_9_and_Falcon_Heavy_launches&oldid=1027686922\""
      ]
    },
    {
      "cell_type": "markdown",
      "metadata": {
        "id": "gAIM_5Ck2xj7"
      },
      "source": [
        "Next, request the HTML page from the above URL and get a `response` object\n"
      ]
    },
    {
      "cell_type": "markdown",
      "metadata": {
        "id": "ZCcf_sqD2xj7"
      },
      "source": [
        "### TASK 1: Request the Falcon9 Launch Wiki page from its URL\n"
      ]
    },
    {
      "cell_type": "markdown",
      "metadata": {
        "id": "sFQM9pC_2xj8"
      },
      "source": [
        "First, let's perform an HTTP GET method to request the Falcon9 Launch HTML page, as an HTTP response.\n"
      ]
    },
    {
      "cell_type": "code",
      "execution_count": 59,
      "metadata": {
        "id": "JxfVaKs92xj8"
      },
      "outputs": [],
      "source": [
        "# use requests.get() method with the provided static_url\n",
        "response=requests.get(static_url).text\n",
        "# assign the response to a object\n"
      ]
    },
    {
      "cell_type": "markdown",
      "metadata": {
        "id": "F8e0-rqO2xj9"
      },
      "source": [
        "Create a `BeautifulSoup` object from the HTML `response`\n"
      ]
    },
    {
      "cell_type": "code",
      "execution_count": 60,
      "metadata": {
        "id": "Nx06EVZW2xj9"
      },
      "outputs": [],
      "source": [
        "# Use BeautifulSoup() to create a BeautifulSoup object from a response text content\n",
        "soup = BeautifulSoup(response, \"html.parser\")\n"
      ]
    },
    {
      "cell_type": "markdown",
      "metadata": {
        "id": "slPpC8TM2xj-"
      },
      "source": [
        "Print the page title to verify if the `BeautifulSoup` object was created properly\n"
      ]
    },
    {
      "cell_type": "code",
      "execution_count": 61,
      "metadata": {
        "colab": {
          "base_uri": "https://localhost:8080/"
        },
        "id": "mc6XbXZg2xj-",
        "outputId": "e464c9af-cd76-41fe-c2c0-932132f8cf25"
      },
      "outputs": [
        {
          "output_type": "execute_result",
          "data": {
            "text/plain": [
              "<title>List of Falcon 9 and Falcon Heavy launches - Wikipedia</title>"
            ]
          },
          "metadata": {},
          "execution_count": 61
        }
      ],
      "source": [
        "# Use soup.title attribute\n",
        "soup.title"
      ]
    },
    {
      "cell_type": "markdown",
      "metadata": {
        "id": "2_00cTjB2xj-"
      },
      "source": [
        "### TASK 2: Extract all column/variable names from the HTML table header\n"
      ]
    },
    {
      "cell_type": "markdown",
      "metadata": {
        "id": "uyeZ6R1H2xj_"
      },
      "source": [
        "Next, we want to collect all relevant column names from the HTML table header\n"
      ]
    },
    {
      "cell_type": "markdown",
      "metadata": {
        "id": "sz6MVJC92xj_"
      },
      "source": [
        "Let's try to find all tables on the wiki page first. If you need to refresh your memory about `BeautifulSoup`, please check the external reference link towards the end of this lab\n"
      ]
    },
    {
      "cell_type": "code",
      "execution_count": 62,
      "metadata": {
        "id": "UDuaW_L52xj_"
      },
      "outputs": [],
      "source": [
        "# Use the find_all function in the BeautifulSoup object, with element type `table`\n",
        "# Assign the result to a list called `html_tables`\n",
        "html_tables=soup.find_all('table')"
      ]
    },
    {
      "cell_type": "markdown",
      "metadata": {
        "id": "cxigRhqV2xkA"
      },
      "source": [
        "Starting from the third table is our target table contains the actual launch records.\n"
      ]
    },
    {
      "cell_type": "code",
      "execution_count": null,
      "metadata": {
        "id": "Bk0fp7Q42xkA"
      },
      "outputs": [],
      "source": [
        "# Let's print the third table and check its content\n",
        "first_launch_table = html_tables[2]\n",
        "print(first_launch_table)"
      ]
    },
    {
      "cell_type": "markdown",
      "metadata": {
        "id": "p_u3ag_s2xkA"
      },
      "source": [
        "You should able to see the columns names embedded in the table header elements `<th>` as follows:\n"
      ]
    },
    {
      "cell_type": "markdown",
      "metadata": {
        "id": "72chf4wF2xkB"
      },
      "source": [
        "```\n",
        "<tr>\n",
        "<th scope=\"col\">Flight No.\n",
        "</th>\n",
        "<th scope=\"col\">Date and<br/>time (<a href=\"/wiki/Coordinated_Universal_Time\" title=\"Coordinated Universal Time\">UTC</a>)\n",
        "</th>\n",
        "<th scope=\"col\"><a href=\"/wiki/List_of_Falcon_9_first-stage_boosters\" title=\"List of Falcon 9 first-stage boosters\">Version,<br/>Booster</a> <sup class=\"reference\" id=\"cite_ref-booster_11-0\"><a href=\"#cite_note-booster-11\">[b]</a></sup>\n",
        "</th>\n",
        "<th scope=\"col\">Launch site\n",
        "</th>\n",
        "<th scope=\"col\">Payload<sup class=\"reference\" id=\"cite_ref-Dragon_12-0\"><a href=\"#cite_note-Dragon-12\">[c]</a></sup>\n",
        "</th>\n",
        "<th scope=\"col\">Payload mass\n",
        "</th>\n",
        "<th scope=\"col\">Orbit\n",
        "</th>\n",
        "<th scope=\"col\">Customer\n",
        "</th>\n",
        "<th scope=\"col\">Launch<br/>outcome\n",
        "</th>\n",
        "<th scope=\"col\"><a href=\"/wiki/Falcon_9_first-stage_landing_tests\" title=\"Falcon 9 first-stage landing tests\">Booster<br/>landing</a>\n",
        "</th></tr>\n",
        "```\n"
      ]
    },
    {
      "cell_type": "markdown",
      "source": [
        "**Scrape data from HTML tables into a DataFrame using BeautifulSoup and read_html**"
      ],
      "metadata": {
        "id": "JdT0b1EarFDI"
      }
    },
    {
      "cell_type": "code",
      "source": [
        "launch_records_data_read_html = pd.read_html(str(html_tables[2]), flavor='bs4')[0]\n",
        "launch_records_data_read_html"
      ],
      "metadata": {
        "colab": {
          "base_uri": "https://localhost:8080/",
          "height": 2198
        },
        "id": "vK6MX05dqFlm",
        "outputId": "80130454-8902-4638-e47f-b484cd82c515"
      },
      "execution_count": 64,
      "outputs": [
        {
          "output_type": "execute_result",
          "data": {
            "text/plain": [
              "    Flight No.                                 Date andtime (UTC)  \\\n",
              "0            1                                  4 June 2010,18:45   \n",
              "1            1  First flight of Falcon 9 v1.0.[11] Used a boil...   \n",
              "2            2                          8 December 2010,15:43[13]   \n",
              "3            2  Maiden flight of Dragon capsule, consisting of...   \n",
              "4            3                              22 May 2012,07:44[17]   \n",
              "5            3  Dragon spacecraft demonstrated a series of tes...   \n",
              "6            4                           8 October 2012,00:35[21]   \n",
              "7            4                           8 October 2012,00:35[21]   \n",
              "8            4  CRS-1 was successful, but the secondary payloa...   \n",
              "9            5                                 1 March 2013,15:10   \n",
              "10           5  Last launch of the original Falcon 9 v1.0 laun...   \n",
              "11           6                        29 September 2013,16:00[30]   \n",
              "12           6  First commercial mission with a private custom...   \n",
              "13           7                          3 December 2013,22:41[34]   \n",
              "14           7  First Geostationary transfer orbit (GTO) launc...   \n",
              "\n",
              "                                  Version,Booster [b]  \\\n",
              "0                                F9 v1.0[7]B0003.1[8]   \n",
              "1   First flight of Falcon 9 v1.0.[11] Used a boil...   \n",
              "2                                F9 v1.0[7]B0004.1[8]   \n",
              "3   Maiden flight of Dragon capsule, consisting of...   \n",
              "4                                F9 v1.0[7]B0005.1[8]   \n",
              "5   Dragon spacecraft demonstrated a series of tes...   \n",
              "6                                F9 v1.0[7]B0006.1[8]   \n",
              "7                                F9 v1.0[7]B0006.1[8]   \n",
              "8   CRS-1 was successful, but the secondary payloa...   \n",
              "9                                F9 v1.0[7]B0007.1[8]   \n",
              "10  Last launch of the original Falcon 9 v1.0 laun...   \n",
              "11                                 F9 v1.1[7]B1003[8]   \n",
              "12  First commercial mission with a private custom...   \n",
              "13                                       F9 v1.1B1004   \n",
              "14  First Geostationary transfer orbit (GTO) launc...   \n",
              "\n",
              "                                          Launch site  \\\n",
              "0                                        CCAFS,SLC-40   \n",
              "1   First flight of Falcon 9 v1.0.[11] Used a boil...   \n",
              "2                                        CCAFS,SLC-40   \n",
              "3   Maiden flight of Dragon capsule, consisting of...   \n",
              "4                                        CCAFS,SLC-40   \n",
              "5   Dragon spacecraft demonstrated a series of tes...   \n",
              "6                                        CCAFS,SLC-40   \n",
              "7                                        CCAFS,SLC-40   \n",
              "8   CRS-1 was successful, but the secondary payloa...   \n",
              "9                                        CCAFS,SLC-40   \n",
              "10  Last launch of the original Falcon 9 v1.0 laun...   \n",
              "11                                        VAFB,SLC-4E   \n",
              "12  First commercial mission with a private custom...   \n",
              "13                                       CCAFS,SLC-40   \n",
              "14  First Geostationary transfer orbit (GTO) launc...   \n",
              "\n",
              "                                           Payload[c]  \\\n",
              "0                Dragon Spacecraft Qualification Unit   \n",
              "1   First flight of Falcon 9 v1.0.[11] Used a boil...   \n",
              "2                  Dragon demo flight C1(Dragon C101)   \n",
              "3   Maiden flight of Dragon capsule, consisting of...   \n",
              "4             Dragon demo flight C2+[18](Dragon C102)   \n",
              "5   Dragon spacecraft demonstrated a series of tes...   \n",
              "6                       SpaceX CRS-1[22](Dragon C103)   \n",
              "7                                     Orbcomm-OG2[23]   \n",
              "8   CRS-1 was successful, but the secondary payloa...   \n",
              "9                       SpaceX CRS-2[22](Dragon C104)   \n",
              "10  Last launch of the original Falcon 9 v1.0 laun...   \n",
              "11                                   CASSIOPE[22][31]   \n",
              "12  First commercial mission with a private custom...   \n",
              "13                                  SES-8[22][35][36]   \n",
              "14  First Geostationary transfer orbit (GTO) launc...   \n",
              "\n",
              "                                         Payload mass  \\\n",
              "0                                                 NaN   \n",
              "1   First flight of Falcon 9 v1.0.[11] Used a boil...   \n",
              "2                                                 NaN   \n",
              "3   Maiden flight of Dragon capsule, consisting of...   \n",
              "4                               525 kg (1,157 lb)[19]   \n",
              "5   Dragon spacecraft demonstrated a series of tes...   \n",
              "6                                4,700 kg (10,400 lb)   \n",
              "7                                 172 kg (379 lb)[24]   \n",
              "8   CRS-1 was successful, but the secondary payloa...   \n",
              "9                                4,877 kg (10,752 lb)   \n",
              "10  Last launch of the original Falcon 9 v1.0 laun...   \n",
              "11                                  500 kg (1,100 lb)   \n",
              "12  First commercial mission with a private custom...   \n",
              "13                                3,170 kg (6,990 lb)   \n",
              "14  First Geostationary transfer orbit (GTO) launc...   \n",
              "\n",
              "                                                Orbit  \\\n",
              "0                                                 LEO   \n",
              "1   First flight of Falcon 9 v1.0.[11] Used a boil...   \n",
              "2                                           LEO (ISS)   \n",
              "3   Maiden flight of Dragon capsule, consisting of...   \n",
              "4                                           LEO (ISS)   \n",
              "5   Dragon spacecraft demonstrated a series of tes...   \n",
              "6                                           LEO (ISS)   \n",
              "7                                                 LEO   \n",
              "8   CRS-1 was successful, but the secondary payloa...   \n",
              "9                                           LEO (ISS)   \n",
              "10  Last launch of the original Falcon 9 v1.0 laun...   \n",
              "11                                    Polar orbit LEO   \n",
              "12  First commercial mission with a private custom...   \n",
              "13                                                GTO   \n",
              "14  First Geostationary transfer orbit (GTO) launc...   \n",
              "\n",
              "                                             Customer  \\\n",
              "0                                              SpaceX   \n",
              "1   First flight of Falcon 9 v1.0.[11] Used a boil...   \n",
              "2                                     NASA (COTS) NRO   \n",
              "3   Maiden flight of Dragon capsule, consisting of...   \n",
              "4                                         NASA (COTS)   \n",
              "5   Dragon spacecraft demonstrated a series of tes...   \n",
              "6                                          NASA (CRS)   \n",
              "7                                             Orbcomm   \n",
              "8   CRS-1 was successful, but the secondary payloa...   \n",
              "9                                          NASA (CRS)   \n",
              "10  Last launch of the original Falcon 9 v1.0 laun...   \n",
              "11                                                MDA   \n",
              "12  First commercial mission with a private custom...   \n",
              "13                                                SES   \n",
              "14  First Geostationary transfer orbit (GTO) launc...   \n",
              "\n",
              "                                        Launchoutcome  \\\n",
              "0                                             Success   \n",
              "1   First flight of Falcon 9 v1.0.[11] Used a boil...   \n",
              "2                                          Success[9]   \n",
              "3   Maiden flight of Dragon capsule, consisting of...   \n",
              "4                                         Success[20]   \n",
              "5   Dragon spacecraft demonstrated a series of tes...   \n",
              "6                                             Success   \n",
              "7                                 Partial failure[25]   \n",
              "8   CRS-1 was successful, but the secondary payloa...   \n",
              "9                                             Success   \n",
              "10  Last launch of the original Falcon 9 v1.0 laun...   \n",
              "11                                        Success[30]   \n",
              "12  First commercial mission with a private custom...   \n",
              "13                                        Success[37]   \n",
              "14  First Geostationary transfer orbit (GTO) launc...   \n",
              "\n",
              "                                       Boosterlanding  \n",
              "0                           Failure[9][10](parachute)  \n",
              "1   First flight of Falcon 9 v1.0.[11] Used a boil...  \n",
              "2                           Failure[9][14](parachute)  \n",
              "3   Maiden flight of Dragon capsule, consisting of...  \n",
              "4                                          No attempt  \n",
              "5   Dragon spacecraft demonstrated a series of tes...  \n",
              "6                                          No attempt  \n",
              "7                                          No attempt  \n",
              "8   CRS-1 was successful, but the secondary payloa...  \n",
              "9                                          No attempt  \n",
              "10  Last launch of the original Falcon 9 v1.0 laun...  \n",
              "11                             Uncontrolled(ocean)[d]  \n",
              "12  First commercial mission with a private custom...  \n",
              "13                                     No attempt[38]  \n",
              "14  First Geostationary transfer orbit (GTO) launc...  "
            ],
            "text/html": [
              "\n",
              "  <div id=\"df-835e78d4-b56b-4ba9-b723-2c7ddc8c04f0\">\n",
              "    <div class=\"colab-df-container\">\n",
              "      <div>\n",
              "<style scoped>\n",
              "    .dataframe tbody tr th:only-of-type {\n",
              "        vertical-align: middle;\n",
              "    }\n",
              "\n",
              "    .dataframe tbody tr th {\n",
              "        vertical-align: top;\n",
              "    }\n",
              "\n",
              "    .dataframe thead th {\n",
              "        text-align: right;\n",
              "    }\n",
              "</style>\n",
              "<table border=\"1\" class=\"dataframe\">\n",
              "  <thead>\n",
              "    <tr style=\"text-align: right;\">\n",
              "      <th></th>\n",
              "      <th>Flight No.</th>\n",
              "      <th>Date andtime (UTC)</th>\n",
              "      <th>Version,Booster [b]</th>\n",
              "      <th>Launch site</th>\n",
              "      <th>Payload[c]</th>\n",
              "      <th>Payload mass</th>\n",
              "      <th>Orbit</th>\n",
              "      <th>Customer</th>\n",
              "      <th>Launchoutcome</th>\n",
              "      <th>Boosterlanding</th>\n",
              "    </tr>\n",
              "  </thead>\n",
              "  <tbody>\n",
              "    <tr>\n",
              "      <th>0</th>\n",
              "      <td>1</td>\n",
              "      <td>4 June 2010,18:45</td>\n",
              "      <td>F9 v1.0[7]B0003.1[8]</td>\n",
              "      <td>CCAFS,SLC-40</td>\n",
              "      <td>Dragon Spacecraft Qualification Unit</td>\n",
              "      <td>NaN</td>\n",
              "      <td>LEO</td>\n",
              "      <td>SpaceX</td>\n",
              "      <td>Success</td>\n",
              "      <td>Failure[9][10](parachute)</td>\n",
              "    </tr>\n",
              "    <tr>\n",
              "      <th>1</th>\n",
              "      <td>1</td>\n",
              "      <td>First flight of Falcon 9 v1.0.[11] Used a boil...</td>\n",
              "      <td>First flight of Falcon 9 v1.0.[11] Used a boil...</td>\n",
              "      <td>First flight of Falcon 9 v1.0.[11] Used a boil...</td>\n",
              "      <td>First flight of Falcon 9 v1.0.[11] Used a boil...</td>\n",
              "      <td>First flight of Falcon 9 v1.0.[11] Used a boil...</td>\n",
              "      <td>First flight of Falcon 9 v1.0.[11] Used a boil...</td>\n",
              "      <td>First flight of Falcon 9 v1.0.[11] Used a boil...</td>\n",
              "      <td>First flight of Falcon 9 v1.0.[11] Used a boil...</td>\n",
              "      <td>First flight of Falcon 9 v1.0.[11] Used a boil...</td>\n",
              "    </tr>\n",
              "    <tr>\n",
              "      <th>2</th>\n",
              "      <td>2</td>\n",
              "      <td>8 December 2010,15:43[13]</td>\n",
              "      <td>F9 v1.0[7]B0004.1[8]</td>\n",
              "      <td>CCAFS,SLC-40</td>\n",
              "      <td>Dragon demo flight C1(Dragon C101)</td>\n",
              "      <td>NaN</td>\n",
              "      <td>LEO (ISS)</td>\n",
              "      <td>NASA (COTS) NRO</td>\n",
              "      <td>Success[9]</td>\n",
              "      <td>Failure[9][14](parachute)</td>\n",
              "    </tr>\n",
              "    <tr>\n",
              "      <th>3</th>\n",
              "      <td>2</td>\n",
              "      <td>Maiden flight of Dragon capsule, consisting of...</td>\n",
              "      <td>Maiden flight of Dragon capsule, consisting of...</td>\n",
              "      <td>Maiden flight of Dragon capsule, consisting of...</td>\n",
              "      <td>Maiden flight of Dragon capsule, consisting of...</td>\n",
              "      <td>Maiden flight of Dragon capsule, consisting of...</td>\n",
              "      <td>Maiden flight of Dragon capsule, consisting of...</td>\n",
              "      <td>Maiden flight of Dragon capsule, consisting of...</td>\n",
              "      <td>Maiden flight of Dragon capsule, consisting of...</td>\n",
              "      <td>Maiden flight of Dragon capsule, consisting of...</td>\n",
              "    </tr>\n",
              "    <tr>\n",
              "      <th>4</th>\n",
              "      <td>3</td>\n",
              "      <td>22 May 2012,07:44[17]</td>\n",
              "      <td>F9 v1.0[7]B0005.1[8]</td>\n",
              "      <td>CCAFS,SLC-40</td>\n",
              "      <td>Dragon demo flight C2+[18](Dragon C102)</td>\n",
              "      <td>525 kg (1,157 lb)[19]</td>\n",
              "      <td>LEO (ISS)</td>\n",
              "      <td>NASA (COTS)</td>\n",
              "      <td>Success[20]</td>\n",
              "      <td>No attempt</td>\n",
              "    </tr>\n",
              "    <tr>\n",
              "      <th>5</th>\n",
              "      <td>3</td>\n",
              "      <td>Dragon spacecraft demonstrated a series of tes...</td>\n",
              "      <td>Dragon spacecraft demonstrated a series of tes...</td>\n",
              "      <td>Dragon spacecraft demonstrated a series of tes...</td>\n",
              "      <td>Dragon spacecraft demonstrated a series of tes...</td>\n",
              "      <td>Dragon spacecraft demonstrated a series of tes...</td>\n",
              "      <td>Dragon spacecraft demonstrated a series of tes...</td>\n",
              "      <td>Dragon spacecraft demonstrated a series of tes...</td>\n",
              "      <td>Dragon spacecraft demonstrated a series of tes...</td>\n",
              "      <td>Dragon spacecraft demonstrated a series of tes...</td>\n",
              "    </tr>\n",
              "    <tr>\n",
              "      <th>6</th>\n",
              "      <td>4</td>\n",
              "      <td>8 October 2012,00:35[21]</td>\n",
              "      <td>F9 v1.0[7]B0006.1[8]</td>\n",
              "      <td>CCAFS,SLC-40</td>\n",
              "      <td>SpaceX CRS-1[22](Dragon C103)</td>\n",
              "      <td>4,700 kg (10,400 lb)</td>\n",
              "      <td>LEO (ISS)</td>\n",
              "      <td>NASA (CRS)</td>\n",
              "      <td>Success</td>\n",
              "      <td>No attempt</td>\n",
              "    </tr>\n",
              "    <tr>\n",
              "      <th>7</th>\n",
              "      <td>4</td>\n",
              "      <td>8 October 2012,00:35[21]</td>\n",
              "      <td>F9 v1.0[7]B0006.1[8]</td>\n",
              "      <td>CCAFS,SLC-40</td>\n",
              "      <td>Orbcomm-OG2[23]</td>\n",
              "      <td>172 kg (379 lb)[24]</td>\n",
              "      <td>LEO</td>\n",
              "      <td>Orbcomm</td>\n",
              "      <td>Partial failure[25]</td>\n",
              "      <td>No attempt</td>\n",
              "    </tr>\n",
              "    <tr>\n",
              "      <th>8</th>\n",
              "      <td>4</td>\n",
              "      <td>CRS-1 was successful, but the secondary payloa...</td>\n",
              "      <td>CRS-1 was successful, but the secondary payloa...</td>\n",
              "      <td>CRS-1 was successful, but the secondary payloa...</td>\n",
              "      <td>CRS-1 was successful, but the secondary payloa...</td>\n",
              "      <td>CRS-1 was successful, but the secondary payloa...</td>\n",
              "      <td>CRS-1 was successful, but the secondary payloa...</td>\n",
              "      <td>CRS-1 was successful, but the secondary payloa...</td>\n",
              "      <td>CRS-1 was successful, but the secondary payloa...</td>\n",
              "      <td>CRS-1 was successful, but the secondary payloa...</td>\n",
              "    </tr>\n",
              "    <tr>\n",
              "      <th>9</th>\n",
              "      <td>5</td>\n",
              "      <td>1 March 2013,15:10</td>\n",
              "      <td>F9 v1.0[7]B0007.1[8]</td>\n",
              "      <td>CCAFS,SLC-40</td>\n",
              "      <td>SpaceX CRS-2[22](Dragon C104)</td>\n",
              "      <td>4,877 kg (10,752 lb)</td>\n",
              "      <td>LEO (ISS)</td>\n",
              "      <td>NASA (CRS)</td>\n",
              "      <td>Success</td>\n",
              "      <td>No attempt</td>\n",
              "    </tr>\n",
              "    <tr>\n",
              "      <th>10</th>\n",
              "      <td>5</td>\n",
              "      <td>Last launch of the original Falcon 9 v1.0 laun...</td>\n",
              "      <td>Last launch of the original Falcon 9 v1.0 laun...</td>\n",
              "      <td>Last launch of the original Falcon 9 v1.0 laun...</td>\n",
              "      <td>Last launch of the original Falcon 9 v1.0 laun...</td>\n",
              "      <td>Last launch of the original Falcon 9 v1.0 laun...</td>\n",
              "      <td>Last launch of the original Falcon 9 v1.0 laun...</td>\n",
              "      <td>Last launch of the original Falcon 9 v1.0 laun...</td>\n",
              "      <td>Last launch of the original Falcon 9 v1.0 laun...</td>\n",
              "      <td>Last launch of the original Falcon 9 v1.0 laun...</td>\n",
              "    </tr>\n",
              "    <tr>\n",
              "      <th>11</th>\n",
              "      <td>6</td>\n",
              "      <td>29 September 2013,16:00[30]</td>\n",
              "      <td>F9 v1.1[7]B1003[8]</td>\n",
              "      <td>VAFB,SLC-4E</td>\n",
              "      <td>CASSIOPE[22][31]</td>\n",
              "      <td>500 kg (1,100 lb)</td>\n",
              "      <td>Polar orbit LEO</td>\n",
              "      <td>MDA</td>\n",
              "      <td>Success[30]</td>\n",
              "      <td>Uncontrolled(ocean)[d]</td>\n",
              "    </tr>\n",
              "    <tr>\n",
              "      <th>12</th>\n",
              "      <td>6</td>\n",
              "      <td>First commercial mission with a private custom...</td>\n",
              "      <td>First commercial mission with a private custom...</td>\n",
              "      <td>First commercial mission with a private custom...</td>\n",
              "      <td>First commercial mission with a private custom...</td>\n",
              "      <td>First commercial mission with a private custom...</td>\n",
              "      <td>First commercial mission with a private custom...</td>\n",
              "      <td>First commercial mission with a private custom...</td>\n",
              "      <td>First commercial mission with a private custom...</td>\n",
              "      <td>First commercial mission with a private custom...</td>\n",
              "    </tr>\n",
              "    <tr>\n",
              "      <th>13</th>\n",
              "      <td>7</td>\n",
              "      <td>3 December 2013,22:41[34]</td>\n",
              "      <td>F9 v1.1B1004</td>\n",
              "      <td>CCAFS,SLC-40</td>\n",
              "      <td>SES-8[22][35][36]</td>\n",
              "      <td>3,170 kg (6,990 lb)</td>\n",
              "      <td>GTO</td>\n",
              "      <td>SES</td>\n",
              "      <td>Success[37]</td>\n",
              "      <td>No attempt[38]</td>\n",
              "    </tr>\n",
              "    <tr>\n",
              "      <th>14</th>\n",
              "      <td>7</td>\n",
              "      <td>First Geostationary transfer orbit (GTO) launc...</td>\n",
              "      <td>First Geostationary transfer orbit (GTO) launc...</td>\n",
              "      <td>First Geostationary transfer orbit (GTO) launc...</td>\n",
              "      <td>First Geostationary transfer orbit (GTO) launc...</td>\n",
              "      <td>First Geostationary transfer orbit (GTO) launc...</td>\n",
              "      <td>First Geostationary transfer orbit (GTO) launc...</td>\n",
              "      <td>First Geostationary transfer orbit (GTO) launc...</td>\n",
              "      <td>First Geostationary transfer orbit (GTO) launc...</td>\n",
              "      <td>First Geostationary transfer orbit (GTO) launc...</td>\n",
              "    </tr>\n",
              "  </tbody>\n",
              "</table>\n",
              "</div>\n",
              "      <button class=\"colab-df-convert\" onclick=\"convertToInteractive('df-835e78d4-b56b-4ba9-b723-2c7ddc8c04f0')\"\n",
              "              title=\"Convert this dataframe to an interactive table.\"\n",
              "              style=\"display:none;\">\n",
              "        \n",
              "  <svg xmlns=\"http://www.w3.org/2000/svg\" height=\"24px\"viewBox=\"0 0 24 24\"\n",
              "       width=\"24px\">\n",
              "    <path d=\"M0 0h24v24H0V0z\" fill=\"none\"/>\n",
              "    <path d=\"M18.56 5.44l.94 2.06.94-2.06 2.06-.94-2.06-.94-.94-2.06-.94 2.06-2.06.94zm-11 1L8.5 8.5l.94-2.06 2.06-.94-2.06-.94L8.5 2.5l-.94 2.06-2.06.94zm10 10l.94 2.06.94-2.06 2.06-.94-2.06-.94-.94-2.06-.94 2.06-2.06.94z\"/><path d=\"M17.41 7.96l-1.37-1.37c-.4-.4-.92-.59-1.43-.59-.52 0-1.04.2-1.43.59L10.3 9.45l-7.72 7.72c-.78.78-.78 2.05 0 2.83L4 21.41c.39.39.9.59 1.41.59.51 0 1.02-.2 1.41-.59l7.78-7.78 2.81-2.81c.8-.78.8-2.07 0-2.86zM5.41 20L4 18.59l7.72-7.72 1.47 1.35L5.41 20z\"/>\n",
              "  </svg>\n",
              "      </button>\n",
              "      \n",
              "  <style>\n",
              "    .colab-df-container {\n",
              "      display:flex;\n",
              "      flex-wrap:wrap;\n",
              "      gap: 12px;\n",
              "    }\n",
              "\n",
              "    .colab-df-convert {\n",
              "      background-color: #E8F0FE;\n",
              "      border: none;\n",
              "      border-radius: 50%;\n",
              "      cursor: pointer;\n",
              "      display: none;\n",
              "      fill: #1967D2;\n",
              "      height: 32px;\n",
              "      padding: 0 0 0 0;\n",
              "      width: 32px;\n",
              "    }\n",
              "\n",
              "    .colab-df-convert:hover {\n",
              "      background-color: #E2EBFA;\n",
              "      box-shadow: 0px 1px 2px rgba(60, 64, 67, 0.3), 0px 1px 3px 1px rgba(60, 64, 67, 0.15);\n",
              "      fill: #174EA6;\n",
              "    }\n",
              "\n",
              "    [theme=dark] .colab-df-convert {\n",
              "      background-color: #3B4455;\n",
              "      fill: #D2E3FC;\n",
              "    }\n",
              "\n",
              "    [theme=dark] .colab-df-convert:hover {\n",
              "      background-color: #434B5C;\n",
              "      box-shadow: 0px 1px 3px 1px rgba(0, 0, 0, 0.15);\n",
              "      filter: drop-shadow(0px 1px 2px rgba(0, 0, 0, 0.3));\n",
              "      fill: #FFFFFF;\n",
              "    }\n",
              "  </style>\n",
              "\n",
              "      <script>\n",
              "        const buttonEl =\n",
              "          document.querySelector('#df-835e78d4-b56b-4ba9-b723-2c7ddc8c04f0 button.colab-df-convert');\n",
              "        buttonEl.style.display =\n",
              "          google.colab.kernel.accessAllowed ? 'block' : 'none';\n",
              "\n",
              "        async function convertToInteractive(key) {\n",
              "          const element = document.querySelector('#df-835e78d4-b56b-4ba9-b723-2c7ddc8c04f0');\n",
              "          const dataTable =\n",
              "            await google.colab.kernel.invokeFunction('convertToInteractive',\n",
              "                                                     [key], {});\n",
              "          if (!dataTable) return;\n",
              "\n",
              "          const docLinkHtml = 'Like what you see? Visit the ' +\n",
              "            '<a target=\"_blank\" href=https://colab.research.google.com/notebooks/data_table.ipynb>data table notebook</a>'\n",
              "            + ' to learn more about interactive tables.';\n",
              "          element.innerHTML = '';\n",
              "          dataTable['output_type'] = 'display_data';\n",
              "          await google.colab.output.renderOutput(dataTable, element);\n",
              "          const docLink = document.createElement('div');\n",
              "          docLink.innerHTML = docLinkHtml;\n",
              "          element.appendChild(docLink);\n",
              "        }\n",
              "      </script>\n",
              "    </div>\n",
              "  </div>\n",
              "  "
            ]
          },
          "metadata": {},
          "execution_count": 64
        }
      ]
    },
    {
      "cell_type": "markdown",
      "metadata": {
        "id": "P6BSQ3iG2xkB"
      },
      "source": [
        "Next, we just need to iterate through the `<th>` elements and apply the provided `extract_column_from_header()` to extract column name one by one\n"
      ]
    },
    {
      "cell_type": "code",
      "execution_count": 74,
      "metadata": {
        "id": "5USsqS3h2xkC"
      },
      "outputs": [],
      "source": [
        "column_names = []\n",
        "for row in html_tables[2].tbody.find_all(\"th\"):\n",
        "  if isinstance(extract_column_from_header(row),str)==True and len(extract_column_from_header(row))>0 :\n",
        "    column_names.append(extract_column_from_header(row))\n",
        "# Apply find_all() function with `th` element on first_launch_table\n",
        "\n",
        "# Iterate each th element and apply the provided extract_column_from_header() to get a column name\n",
        "# Append the Non-empty column name (`if name is not None and len(name) > 0`) into a list called column_names\n"
      ]
    },
    {
      "cell_type": "markdown",
      "metadata": {
        "id": "hWtFc0zD2xkC"
      },
      "source": [
        "Check the extracted column names\n"
      ]
    },
    {
      "cell_type": "code",
      "execution_count": 75,
      "metadata": {
        "colab": {
          "base_uri": "https://localhost:8080/"
        },
        "id": "muz7ojJX2xkC",
        "outputId": "ec7b86f6-eca2-468d-d6cb-2ed11c19585b"
      },
      "outputs": [
        {
          "output_type": "stream",
          "name": "stdout",
          "text": [
            "['Flight No.', 'Date and time ( )', 'Launch site', 'Payload', 'Payload mass', 'Orbit', 'Customer', 'Launch outcome']\n"
          ]
        }
      ],
      "source": [
        "print(column_names)"
      ]
    },
    {
      "cell_type": "markdown",
      "metadata": {
        "id": "MKh5qQx42xkD"
      },
      "source": [
        "## TASK 3: Create a data frame by parsing the launch HTML tables\n"
      ]
    },
    {
      "cell_type": "markdown",
      "metadata": {
        "id": "phCKzeFI2xkD"
      },
      "source": [
        "We will create an empty dictionary with keys from the extracted column names in the previous task. Later, this dictionary will be converted into a Pandas dataframe\n"
      ]
    },
    {
      "cell_type": "code",
      "execution_count": 133,
      "metadata": {
        "id": "izvm2euI2xkD"
      },
      "outputs": [],
      "source": [
        "launch_dict= dict.fromkeys(column_names)\n",
        "\n",
        "# Remove an irrelvant column\n",
        "del launch_dict['Date and time ( )']\n",
        "\n",
        "# Let's initial the launch_dict with each value to be an empty list\n",
        "launch_dict['Flight No.'] = []\n",
        "launch_dict['Launch site'] = []\n",
        "launch_dict['Payload'] = []\n",
        "launch_dict['Payload mass'] = []\n",
        "launch_dict['Orbit'] = []\n",
        "launch_dict['Customer'] = []\n",
        "launch_dict['Launch outcome'] = []\n",
        "# Added some new columns\n",
        "launch_dict['Version Booster']=[]\n",
        "launch_dict['Booster landing']=[]\n",
        "launch_dict['Date']=[]\n",
        "launch_dict['Time']=[]"
      ]
    },
    {
      "cell_type": "markdown",
      "metadata": {
        "id": "x0cn3Qm92xkE"
      },
      "source": [
        "Next, we just need to fill up the `launch_dict` with launch records extracted from table rows.\n"
      ]
    },
    {
      "cell_type": "markdown",
      "metadata": {
        "id": "NFmfvZGt2xkE"
      },
      "source": [
        "Usually, HTML tables in Wiki pages are likely to contain unexpected annotations and other types of noises, such as reference links `B0004.1[8]`, missing values `N/A [e]`, inconsistent formatting, etc.\n"
      ]
    },
    {
      "cell_type": "markdown",
      "metadata": {
        "id": "z3km4fWH2xkF"
      },
      "source": [
        "To simplify the parsing process, we have provided an incomplete code snippet below to help you to fill up the `launch_dict`. Please complete the following code snippet with TODOs or you can choose to write your own logic to parse all launch tables:\n"
      ]
    },
    {
      "cell_type": "code",
      "execution_count": 134,
      "metadata": {
        "id": "nGG6fa0j2xkF"
      },
      "outputs": [],
      "source": [
        "extracted_row = 0\n",
        "#Extract each table \n",
        "for table_number,table in enumerate(soup.find_all('table',\"wikitable plainrowheaders collapsible\")):\n",
        "   # get table row \n",
        "    for rows in table.find_all(\"tr\"):\n",
        "        #check to see if first table heading is as number corresponding to launch a number \n",
        "        if rows.th:\n",
        "            if rows.th.string:\n",
        "                flight_number=rows.th.string.strip()\n",
        "                flag=flight_number.isdigit()\n",
        "        else:\n",
        "            flag=False\n",
        "        #get table element \n",
        "        row=rows.find_all('td')\n",
        "        \n",
        "        #if it is number save cells in a dictonary \n",
        "        if flag:\n",
        "          \n",
        "            extracted_row += 1\n",
        "            # Flight Number value\n",
        "            # TODO: Append the flight_number into launch_dict with key `Flight No.`\n",
        "            launch_dict['Flight No.']=flight_number\n",
        "            #print(flight_number)\n",
        "            datatimelist=date_time(row[0])\n",
        "            \n",
        "            \n",
        "            # Date value\n",
        "            # TODO: Append the date into launch_dict with key `Date`\n",
        "            launch_dict['Date']=datatimelist\n",
        "            date = datatimelist[0].strip(',')\n",
        "            #print(date)\n",
        "            \n",
        "            # Time value\n",
        "            # TODO: Append the time into launch_dict with key `Time`\n",
        "            time = datatimelist[1]\n",
        "            launch_dict['Time']=time\n",
        "            #print(time)\n",
        "              \n",
        "            # Booster version\n",
        "            # TODO: Append the bv into launch_dict with key `Version Booster`\n",
        "            bv=booster_version(row[1])\n",
        "            launch_dict['Version Booster']=bv\n",
        "\n",
        "            if not(bv):\n",
        "                bv=row[1].a.string\n",
        "            #print(bv)\n",
        "            \n",
        "            # Launch Site\n",
        "            # TODO: Append the bv into launch_dict with key `Launch Site`\n",
        "            launch_site = row[2].a.string\n",
        "            launch_dict['Launch Site']=bv\n",
        "            #print(launch_site)\n",
        "            \n",
        "            # Payload\n",
        "            # TODO: Append the payload into launch_dict with key `Payload`\n",
        "            payload = row[3].a.string\n",
        "            launch_dict['Payload']=payload\n",
        "            \n",
        "            #print(payload)\n",
        "            \n",
        "            # Payload Mass\n",
        "            # TODO: Append the payload_mass into launch_dict with key `Payload mass`\n",
        "            payload_mass = get_mass(row[4])\n",
        "            launch_dict['Payload mass']=payload_mass\n",
        "            #print(payload)\n",
        "            \n",
        "            # Orbit\n",
        "            # TODO: Append the orbit into launch_dict with key `Orbit`\n",
        "            orbit = row[5].a.string\n",
        "            launch_dict['Orbit']=orbit\n",
        "            #print(orbit)\n",
        "            \n",
        "            # Customer\n",
        "            # TODO: Append the customer into launch_dict with key `Customer`\n",
        "\n",
        "            if (row[6].a is not None):\n",
        "                customer=row[6].a.string\n",
        "            else:\n",
        "                customer=row[6].string\n",
        "          \n",
        "            launch_dict['Customer'].append(customer)\n",
        "          \n",
        "            #print(customer)\n",
        "            \n",
        "            # Launch outcome\n",
        "            # TODO: Append the launch_outcome into launch_dict with key `Launch outcome`\n",
        "            launch_outcome = list(row[7].strings)[0]\n",
        "            launch_dict['Launch outcome']=launch_outcome\n",
        "            #print(launch_outcome)\n",
        "            \n",
        "            # Booster landing\n",
        "            # TODO: Append the launch_outcome into launch_dict with key `Booster landing`\n",
        "            booster_landing = landing_status(row[8])\n",
        "            launch_dict['Booster landing']=booster_landing\n",
        "            #print(booster_landing)\n",
        "            "
      ]
    },
    {
      "cell_type": "markdown",
      "metadata": {
        "id": "JBOcizGK2xkG"
      },
      "source": [
        "After you have fill in the parsed launch record values into `launch_dict`, you can create a dataframe from it.\n"
      ]
    },
    {
      "cell_type": "code",
      "execution_count": 135,
      "metadata": {
        "colab": {
          "base_uri": "https://localhost:8080/",
          "height": 709
        },
        "id": "j6Q615BQ2xkG",
        "outputId": "5cc9a456-04eb-4718-fc0d-eb610a5af69c"
      },
      "outputs": [
        {
          "output_type": "stream",
          "name": "stderr",
          "text": [
            "/usr/local/lib/python3.7/dist-packages/ipykernel_launcher.py:1: DeprecationWarning: The default dtype for empty Series will be 'object' instead of 'float64' in a future version. Specify a dtype explicitly to silence this warning.\n",
            "  \"\"\"Entry point for launching an IPython kernel.\n"
          ]
        },
        {
          "output_type": "execute_result",
          "data": {
            "text/plain": [
              "    Flight No.  Launch site Payload Payload mass Orbit   Customer  \\\n",
              "0          121          NaN   SXM-8     7,000 kg   GTO     SpaceX   \n",
              "1          NaN          NaN     NaN          NaN   NaN       NASA   \n",
              "2          NaN          NaN     NaN          NaN   NaN       NASA   \n",
              "3          NaN          NaN     NaN          NaN   NaN       NASA   \n",
              "4          NaN          NaN     NaN          NaN   NaN       NASA   \n",
              "..         ...          ...     ...          ...   ...        ...   \n",
              "116        NaN          NaN     NaN          NaN   NaN     SpaceX   \n",
              "117        NaN          NaN     NaN          NaN   NaN     SpaceX   \n",
              "118        NaN          NaN     NaN          NaN   NaN     SpaceX   \n",
              "119        NaN          NaN     NaN          NaN   NaN       NASA   \n",
              "120        NaN          NaN     NaN          NaN   NaN  Sirius XM   \n",
              "\n",
              "    Launch outcome Version Booster Booster landing         Date   Time  \\\n",
              "0        Success\\n           F9 B5         Success  6 June 2021  04:26   \n",
              "1              NaN             NaN             NaN        04:26    NaN   \n",
              "2              NaN             NaN             NaN          NaN    NaN   \n",
              "3              NaN             NaN             NaN          NaN    NaN   \n",
              "4              NaN             NaN             NaN          NaN    NaN   \n",
              "..             ...             ...             ...          ...    ...   \n",
              "116            NaN             NaN             NaN          NaN    NaN   \n",
              "117            NaN             NaN             NaN          NaN    NaN   \n",
              "118            NaN             NaN             NaN          NaN    NaN   \n",
              "119            NaN             NaN             NaN          NaN    NaN   \n",
              "120            NaN             NaN             NaN          NaN    NaN   \n",
              "\n",
              "    Launch Site  \n",
              "0         F9 B5  \n",
              "1           NaN  \n",
              "2           NaN  \n",
              "3           NaN  \n",
              "4           NaN  \n",
              "..          ...  \n",
              "116         NaN  \n",
              "117         NaN  \n",
              "118         NaN  \n",
              "119         NaN  \n",
              "120         NaN  \n",
              "\n",
              "[121 rows x 12 columns]"
            ],
            "text/html": [
              "\n",
              "  <div id=\"df-4520e7bc-0352-4222-a581-1396760ddf13\">\n",
              "    <div class=\"colab-df-container\">\n",
              "      <div>\n",
              "<style scoped>\n",
              "    .dataframe tbody tr th:only-of-type {\n",
              "        vertical-align: middle;\n",
              "    }\n",
              "\n",
              "    .dataframe tbody tr th {\n",
              "        vertical-align: top;\n",
              "    }\n",
              "\n",
              "    .dataframe thead th {\n",
              "        text-align: right;\n",
              "    }\n",
              "</style>\n",
              "<table border=\"1\" class=\"dataframe\">\n",
              "  <thead>\n",
              "    <tr style=\"text-align: right;\">\n",
              "      <th></th>\n",
              "      <th>Flight No.</th>\n",
              "      <th>Launch site</th>\n",
              "      <th>Payload</th>\n",
              "      <th>Payload mass</th>\n",
              "      <th>Orbit</th>\n",
              "      <th>Customer</th>\n",
              "      <th>Launch outcome</th>\n",
              "      <th>Version Booster</th>\n",
              "      <th>Booster landing</th>\n",
              "      <th>Date</th>\n",
              "      <th>Time</th>\n",
              "      <th>Launch Site</th>\n",
              "    </tr>\n",
              "  </thead>\n",
              "  <tbody>\n",
              "    <tr>\n",
              "      <th>0</th>\n",
              "      <td>121</td>\n",
              "      <td>NaN</td>\n",
              "      <td>SXM-8</td>\n",
              "      <td>7,000 kg</td>\n",
              "      <td>GTO</td>\n",
              "      <td>SpaceX</td>\n",
              "      <td>Success\\n</td>\n",
              "      <td>F9 B5</td>\n",
              "      <td>Success</td>\n",
              "      <td>6 June 2021</td>\n",
              "      <td>04:26</td>\n",
              "      <td>F9 B5</td>\n",
              "    </tr>\n",
              "    <tr>\n",
              "      <th>1</th>\n",
              "      <td>NaN</td>\n",
              "      <td>NaN</td>\n",
              "      <td>NaN</td>\n",
              "      <td>NaN</td>\n",
              "      <td>NaN</td>\n",
              "      <td>NASA</td>\n",
              "      <td>NaN</td>\n",
              "      <td>NaN</td>\n",
              "      <td>NaN</td>\n",
              "      <td>04:26</td>\n",
              "      <td>NaN</td>\n",
              "      <td>NaN</td>\n",
              "    </tr>\n",
              "    <tr>\n",
              "      <th>2</th>\n",
              "      <td>NaN</td>\n",
              "      <td>NaN</td>\n",
              "      <td>NaN</td>\n",
              "      <td>NaN</td>\n",
              "      <td>NaN</td>\n",
              "      <td>NASA</td>\n",
              "      <td>NaN</td>\n",
              "      <td>NaN</td>\n",
              "      <td>NaN</td>\n",
              "      <td>NaN</td>\n",
              "      <td>NaN</td>\n",
              "      <td>NaN</td>\n",
              "    </tr>\n",
              "    <tr>\n",
              "      <th>3</th>\n",
              "      <td>NaN</td>\n",
              "      <td>NaN</td>\n",
              "      <td>NaN</td>\n",
              "      <td>NaN</td>\n",
              "      <td>NaN</td>\n",
              "      <td>NASA</td>\n",
              "      <td>NaN</td>\n",
              "      <td>NaN</td>\n",
              "      <td>NaN</td>\n",
              "      <td>NaN</td>\n",
              "      <td>NaN</td>\n",
              "      <td>NaN</td>\n",
              "    </tr>\n",
              "    <tr>\n",
              "      <th>4</th>\n",
              "      <td>NaN</td>\n",
              "      <td>NaN</td>\n",
              "      <td>NaN</td>\n",
              "      <td>NaN</td>\n",
              "      <td>NaN</td>\n",
              "      <td>NASA</td>\n",
              "      <td>NaN</td>\n",
              "      <td>NaN</td>\n",
              "      <td>NaN</td>\n",
              "      <td>NaN</td>\n",
              "      <td>NaN</td>\n",
              "      <td>NaN</td>\n",
              "    </tr>\n",
              "    <tr>\n",
              "      <th>...</th>\n",
              "      <td>...</td>\n",
              "      <td>...</td>\n",
              "      <td>...</td>\n",
              "      <td>...</td>\n",
              "      <td>...</td>\n",
              "      <td>...</td>\n",
              "      <td>...</td>\n",
              "      <td>...</td>\n",
              "      <td>...</td>\n",
              "      <td>...</td>\n",
              "      <td>...</td>\n",
              "      <td>...</td>\n",
              "    </tr>\n",
              "    <tr>\n",
              "      <th>116</th>\n",
              "      <td>NaN</td>\n",
              "      <td>NaN</td>\n",
              "      <td>NaN</td>\n",
              "      <td>NaN</td>\n",
              "      <td>NaN</td>\n",
              "      <td>SpaceX</td>\n",
              "      <td>NaN</td>\n",
              "      <td>NaN</td>\n",
              "      <td>NaN</td>\n",
              "      <td>NaN</td>\n",
              "      <td>NaN</td>\n",
              "      <td>NaN</td>\n",
              "    </tr>\n",
              "    <tr>\n",
              "      <th>117</th>\n",
              "      <td>NaN</td>\n",
              "      <td>NaN</td>\n",
              "      <td>NaN</td>\n",
              "      <td>NaN</td>\n",
              "      <td>NaN</td>\n",
              "      <td>SpaceX</td>\n",
              "      <td>NaN</td>\n",
              "      <td>NaN</td>\n",
              "      <td>NaN</td>\n",
              "      <td>NaN</td>\n",
              "      <td>NaN</td>\n",
              "      <td>NaN</td>\n",
              "    </tr>\n",
              "    <tr>\n",
              "      <th>118</th>\n",
              "      <td>NaN</td>\n",
              "      <td>NaN</td>\n",
              "      <td>NaN</td>\n",
              "      <td>NaN</td>\n",
              "      <td>NaN</td>\n",
              "      <td>SpaceX</td>\n",
              "      <td>NaN</td>\n",
              "      <td>NaN</td>\n",
              "      <td>NaN</td>\n",
              "      <td>NaN</td>\n",
              "      <td>NaN</td>\n",
              "      <td>NaN</td>\n",
              "    </tr>\n",
              "    <tr>\n",
              "      <th>119</th>\n",
              "      <td>NaN</td>\n",
              "      <td>NaN</td>\n",
              "      <td>NaN</td>\n",
              "      <td>NaN</td>\n",
              "      <td>NaN</td>\n",
              "      <td>NASA</td>\n",
              "      <td>NaN</td>\n",
              "      <td>NaN</td>\n",
              "      <td>NaN</td>\n",
              "      <td>NaN</td>\n",
              "      <td>NaN</td>\n",
              "      <td>NaN</td>\n",
              "    </tr>\n",
              "    <tr>\n",
              "      <th>120</th>\n",
              "      <td>NaN</td>\n",
              "      <td>NaN</td>\n",
              "      <td>NaN</td>\n",
              "      <td>NaN</td>\n",
              "      <td>NaN</td>\n",
              "      <td>Sirius XM</td>\n",
              "      <td>NaN</td>\n",
              "      <td>NaN</td>\n",
              "      <td>NaN</td>\n",
              "      <td>NaN</td>\n",
              "      <td>NaN</td>\n",
              "      <td>NaN</td>\n",
              "    </tr>\n",
              "  </tbody>\n",
              "</table>\n",
              "<p>121 rows × 12 columns</p>\n",
              "</div>\n",
              "      <button class=\"colab-df-convert\" onclick=\"convertToInteractive('df-4520e7bc-0352-4222-a581-1396760ddf13')\"\n",
              "              title=\"Convert this dataframe to an interactive table.\"\n",
              "              style=\"display:none;\">\n",
              "        \n",
              "  <svg xmlns=\"http://www.w3.org/2000/svg\" height=\"24px\"viewBox=\"0 0 24 24\"\n",
              "       width=\"24px\">\n",
              "    <path d=\"M0 0h24v24H0V0z\" fill=\"none\"/>\n",
              "    <path d=\"M18.56 5.44l.94 2.06.94-2.06 2.06-.94-2.06-.94-.94-2.06-.94 2.06-2.06.94zm-11 1L8.5 8.5l.94-2.06 2.06-.94-2.06-.94L8.5 2.5l-.94 2.06-2.06.94zm10 10l.94 2.06.94-2.06 2.06-.94-2.06-.94-.94-2.06-.94 2.06-2.06.94z\"/><path d=\"M17.41 7.96l-1.37-1.37c-.4-.4-.92-.59-1.43-.59-.52 0-1.04.2-1.43.59L10.3 9.45l-7.72 7.72c-.78.78-.78 2.05 0 2.83L4 21.41c.39.39.9.59 1.41.59.51 0 1.02-.2 1.41-.59l7.78-7.78 2.81-2.81c.8-.78.8-2.07 0-2.86zM5.41 20L4 18.59l7.72-7.72 1.47 1.35L5.41 20z\"/>\n",
              "  </svg>\n",
              "      </button>\n",
              "      \n",
              "  <style>\n",
              "    .colab-df-container {\n",
              "      display:flex;\n",
              "      flex-wrap:wrap;\n",
              "      gap: 12px;\n",
              "    }\n",
              "\n",
              "    .colab-df-convert {\n",
              "      background-color: #E8F0FE;\n",
              "      border: none;\n",
              "      border-radius: 50%;\n",
              "      cursor: pointer;\n",
              "      display: none;\n",
              "      fill: #1967D2;\n",
              "      height: 32px;\n",
              "      padding: 0 0 0 0;\n",
              "      width: 32px;\n",
              "    }\n",
              "\n",
              "    .colab-df-convert:hover {\n",
              "      background-color: #E2EBFA;\n",
              "      box-shadow: 0px 1px 2px rgba(60, 64, 67, 0.3), 0px 1px 3px 1px rgba(60, 64, 67, 0.15);\n",
              "      fill: #174EA6;\n",
              "    }\n",
              "\n",
              "    [theme=dark] .colab-df-convert {\n",
              "      background-color: #3B4455;\n",
              "      fill: #D2E3FC;\n",
              "    }\n",
              "\n",
              "    [theme=dark] .colab-df-convert:hover {\n",
              "      background-color: #434B5C;\n",
              "      box-shadow: 0px 1px 3px 1px rgba(0, 0, 0, 0.15);\n",
              "      filter: drop-shadow(0px 1px 2px rgba(0, 0, 0, 0.3));\n",
              "      fill: #FFFFFF;\n",
              "    }\n",
              "  </style>\n",
              "\n",
              "      <script>\n",
              "        const buttonEl =\n",
              "          document.querySelector('#df-4520e7bc-0352-4222-a581-1396760ddf13 button.colab-df-convert');\n",
              "        buttonEl.style.display =\n",
              "          google.colab.kernel.accessAllowed ? 'block' : 'none';\n",
              "\n",
              "        async function convertToInteractive(key) {\n",
              "          const element = document.querySelector('#df-4520e7bc-0352-4222-a581-1396760ddf13');\n",
              "          const dataTable =\n",
              "            await google.colab.kernel.invokeFunction('convertToInteractive',\n",
              "                                                     [key], {});\n",
              "          if (!dataTable) return;\n",
              "\n",
              "          const docLinkHtml = 'Like what you see? Visit the ' +\n",
              "            '<a target=\"_blank\" href=https://colab.research.google.com/notebooks/data_table.ipynb>data table notebook</a>'\n",
              "            + ' to learn more about interactive tables.';\n",
              "          element.innerHTML = '';\n",
              "          dataTable['output_type'] = 'display_data';\n",
              "          await google.colab.output.renderOutput(dataTable, element);\n",
              "          const docLink = document.createElement('div');\n",
              "          docLink.innerHTML = docLinkHtml;\n",
              "          element.appendChild(docLink);\n",
              "        }\n",
              "      </script>\n",
              "    </div>\n",
              "  </div>\n",
              "  "
            ]
          },
          "metadata": {},
          "execution_count": 135
        }
      ],
      "source": [
        "df= pd.DataFrame({ key:pd.Series(value) for key, value in launch_dict.items() })\n",
        "df"
      ]
    },
    {
      "cell_type": "markdown",
      "metadata": {
        "id": "-Ev92dTb2xkH"
      },
      "source": [
        "We can now export it to a <b>CSV</b> for the next section, but to make the answers consistent and in case you have difficulties finishing this lab.\n",
        "\n",
        "Following labs will be using a provided dataset to make each lab independent.\n"
      ]
    },
    {
      "cell_type": "markdown",
      "metadata": {
        "id": "RP9oX03v2xkH"
      },
      "source": [
        "<code>df.to_csv('spacex_web_scraped.csv', index=False)</code>\n"
      ]
    },
    {
      "cell_type": "markdown",
      "metadata": {
        "id": "5utCRgoN2xkH"
      },
      "source": [
        "## Authors\n"
      ]
    },
    {
      "cell_type": "markdown",
      "metadata": {
        "id": "ziLSoxt82xkH"
      },
      "source": [
        "<a href=\"https://www.linkedin.com/in/yan-luo-96288783/?utm_medium=Exinfluencer&utm_source=Exinfluencer&utm_content=000026UJ&utm_term=10006555&utm_id=NA-SkillsNetwork-Channel-SkillsNetworkCoursesIBMDS0321ENSkillsNetwork26802033-2022-01-01\">Yan Luo</a>\n"
      ]
    },
    {
      "cell_type": "markdown",
      "metadata": {
        "id": "M3Z97B1A2xkI"
      },
      "source": [
        "<a href=\"https://www.linkedin.com/in/nayefaboutayoun/?utm_medium=Exinfluencer&utm_source=Exinfluencer&utm_content=000026UJ&utm_term=10006555&utm_id=NA-SkillsNetwork-Channel-SkillsNetworkCoursesIBMDS0321ENSkillsNetwork26802033-2022-01-01\">Nayef Abou Tayoun</a>\n"
      ]
    },
    {
      "cell_type": "markdown",
      "metadata": {
        "id": "Vx0-hkY12xkI"
      },
      "source": [
        "## Change Log\n"
      ]
    },
    {
      "cell_type": "markdown",
      "metadata": {
        "id": "v44MpByh2xkI"
      },
      "source": [
        "| Date (YYYY-MM-DD) | Version | Changed By | Change Description          |\n",
        "| ----------------- | ------- | ---------- | --------------------------- |\n",
        "| 2021-06-09        | 1.0     | Yan Luo    | Tasks updates               |\n",
        "| 2020-11-10        | 1.0     | Nayef      | Created the initial version |\n"
      ]
    },
    {
      "cell_type": "markdown",
      "metadata": {
        "id": "Gse8QO5_2xkJ"
      },
      "source": [
        "Copyright © 2021 IBM Corporation. All rights reserved.\n"
      ]
    }
  ],
  "metadata": {
    "kernelspec": {
      "display_name": "Python 3",
      "language": "python",
      "name": "python3"
    },
    "language_info": {
      "codemirror_mode": {
        "name": "ipython",
        "version": 3
      },
      "file_extension": ".py",
      "mimetype": "text/x-python",
      "name": "python",
      "nbconvert_exporter": "python",
      "pygments_lexer": "ipython3",
      "version": "3.8.8"
    },
    "colab": {
      "provenance": [],
      "include_colab_link": true
    }
  },
  "nbformat": 4,
  "nbformat_minor": 0
}